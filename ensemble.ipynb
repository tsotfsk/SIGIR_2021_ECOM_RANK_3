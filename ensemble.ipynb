{
 "cells": [
  {
   "cell_type": "code",
   "execution_count": 1,
   "metadata": {},
   "outputs": [],
   "source": [
    "import random\n",
    "import time\n",
    "\n",
    "import models\n",
    "import numpy as np\n",
    "import pandas as pd\n",
    "import torch\n",
    "import pickle"
   ]
  },
  {
   "cell_type": "code",
   "execution_count": 2,
   "metadata": {},
   "outputs": [],
   "source": [
    "with open('./dw_i-i_test_result.pkl', 'rb') as f:\n",
    "    dw_i2i = pickle.load(f)"
   ]
  },
  {
   "cell_type": "code",
   "execution_count": 3,
   "metadata": {},
   "outputs": [],
   "source": [
    "with open('./dw_test_result.pkl', 'rb') as f:\n",
    "    dw = pickle.load(f)"
   ]
  },
  {
   "cell_type": "code",
   "execution_count": 4,
   "metadata": {},
   "outputs": [],
   "source": [
    "with open('./rand_test_result.pkl', 'rb') as f:\n",
    "    rand = pickle.load(f)"
   ]
  },
  {
   "cell_type": "code",
   "execution_count": 5,
   "metadata": {},
   "outputs": [],
   "source": [
    "with open('./txt_test_result.pkl', 'rb') as f:\n",
    "    txt = pickle.load(f)"
   ]
  },
  {
   "cell_type": "code",
   "execution_count": 6,
   "metadata": {},
   "outputs": [],
   "source": [
    "results = {\n",
    "    'dw': dw,\n",
    "    'dw_i2i': dw_i2i,\n",
    "    'rand': rand,\n",
    "    'txt': txt\n",
    "}"
   ]
  },
  {
   "cell_type": "code",
   "execution_count": 7,
   "metadata": {},
   "outputs": [],
   "source": [
    "dfs = []\n",
    "for name, gru in results.items():\n",
    "    scores = torch.from_numpy(gru[2])\n",
    "    scores = torch.softmax(scores, dim=1)\n",
    "    gru_result = pd.DataFrame({\n",
    "        'sess_id': gru[0].repeat(100),\n",
    "        'sku_id': gru[1].flatten(),\n",
    "        f'{name}_scores': scores.numpy().flatten()\n",
    "    })\n",
    "    dfs\n",
    "    dfs.append(gru_result)"
   ]
  },
  {
   "cell_type": "code",
   "execution_count": 8,
   "metadata": {},
   "outputs": [],
   "source": [
    "mix=None\n",
    "for method in dfs[1:]:\n",
    "    if mix is None:\n",
    "        mix = dfs[0].merge(method, on=['sess_id', 'sku_id'], how='outer')\n",
    "    else:\n",
    "        mix = mix.merge(method, on=['sess_id', 'sku_id'], how='outer')\n",
    "mix.fillna(0, inplace=True)"
   ]
  },
  {
   "cell_type": "code",
   "execution_count": 9,
   "metadata": {},
   "outputs": [
    {
     "data": {
      "text/html": [
       "<div>\n",
       "<style scoped>\n",
       "    .dataframe tbody tr th:only-of-type {\n",
       "        vertical-align: middle;\n",
       "    }\n",
       "\n",
       "    .dataframe tbody tr th {\n",
       "        vertical-align: top;\n",
       "    }\n",
       "\n",
       "    .dataframe thead th {\n",
       "        text-align: right;\n",
       "    }\n",
       "</style>\n",
       "<table border=\"1\" class=\"dataframe\">\n",
       "  <thead>\n",
       "    <tr style=\"text-align: right;\">\n",
       "      <th></th>\n",
       "      <th>sess_id</th>\n",
       "      <th>sku_id</th>\n",
       "      <th>dw_scores</th>\n",
       "      <th>dw_i2i_scores</th>\n",
       "      <th>rand_scores</th>\n",
       "      <th>txt_scores</th>\n",
       "    </tr>\n",
       "  </thead>\n",
       "  <tbody>\n",
       "    <tr>\n",
       "      <th>0</th>\n",
       "      <td>5076755</td>\n",
       "      <td>29056</td>\n",
       "      <td>0.311003</td>\n",
       "      <td>0.280207</td>\n",
       "      <td>0.261168</td>\n",
       "      <td>0.201701</td>\n",
       "    </tr>\n",
       "    <tr>\n",
       "      <th>1</th>\n",
       "      <td>5076755</td>\n",
       "      <td>47338</td>\n",
       "      <td>0.160307</td>\n",
       "      <td>0.176452</td>\n",
       "      <td>0.214327</td>\n",
       "      <td>0.171656</td>\n",
       "    </tr>\n",
       "    <tr>\n",
       "      <th>2</th>\n",
       "      <td>5076755</td>\n",
       "      <td>33952</td>\n",
       "      <td>0.096435</td>\n",
       "      <td>0.138846</td>\n",
       "      <td>0.107644</td>\n",
       "      <td>0.128306</td>\n",
       "    </tr>\n",
       "    <tr>\n",
       "      <th>3</th>\n",
       "      <td>5076755</td>\n",
       "      <td>46257</td>\n",
       "      <td>0.093429</td>\n",
       "      <td>0.101615</td>\n",
       "      <td>0.078498</td>\n",
       "      <td>0.099906</td>\n",
       "    </tr>\n",
       "    <tr>\n",
       "      <th>4</th>\n",
       "      <td>5076755</td>\n",
       "      <td>15616</td>\n",
       "      <td>0.052467</td>\n",
       "      <td>0.037509</td>\n",
       "      <td>0.036763</td>\n",
       "      <td>0.058752</td>\n",
       "    </tr>\n",
       "    <tr>\n",
       "      <th>...</th>\n",
       "      <td>...</td>\n",
       "      <td>...</td>\n",
       "      <td>...</td>\n",
       "      <td>...</td>\n",
       "      <td>...</td>\n",
       "      <td>...</td>\n",
       "    </tr>\n",
       "    <tr>\n",
       "      <th>40047211</th>\n",
       "      <td>5408428</td>\n",
       "      <td>14616</td>\n",
       "      <td>0.000000</td>\n",
       "      <td>0.000000</td>\n",
       "      <td>0.000000</td>\n",
       "      <td>0.001654</td>\n",
       "    </tr>\n",
       "    <tr>\n",
       "      <th>40047212</th>\n",
       "      <td>5408428</td>\n",
       "      <td>9794</td>\n",
       "      <td>0.000000</td>\n",
       "      <td>0.000000</td>\n",
       "      <td>0.000000</td>\n",
       "      <td>0.001631</td>\n",
       "    </tr>\n",
       "    <tr>\n",
       "      <th>40047213</th>\n",
       "      <td>5408428</td>\n",
       "      <td>11540</td>\n",
       "      <td>0.000000</td>\n",
       "      <td>0.000000</td>\n",
       "      <td>0.000000</td>\n",
       "      <td>0.001587</td>\n",
       "    </tr>\n",
       "    <tr>\n",
       "      <th>40047214</th>\n",
       "      <td>5408428</td>\n",
       "      <td>16896</td>\n",
       "      <td>0.000000</td>\n",
       "      <td>0.000000</td>\n",
       "      <td>0.000000</td>\n",
       "      <td>0.001583</td>\n",
       "    </tr>\n",
       "    <tr>\n",
       "      <th>40047215</th>\n",
       "      <td>5408428</td>\n",
       "      <td>55442</td>\n",
       "      <td>0.000000</td>\n",
       "      <td>0.000000</td>\n",
       "      <td>0.000000</td>\n",
       "      <td>0.001582</td>\n",
       "    </tr>\n",
       "  </tbody>\n",
       "</table>\n",
       "<p>40047216 rows × 6 columns</p>\n",
       "</div>"
      ],
      "text/plain": [
       "          sess_id  sku_id  dw_scores  dw_i2i_scores  rand_scores  txt_scores\n",
       "0         5076755   29056   0.311003       0.280207     0.261168    0.201701\n",
       "1         5076755   47338   0.160307       0.176452     0.214327    0.171656\n",
       "2         5076755   33952   0.096435       0.138846     0.107644    0.128306\n",
       "3         5076755   46257   0.093429       0.101615     0.078498    0.099906\n",
       "4         5076755   15616   0.052467       0.037509     0.036763    0.058752\n",
       "...           ...     ...        ...            ...          ...         ...\n",
       "40047211  5408428   14616   0.000000       0.000000     0.000000    0.001654\n",
       "40047212  5408428    9794   0.000000       0.000000     0.000000    0.001631\n",
       "40047213  5408428   11540   0.000000       0.000000     0.000000    0.001587\n",
       "40047214  5408428   16896   0.000000       0.000000     0.000000    0.001583\n",
       "40047215  5408428   55442   0.000000       0.000000     0.000000    0.001582\n",
       "\n",
       "[40047216 rows x 6 columns]"
      ]
     },
     "execution_count": 9,
     "metadata": {},
     "output_type": "execute_result"
    }
   ],
   "source": [
    "mix"
   ]
  },
  {
   "cell_type": "code",
   "execution_count": 10,
   "metadata": {},
   "outputs": [],
   "source": [
    "mix['scores'] = mix['dw_scores'] * 0.5 + mix['dw_i2i_scores'] * 0.5 + mix['rand_scores'] * 0.3 + mix['txt_scores'] * 0.3\n",
    "mix.sort_values('scores', ascending=False, inplace=True)"
   ]
  },
  {
   "cell_type": "code",
   "execution_count": 11,
   "metadata": {},
   "outputs": [
    {
     "data": {
      "text/html": [
       "<div>\n",
       "<style scoped>\n",
       "    .dataframe tbody tr th:only-of-type {\n",
       "        vertical-align: middle;\n",
       "    }\n",
       "\n",
       "    .dataframe tbody tr th {\n",
       "        vertical-align: top;\n",
       "    }\n",
       "\n",
       "    .dataframe thead th {\n",
       "        text-align: right;\n",
       "    }\n",
       "</style>\n",
       "<table border=\"1\" class=\"dataframe\">\n",
       "  <thead>\n",
       "    <tr style=\"text-align: right;\">\n",
       "      <th></th>\n",
       "      <th>sess_id</th>\n",
       "      <th>sku_id</th>\n",
       "      <th>dw_scores</th>\n",
       "      <th>dw_i2i_scores</th>\n",
       "      <th>rand_scores</th>\n",
       "      <th>txt_scores</th>\n",
       "      <th>scores</th>\n",
       "    </tr>\n",
       "  </thead>\n",
       "  <tbody>\n",
       "    <tr>\n",
       "      <th>13615100</th>\n",
       "      <td>5277530</td>\n",
       "      <td>2670</td>\n",
       "      <td>0.984904</td>\n",
       "      <td>0.983736</td>\n",
       "      <td>0.949967</td>\n",
       "      <td>0.922346</td>\n",
       "      <td>1.546014e+00</td>\n",
       "    </tr>\n",
       "    <tr>\n",
       "      <th>8275400</th>\n",
       "      <td>5198847</td>\n",
       "      <td>2670</td>\n",
       "      <td>0.984904</td>\n",
       "      <td>0.983736</td>\n",
       "      <td>0.949967</td>\n",
       "      <td>0.922346</td>\n",
       "      <td>1.546014e+00</td>\n",
       "    </tr>\n",
       "    <tr>\n",
       "      <th>7896700</th>\n",
       "      <td>5193269</td>\n",
       "      <td>2670</td>\n",
       "      <td>0.964781</td>\n",
       "      <td>0.984404</td>\n",
       "      <td>0.915739</td>\n",
       "      <td>0.917005</td>\n",
       "      <td>1.524416e+00</td>\n",
       "    </tr>\n",
       "    <tr>\n",
       "      <th>10856700</th>\n",
       "      <td>5237014</td>\n",
       "      <td>38553</td>\n",
       "      <td>0.946147</td>\n",
       "      <td>0.906409</td>\n",
       "      <td>0.912797</td>\n",
       "      <td>0.870733</td>\n",
       "      <td>1.461337e+00</td>\n",
       "    </tr>\n",
       "    <tr>\n",
       "      <th>4024100</th>\n",
       "      <td>5136028</td>\n",
       "      <td>38553</td>\n",
       "      <td>0.946147</td>\n",
       "      <td>0.906409</td>\n",
       "      <td>0.912797</td>\n",
       "      <td>0.870733</td>\n",
       "      <td>1.461337e+00</td>\n",
       "    </tr>\n",
       "    <tr>\n",
       "      <th>...</th>\n",
       "      <td>...</td>\n",
       "      <td>...</td>\n",
       "      <td>...</td>\n",
       "      <td>...</td>\n",
       "      <td>...</td>\n",
       "      <td>...</td>\n",
       "      <td>...</td>\n",
       "    </tr>\n",
       "    <tr>\n",
       "      <th>29999217</th>\n",
       "      <td>5130063</td>\n",
       "      <td>41840</td>\n",
       "      <td>0.000000</td>\n",
       "      <td>0.000000</td>\n",
       "      <td>0.000002</td>\n",
       "      <td>0.000000</td>\n",
       "      <td>6.372613e-07</td>\n",
       "    </tr>\n",
       "    <tr>\n",
       "      <th>29999218</th>\n",
       "      <td>5130063</td>\n",
       "      <td>23030</td>\n",
       "      <td>0.000000</td>\n",
       "      <td>0.000000</td>\n",
       "      <td>0.000002</td>\n",
       "      <td>0.000000</td>\n",
       "      <td>6.350675e-07</td>\n",
       "    </tr>\n",
       "    <tr>\n",
       "      <th>29999219</th>\n",
       "      <td>5130063</td>\n",
       "      <td>20500</td>\n",
       "      <td>0.000000</td>\n",
       "      <td>0.000000</td>\n",
       "      <td>0.000002</td>\n",
       "      <td>0.000000</td>\n",
       "      <td>6.279179e-07</td>\n",
       "    </tr>\n",
       "    <tr>\n",
       "      <th>29999220</th>\n",
       "      <td>5130063</td>\n",
       "      <td>36263</td>\n",
       "      <td>0.000000</td>\n",
       "      <td>0.000000</td>\n",
       "      <td>0.000002</td>\n",
       "      <td>0.000000</td>\n",
       "      <td>6.215121e-07</td>\n",
       "    </tr>\n",
       "    <tr>\n",
       "      <th>29999221</th>\n",
       "      <td>5130063</td>\n",
       "      <td>23970</td>\n",
       "      <td>0.000000</td>\n",
       "      <td>0.000000</td>\n",
       "      <td>0.000002</td>\n",
       "      <td>0.000000</td>\n",
       "      <td>6.164967e-07</td>\n",
       "    </tr>\n",
       "  </tbody>\n",
       "</table>\n",
       "<p>40047216 rows × 7 columns</p>\n",
       "</div>"
      ],
      "text/plain": [
       "          sess_id  sku_id  dw_scores  dw_i2i_scores  rand_scores  txt_scores  \\\n",
       "13615100  5277530    2670   0.984904       0.983736     0.949967    0.922346   \n",
       "8275400   5198847    2670   0.984904       0.983736     0.949967    0.922346   \n",
       "7896700   5193269    2670   0.964781       0.984404     0.915739    0.917005   \n",
       "10856700  5237014   38553   0.946147       0.906409     0.912797    0.870733   \n",
       "4024100   5136028   38553   0.946147       0.906409     0.912797    0.870733   \n",
       "...           ...     ...        ...            ...          ...         ...   \n",
       "29999217  5130063   41840   0.000000       0.000000     0.000002    0.000000   \n",
       "29999218  5130063   23030   0.000000       0.000000     0.000002    0.000000   \n",
       "29999219  5130063   20500   0.000000       0.000000     0.000002    0.000000   \n",
       "29999220  5130063   36263   0.000000       0.000000     0.000002    0.000000   \n",
       "29999221  5130063   23970   0.000000       0.000000     0.000002    0.000000   \n",
       "\n",
       "                scores  \n",
       "13615100  1.546014e+00  \n",
       "8275400   1.546014e+00  \n",
       "7896700   1.524416e+00  \n",
       "10856700  1.461337e+00  \n",
       "4024100   1.461337e+00  \n",
       "...                ...  \n",
       "29999217  6.372613e-07  \n",
       "29999218  6.350675e-07  \n",
       "29999219  6.279179e-07  \n",
       "29999220  6.215121e-07  \n",
       "29999221  6.164967e-07  \n",
       "\n",
       "[40047216 rows x 7 columns]"
      ]
     },
     "execution_count": 11,
     "metadata": {},
     "output_type": "execute_result"
    }
   ],
   "source": [
    "mix"
   ]
  },
  {
   "cell_type": "code",
   "execution_count": 12,
   "metadata": {},
   "outputs": [],
   "source": [
    "result = mix"
   ]
  },
  {
   "cell_type": "code",
   "execution_count": 13,
   "metadata": {},
   "outputs": [],
   "source": [
    "sub_result = result.groupby('sess_id', as_index=False).apply(lambda x: x.head(20)).reset_index()\n",
    "sub_result = sub_result.groupby('sess_id')['sku_id'].agg(list).reset_index()"
   ]
  },
  {
   "cell_type": "code",
   "execution_count": 14,
   "metadata": {},
   "outputs": [],
   "source": [
    "uids = sub_result['sess_id'].values\n",
    "iids = sub_result['sku_id'].values"
   ]
  },
  {
   "cell_type": "code",
   "execution_count": 15,
   "metadata": {},
   "outputs": [],
   "source": [
    "import json\n",
    "import tqdm"
   ]
  },
  {
   "cell_type": "code",
   "execution_count": 16,
   "metadata": {},
   "outputs": [],
   "source": [
    "class EasyDict():\n",
    "    def __init__(self, d):\n",
    "        for k, v in d.items():\n",
    "            setattr(self, k, v)\n"
   ]
  },
  {
   "cell_type": "code",
   "execution_count": 17,
   "metadata": {},
   "outputs": [
    {
     "name": "stderr",
     "output_type": "stream",
     "text": [
      "100%|██████████| 332247/332247 [00:12<00:00, 26089.77it/s]"
     ]
    },
    {
     "name": "stdout",
     "output_type": "stream",
     "text": [
      "缺失比例:0.001724620538334432\n"
     ]
    },
    {
     "name": "stderr",
     "output_type": "stream",
     "text": [
      "\n"
     ]
    }
   ],
   "source": [
    "with open('./dataset/raw/rec_test_phase_2.json') as json_file:\n",
    "        # read the test cases from the provided file\n",
    "        test_queries = json.load(json_file)\n",
    "\n",
    "with open('./dataset/new/map_info.pkl', 'rb') as f:\n",
    "    # read the test cases from the provided file\n",
    "    info = EasyDict(pickle.load(f))\n",
    "\n",
    "with open('./results/deepwalk_i_s_u.pkl', 'rb') as f:\n",
    "    # read the test cases from the provided file\n",
    "    dw_uids, dw_iids = pickle.load(f)\n",
    "\n",
    "uids = [info.idx2sess[uid] for uid in uids]\n",
    "iids = [[info.idx2item[iid] for iid in ilst] for ilst in iids]\n",
    "preds = dict(zip(uids, iids))\n",
    "\n",
    "dw_uids = [info.idx2sess[uid] for uid in dw_uids]\n",
    "dw_iids = [[info.idx2item[iid] for iid in ilst] for ilst in dw_iids]\n",
    "dw_preds = dict(zip(dw_uids, dw_iids))\n",
    "\n",
    "all_items = list(info.item2idx.keys())\n",
    "my_predictions = []\n",
    "missing = 0\n",
    "for t in tqdm.tqdm(test_queries, total=len(test_queries)):\n",
    "    # this is our prediction, which defaults to a random SKU\n",
    "    next_sku = np.random.choice(len(all_items), 20)\n",
    "    next_sku = [info.idx2item[iid] for iid in next_sku]\n",
    "    # copy the test case\n",
    "    _pred = dict(t)\n",
    "\n",
    "    session_id_hash = t['query'][0]['session_id_hash']\n",
    "    if session_id_hash in preds:\n",
    "        next_sku = preds[session_id_hash]\n",
    "    elif session_id_hash in dw_preds:\n",
    "        next_sku = dw_preds[session_id_hash]\n",
    "    else:\n",
    "        missing += 1\n",
    "\n",
    "    # assert isinstance(next_sku, str)\n",
    "\n",
    "    # append the label - which needs to be a list\n",
    "    _pred[\"label\"] = next_sku\n",
    "    # append prediction to the final list\n",
    "    my_predictions.append(_pred)\n",
    "\n",
    "print('缺失比例:{}'.format(missing / len(test_queries)))"
   ]
  },
  {
   "cell_type": "code",
   "execution_count": 18,
   "metadata": {},
   "outputs": [],
   "source": [
    "# name the prediction file according to the README specs\n",
    "local_prediction_file = '{}_{}.json'.format(\n",
    "    'tsotfsk_bupt.edu.cn', round(time.time() * 1000))\n",
    "\n",
    "# dump to file\n",
    "with open(local_prediction_file, 'w') as outfile:\n",
    "    json.dump(my_predictions, outfile, indent=2)"
   ]
  },
  {
   "cell_type": "code",
   "execution_count": 19,
   "metadata": {},
   "outputs": [
    {
     "data": {
      "text/plain": [
       "'tsotfsk_bupt.edu.cn_1623973634959.json'"
      ]
     },
     "execution_count": 19,
     "metadata": {},
     "output_type": "execute_result"
    }
   ],
   "source": [
    "local_prediction_file"
   ]
  },
  {
   "cell_type": "code",
   "execution_count": null,
   "metadata": {},
   "outputs": [],
   "source": [
    "#     # finally, upload the test file using the provided script\n",
    "#     upload_submission(local_file=local_prediction_file, task='rec')\n",
    "#     # bye bye\n",
    "#     print(\"\\nAll done at {}: see you, space cowboy!\".format(\n",
    "#         datetime.datetime.utcnow()))"
   ]
  }
 ],
 "metadata": {
  "kernelspec": {
   "display_name": "torch",
   "language": "python",
   "name": "torch"
  },
  "language_info": {
   "codemirror_mode": {
    "name": "ipython",
    "version": 3
   },
   "file_extension": ".py",
   "mimetype": "text/x-python",
   "name": "python",
   "nbconvert_exporter": "python",
   "pygments_lexer": "ipython3",
   "version": "3.7.8"
  }
 },
 "nbformat": 4,
 "nbformat_minor": 4
}
