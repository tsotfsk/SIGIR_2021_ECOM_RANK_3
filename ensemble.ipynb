{
 "cells": [
  {
   "cell_type": "code",
   "execution_count": 1,
   "metadata": {},
   "outputs": [],
   "source": [
    "import random\n",
    "import time\n",
    "import json\n",
    "import tqdm\n",
    "import models\n",
    "import numpy as np\n",
    "import pandas as pd\n",
    "import torch\n",
    "import pickle"
   ]
  },
  {
   "cell_type": "code",
   "execution_count": 2,
   "metadata": {},
   "outputs": [],
   "source": [
    "with open('./dw_i-i_test_result.pkl', 'rb') as f:\n",
    "    dw_i2i = pickle.load(f)"
   ]
  },
  {
   "cell_type": "code",
   "execution_count": 3,
   "metadata": {},
   "outputs": [],
   "source": [
    "with open('./dw_test_result.pkl', 'rb') as f:\n",
    "    dw = pickle.load(f)"
   ]
  },
  {
   "cell_type": "code",
   "execution_count": 4,
   "metadata": {},
   "outputs": [],
   "source": [
    "with open('./rand_test_result.pkl', 'rb') as f:\n",
    "    rand = pickle.load(f)"
   ]
  },
  {
   "cell_type": "code",
   "execution_count": 5,
   "metadata": {},
   "outputs": [],
   "source": [
    "with open('./txt_test_result.pkl', 'rb') as f:\n",
    "    txt = pickle.load(f)"
   ]
  },
  {
   "cell_type": "code",
   "execution_count": 6,
   "metadata": {},
   "outputs": [],
   "source": [
    "results = {\n",
    "    'dw': dw,\n",
    "    'dw_i2i': dw_i2i,\n",
    "    'rand': rand,\n",
    "    'txt': txt\n",
    "}"
   ]
  },
  {
   "cell_type": "code",
   "execution_count": 7,
   "metadata": {},
   "outputs": [],
   "source": [
    "dfs = []\n",
    "for name, gru in results.items():\n",
    "    scores = torch.from_numpy(gru[2])\n",
    "    scores = torch.softmax(scores, dim=1)\n",
    "    gru_result = pd.DataFrame({\n",
    "        'sess_id': gru[0].repeat(100),\n",
    "        'sku_id': gru[1].flatten(),\n",
    "        f'{name}_scores': scores.numpy().flatten()\n",
    "    })\n",
    "    dfs\n",
    "    dfs.append(gru_result)"
   ]
  },
  {
   "cell_type": "code",
   "execution_count": 8,
   "metadata": {},
   "outputs": [],
   "source": [
    "mix=None\n",
    "for method in dfs[1:]:\n",
    "    if mix is None:\n",
    "        mix = dfs[0].merge(method, on=['sess_id', 'sku_id'], how='outer')\n",
    "    else:\n",
    "        mix = mix.merge(method, on=['sess_id', 'sku_id'], how='outer')\n",
    "mix.fillna(0, inplace=True)"
   ]
  },
  {
   "cell_type": "code",
   "execution_count": 10,
   "metadata": {},
   "outputs": [],
   "source": [
    "mix['scores'] = mix['dw_scores'] * 0.5 + mix['dw_i2i_scores'] * 0.5 + mix['rand_scores'] * 0.3 + mix['txt_scores'] * 0.3\n",
    "mix.sort_values('scores', ascending=False, inplace=True)"
   ]
  },
  {
   "cell_type": "code",
   "execution_count": 12,
   "metadata": {},
   "outputs": [],
   "source": [
    "result = mix"
   ]
  },
  {
   "cell_type": "code",
   "execution_count": 13,
   "metadata": {},
   "outputs": [],
   "source": [
    "sub_result = result.groupby('sess_id', as_index=False).apply(lambda x: x.head(20)).reset_index()\n",
    "sub_result = sub_result.groupby('sess_id')['sku_id'].agg(list).reset_index()"
   ]
  },
  {
   "cell_type": "code",
   "execution_count": 14,
   "metadata": {},
   "outputs": [],
   "source": [
    "uids = sub_result['sess_id'].values\n",
    "iids = sub_result['sku_id'].values"
   ]
  },
  {
   "cell_type": "code",
   "execution_count": 16,
   "metadata": {},
   "outputs": [],
   "source": [
    "class EasyDict():\n",
    "    def __init__(self, d):\n",
    "        for k, v in d.items():\n",
    "            setattr(self, k, v)\n"
   ]
  },
  {
   "cell_type": "code",
   "execution_count": 17,
   "metadata": {},
   "outputs": [
    {
     "name": "stderr",
     "output_type": "stream",
     "text": [
      "100%|██████████| 332247/332247 [00:12<00:00, 26089.77it/s]"
     ]
    },
    {
     "name": "stdout",
     "output_type": "stream",
     "text": [
      "缺失比例:0.001724620538334432\n"
     ]
    },
    {
     "name": "stderr",
     "output_type": "stream",
     "text": [
      "\n"
     ]
    }
   ],
   "source": [
    "with open('./dataset/raw/rec_test_phase_2.json') as json_file:\n",
    "        # read the test cases from the provided file\n",
    "        test_queries = json.load(json_file)\n",
    "\n",
    "with open('./dataset/new/map_info.pkl', 'rb') as f:\n",
    "    # read the test cases from the provided file\n",
    "    info = EasyDict(pickle.load(f))\n",
    "\n",
    "with open('./results/deepwalk_i_s_u.pkl', 'rb') as f:\n",
    "    # read the test cases from the provided file\n",
    "    dw_uids, dw_iids = pickle.load(f)\n",
    "\n",
    "uids = [info.idx2sess[uid] for uid in uids]\n",
    "iids = [[info.idx2item[iid] for iid in ilst] for ilst in iids]\n",
    "preds = dict(zip(uids, iids))\n",
    "\n",
    "dw_uids = [info.idx2sess[uid] for uid in dw_uids]\n",
    "dw_iids = [[info.idx2item[iid] for iid in ilst] for ilst in dw_iids]\n",
    "dw_preds = dict(zip(dw_uids, dw_iids))\n",
    "\n",
    "all_items = list(info.item2idx.keys())\n",
    "my_predictions = []\n",
    "missing = 0\n",
    "for t in tqdm.tqdm(test_queries, total=len(test_queries)):\n",
    "    # this is our prediction, which defaults to a random SKU\n",
    "    next_sku = np.random.choice(len(all_items), 20)\n",
    "    next_sku = [info.idx2item[iid] for iid in next_sku]\n",
    "    # copy the test case\n",
    "    _pred = dict(t)\n",
    "\n",
    "    session_id_hash = t['query'][0]['session_id_hash']\n",
    "    if session_id_hash in preds:\n",
    "        next_sku = preds[session_id_hash]\n",
    "    elif session_id_hash in dw_preds:\n",
    "        next_sku = dw_preds[session_id_hash]\n",
    "    else:\n",
    "        missing += 1\n",
    "\n",
    "    # assert isinstance(next_sku, str)\n",
    "\n",
    "    # append the label - which needs to be a list\n",
    "    _pred[\"label\"] = next_sku\n",
    "    # append prediction to the final list\n",
    "    my_predictions.append(_pred)\n",
    "\n",
    "print('缺失比例:{}'.format(missing / len(test_queries)))"
   ]
  },
  {
   "cell_type": "code",
   "execution_count": 18,
   "metadata": {},
   "outputs": [],
   "source": [
    "# name the prediction file according to the README specs\n",
    "local_prediction_file = '{}_{}.json'.format(\n",
    "    'tsotfsk_bupt.edu.cn', round(time.time() * 1000))\n",
    "\n",
    "# dump to file\n",
    "with open(local_prediction_file, 'w') as outfile:\n",
    "    json.dump(my_predictions, outfile, indent=2)"
   ]
  }
 ],
 "metadata": {
  "kernelspec": {
   "display_name": "torch",
   "language": "python",
   "name": "torch"
  },
  "language_info": {
   "codemirror_mode": {
    "name": "ipython",
    "version": 3
   },
   "file_extension": ".py",
   "mimetype": "text/x-python",
   "name": "python",
   "nbconvert_exporter": "python",
   "pygments_lexer": "ipython3",
   "version": "3.7.8"
  }
 },
 "nbformat": 4,
 "nbformat_minor": 4
}
