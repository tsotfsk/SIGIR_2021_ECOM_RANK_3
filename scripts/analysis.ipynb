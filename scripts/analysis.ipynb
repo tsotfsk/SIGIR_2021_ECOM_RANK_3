{
 "cells": [
  {
   "cell_type": "code",
   "execution_count": 1,
   "metadata": {},
   "outputs": [],
   "source": [
    "import pandas as pd\n",
    "import numpy as np"
   ]
  },
  {
   "cell_type": "code",
   "execution_count": 2,
   "metadata": {},
   "outputs": [
    {
     "name": "stdout",
     "output_type": "stream",
     "text": [
      "(36079307, 6)\n"
     ]
    },
    {
     "data": {
      "text/html": [
       "<div>\n",
       "<style scoped>\n",
       "    .dataframe tbody tr th:only-of-type {\n",
       "        vertical-align: middle;\n",
       "    }\n",
       "\n",
       "    .dataframe tbody tr th {\n",
       "        vertical-align: top;\n",
       "    }\n",
       "\n",
       "    .dataframe thead th {\n",
       "        text-align: right;\n",
       "    }\n",
       "</style>\n",
       "<table border=\"1\" class=\"dataframe\">\n",
       "  <thead>\n",
       "    <tr style=\"text-align: right;\">\n",
       "      <th></th>\n",
       "      <th>session_id_hash</th>\n",
       "      <th>event_type</th>\n",
       "      <th>product_action</th>\n",
       "      <th>product_sku_hash</th>\n",
       "      <th>server_timestamp_epoch_ms</th>\n",
       "      <th>hashed_url</th>\n",
       "    </tr>\n",
       "  </thead>\n",
       "  <tbody>\n",
       "    <tr>\n",
       "      <th>0</th>\n",
       "      <td>20c458b802f6ea9374783bfc528b19421be977a6769785...</td>\n",
       "      <td>event_product</td>\n",
       "      <td>detail</td>\n",
       "      <td>d5157f8bc52965390fa21ad5842a8502bc3eb8b0930f3f...</td>\n",
       "      <td>1550885210881</td>\n",
       "      <td>7e4527ac6a32deed4f4f06bb7c49b907b7ca371e59d57d...</td>\n",
       "    </tr>\n",
       "    <tr>\n",
       "      <th>1</th>\n",
       "      <td>20c458b802f6ea9374783bfc528b19421be977a6769785...</td>\n",
       "      <td>event_product</td>\n",
       "      <td>detail</td>\n",
       "      <td>61ef3869355b78e11011f39fc7ac8f8dfb209b3442a9d5...</td>\n",
       "      <td>1550885213307</td>\n",
       "      <td>4ed279f4f0deab6dfc80f4f7bf49d527fd894fa478a9ce...</td>\n",
       "    </tr>\n",
       "    <tr>\n",
       "      <th>2</th>\n",
       "      <td>20c458b802f6ea9374783bfc528b19421be977a6769785...</td>\n",
       "      <td>pageview</td>\n",
       "      <td>NaN</td>\n",
       "      <td>NaN</td>\n",
       "      <td>1550885213307</td>\n",
       "      <td>4ed279f4f0deab6dfc80f4f7bf49d527fd894fa478a9ce...</td>\n",
       "    </tr>\n",
       "    <tr>\n",
       "      <th>3</th>\n",
       "      <td>20c458b802f6ea9374783bfc528b19421be977a6769785...</td>\n",
       "      <td>event_product</td>\n",
       "      <td>detail</td>\n",
       "      <td>d5157f8bc52965390fa21ad5842a8502bc3eb8b0930f3f...</td>\n",
       "      <td>1550885215484</td>\n",
       "      <td>7e4527ac6a32deed4f4f06bb7c49b907b7ca371e59d57d...</td>\n",
       "    </tr>\n",
       "    <tr>\n",
       "      <th>4</th>\n",
       "      <td>20c458b802f6ea9374783bfc528b19421be977a6769785...</td>\n",
       "      <td>pageview</td>\n",
       "      <td>NaN</td>\n",
       "      <td>NaN</td>\n",
       "      <td>1550885215484</td>\n",
       "      <td>7e4527ac6a32deed4f4f06bb7c49b907b7ca371e59d57d...</td>\n",
       "    </tr>\n",
       "  </tbody>\n",
       "</table>\n",
       "</div>"
      ],
      "text/plain": [
       "                                     session_id_hash     event_type  \\\n",
       "0  20c458b802f6ea9374783bfc528b19421be977a6769785...  event_product   \n",
       "1  20c458b802f6ea9374783bfc528b19421be977a6769785...  event_product   \n",
       "2  20c458b802f6ea9374783bfc528b19421be977a6769785...       pageview   \n",
       "3  20c458b802f6ea9374783bfc528b19421be977a6769785...  event_product   \n",
       "4  20c458b802f6ea9374783bfc528b19421be977a6769785...       pageview   \n",
       "\n",
       "  product_action                                   product_sku_hash  \\\n",
       "0         detail  d5157f8bc52965390fa21ad5842a8502bc3eb8b0930f3f...   \n",
       "1         detail  61ef3869355b78e11011f39fc7ac8f8dfb209b3442a9d5...   \n",
       "2            NaN                                                NaN   \n",
       "3         detail  d5157f8bc52965390fa21ad5842a8502bc3eb8b0930f3f...   \n",
       "4            NaN                                                NaN   \n",
       "\n",
       "   server_timestamp_epoch_ms  \\\n",
       "0              1550885210881   \n",
       "1              1550885213307   \n",
       "2              1550885213307   \n",
       "3              1550885215484   \n",
       "4              1550885215484   \n",
       "\n",
       "                                          hashed_url  \n",
       "0  7e4527ac6a32deed4f4f06bb7c49b907b7ca371e59d57d...  \n",
       "1  4ed279f4f0deab6dfc80f4f7bf49d527fd894fa478a9ce...  \n",
       "2  4ed279f4f0deab6dfc80f4f7bf49d527fd894fa478a9ce...  \n",
       "3  7e4527ac6a32deed4f4f06bb7c49b907b7ca371e59d57d...  \n",
       "4  7e4527ac6a32deed4f4f06bb7c49b907b7ca371e59d57d...  "
      ]
     },
     "execution_count": 2,
     "metadata": {},
     "output_type": "execute_result"
    }
   ],
   "source": [
    "train = pd.read_csv('../dataset/raw/browsing_train.csv')\n",
    "print(train.shape)\n",
    "train.head()"
   ]
  },
  {
   "cell_type": "code",
   "execution_count": 28,
   "metadata": {},
   "outputs": [],
   "source": [
    "sess_map = {n:i for i,n in enumerate(pd.factorize(train['session_id_hash'])[1])}"
   ]
  },
  {
   "cell_type": "code",
   "execution_count": 3,
   "metadata": {},
   "outputs": [
    {
     "name": "stdout",
     "output_type": "stream",
     "text": [
      "(66386, 5)\n"
     ]
    },
    {
     "data": {
      "text/html": [
       "<div>\n",
       "<style scoped>\n",
       "    .dataframe tbody tr th:only-of-type {\n",
       "        vertical-align: middle;\n",
       "    }\n",
       "\n",
       "    .dataframe tbody tr th {\n",
       "        vertical-align: top;\n",
       "    }\n",
       "\n",
       "    .dataframe thead th {\n",
       "        text-align: right;\n",
       "    }\n",
       "</style>\n",
       "<table border=\"1\" class=\"dataframe\">\n",
       "  <thead>\n",
       "    <tr style=\"text-align: right;\">\n",
       "      <th></th>\n",
       "      <th>product_sku_hash</th>\n",
       "      <th>description_vector</th>\n",
       "      <th>category_hash</th>\n",
       "      <th>image_vector</th>\n",
       "      <th>price_bucket</th>\n",
       "    </tr>\n",
       "  </thead>\n",
       "  <tbody>\n",
       "    <tr>\n",
       "      <th>0</th>\n",
       "      <td>26ce7b47f4c46e4087e83e54d2f7ddc7ea57862fed2e2a...</td>\n",
       "      <td>NaN</td>\n",
       "      <td>NaN</td>\n",
       "      <td>NaN</td>\n",
       "      <td>NaN</td>\n",
       "    </tr>\n",
       "    <tr>\n",
       "      <th>1</th>\n",
       "      <td>6383992be772b204a9ab75f86c86f5583d1bdd1222952d...</td>\n",
       "      <td>NaN</td>\n",
       "      <td>NaN</td>\n",
       "      <td>NaN</td>\n",
       "      <td>NaN</td>\n",
       "    </tr>\n",
       "    <tr>\n",
       "      <th>2</th>\n",
       "      <td>a2c3e2430c6ef9770b903ad08fa067a6b2b9db28f06e1b...</td>\n",
       "      <td>[0.27629122138023376, -0.15763211250305176, 0....</td>\n",
       "      <td>06fa312761d4b39e2f649781514ac69a4c1505c221fc46...</td>\n",
       "      <td>[340.3592564184389, -220.19025864725685, 154.0...</td>\n",
       "      <td>7.0</td>\n",
       "    </tr>\n",
       "    <tr>\n",
       "      <th>3</th>\n",
       "      <td>1028ef615e425c328e7b95010dfb1fb93cf63749a1bc80...</td>\n",
       "      <td>[0.4058118760585785, -0.03595402091741562, 0.2...</td>\n",
       "      <td>115a6a7017ee55752b8487c77dfde92b0d501d10a2e69c...</td>\n",
       "      <td>[180.3463662921092, 222.702322343354, -8.88703...</td>\n",
       "      <td>8.0</td>\n",
       "    </tr>\n",
       "    <tr>\n",
       "      <th>4</th>\n",
       "      <td>9870c682d0d52d635501249da0eeaa118fad430b695ea1...</td>\n",
       "      <td>[-0.3206155300140381, 0.01991105079650879, 0.0...</td>\n",
       "      <td>0665a81d19c89281cc00e7f7d779ded2ed42c933838602...</td>\n",
       "      <td>[-114.81079301576219, 84.55770104232334, 85.51...</td>\n",
       "      <td>2.0</td>\n",
       "    </tr>\n",
       "  </tbody>\n",
       "</table>\n",
       "</div>"
      ],
      "text/plain": [
       "                                    product_sku_hash  \\\n",
       "0  26ce7b47f4c46e4087e83e54d2f7ddc7ea57862fed2e2a...   \n",
       "1  6383992be772b204a9ab75f86c86f5583d1bdd1222952d...   \n",
       "2  a2c3e2430c6ef9770b903ad08fa067a6b2b9db28f06e1b...   \n",
       "3  1028ef615e425c328e7b95010dfb1fb93cf63749a1bc80...   \n",
       "4  9870c682d0d52d635501249da0eeaa118fad430b695ea1...   \n",
       "\n",
       "                                  description_vector  \\\n",
       "0                                                NaN   \n",
       "1                                                NaN   \n",
       "2  [0.27629122138023376, -0.15763211250305176, 0....   \n",
       "3  [0.4058118760585785, -0.03595402091741562, 0.2...   \n",
       "4  [-0.3206155300140381, 0.01991105079650879, 0.0...   \n",
       "\n",
       "                                       category_hash  \\\n",
       "0                                                NaN   \n",
       "1                                                NaN   \n",
       "2  06fa312761d4b39e2f649781514ac69a4c1505c221fc46...   \n",
       "3  115a6a7017ee55752b8487c77dfde92b0d501d10a2e69c...   \n",
       "4  0665a81d19c89281cc00e7f7d779ded2ed42c933838602...   \n",
       "\n",
       "                                        image_vector  price_bucket  \n",
       "0                                                NaN           NaN  \n",
       "1                                                NaN           NaN  \n",
       "2  [340.3592564184389, -220.19025864725685, 154.0...           7.0  \n",
       "3  [180.3463662921092, 222.702322343354, -8.88703...           8.0  \n",
       "4  [-114.81079301576219, 84.55770104232334, 85.51...           2.0  "
      ]
     },
     "execution_count": 3,
     "metadata": {},
     "output_type": "execute_result"
    }
   ],
   "source": [
    "info = pd.read_csv('../dataset/raw/sku_to_content.csv')\n",
    "print(info.shape)\n",
    "info.head()"
   ]
  },
  {
   "cell_type": "code",
   "execution_count": 4,
   "metadata": {},
   "outputs": [
    {
     "name": "stdout",
     "output_type": "stream",
     "text": [
      "(819516, 5)\n"
     ]
    },
    {
     "data": {
      "text/html": [
       "<div>\n",
       "<style scoped>\n",
       "    .dataframe tbody tr th:only-of-type {\n",
       "        vertical-align: middle;\n",
       "    }\n",
       "\n",
       "    .dataframe tbody tr th {\n",
       "        vertical-align: top;\n",
       "    }\n",
       "\n",
       "    .dataframe thead th {\n",
       "        text-align: right;\n",
       "    }\n",
       "</style>\n",
       "<table border=\"1\" class=\"dataframe\">\n",
       "  <thead>\n",
       "    <tr style=\"text-align: right;\">\n",
       "      <th></th>\n",
       "      <th>session_id_hash</th>\n",
       "      <th>query_vector</th>\n",
       "      <th>clicked_skus_hash</th>\n",
       "      <th>product_skus_hash</th>\n",
       "      <th>server_timestamp_epoch_ms</th>\n",
       "    </tr>\n",
       "  </thead>\n",
       "  <tbody>\n",
       "    <tr>\n",
       "      <th>0</th>\n",
       "      <td>48fade624d47870058ce07dd789ccc04e46c70c0fa2a1b...</td>\n",
       "      <td>[-0.20255649089813232, -0.016908567398786545, ...</td>\n",
       "      <td>NaN</td>\n",
       "      <td>NaN</td>\n",
       "      <td>1548575194779</td>\n",
       "    </tr>\n",
       "    <tr>\n",
       "      <th>1</th>\n",
       "      <td>8731ca84ff7bb8cb647531d54e64feedb2519b4a7792a7...</td>\n",
       "      <td>[-0.007610442116856575, -0.14909175038337708, ...</td>\n",
       "      <td>NaN</td>\n",
       "      <td>['9ee9ffd7e2529a65f9a0b0c9eaae6330df85cf2e3af3...</td>\n",
       "      <td>1548276763869</td>\n",
       "    </tr>\n",
       "    <tr>\n",
       "      <th>2</th>\n",
       "      <td>9be980708345944960645d03606ea83b637cae9106b705...</td>\n",
       "      <td>[-0.20023074746131897, -0.03151938319206238, 0...</td>\n",
       "      <td>NaN</td>\n",
       "      <td>['7cc72dbed53bab78ec6a62feaa5052a7a1db7d201664...</td>\n",
       "      <td>1548937997295</td>\n",
       "    </tr>\n",
       "    <tr>\n",
       "      <th>3</th>\n",
       "      <td>9be980708345944960645d03606ea83b637cae9106b705...</td>\n",
       "      <td>[-0.18556387722492218, -0.07620412111282349, 0...</td>\n",
       "      <td>NaN</td>\n",
       "      <td>['62c4ddab6c1c81c74d315376b3c0dc7768c0286b3dc6...</td>\n",
       "      <td>1548938038268</td>\n",
       "    </tr>\n",
       "    <tr>\n",
       "      <th>4</th>\n",
       "      <td>9be980708345944960645d03606ea83b637cae9106b705...</td>\n",
       "      <td>[-0.03269264101982117, -0.27234694361686707, 0...</td>\n",
       "      <td>NaN</td>\n",
       "      <td>['2a0ee2924feabeec35e21e8fcb4d5b0684d190e46cef...</td>\n",
       "      <td>1548938093827</td>\n",
       "    </tr>\n",
       "  </tbody>\n",
       "</table>\n",
       "</div>"
      ],
      "text/plain": [
       "                                     session_id_hash  \\\n",
       "0  48fade624d47870058ce07dd789ccc04e46c70c0fa2a1b...   \n",
       "1  8731ca84ff7bb8cb647531d54e64feedb2519b4a7792a7...   \n",
       "2  9be980708345944960645d03606ea83b637cae9106b705...   \n",
       "3  9be980708345944960645d03606ea83b637cae9106b705...   \n",
       "4  9be980708345944960645d03606ea83b637cae9106b705...   \n",
       "\n",
       "                                        query_vector clicked_skus_hash  \\\n",
       "0  [-0.20255649089813232, -0.016908567398786545, ...               NaN   \n",
       "1  [-0.007610442116856575, -0.14909175038337708, ...               NaN   \n",
       "2  [-0.20023074746131897, -0.03151938319206238, 0...               NaN   \n",
       "3  [-0.18556387722492218, -0.07620412111282349, 0...               NaN   \n",
       "4  [-0.03269264101982117, -0.27234694361686707, 0...               NaN   \n",
       "\n",
       "                                   product_skus_hash  \\\n",
       "0                                                NaN   \n",
       "1  ['9ee9ffd7e2529a65f9a0b0c9eaae6330df85cf2e3af3...   \n",
       "2  ['7cc72dbed53bab78ec6a62feaa5052a7a1db7d201664...   \n",
       "3  ['62c4ddab6c1c81c74d315376b3c0dc7768c0286b3dc6...   \n",
       "4  ['2a0ee2924feabeec35e21e8fcb4d5b0684d190e46cef...   \n",
       "\n",
       "   server_timestamp_epoch_ms  \n",
       "0              1548575194779  \n",
       "1              1548276763869  \n",
       "2              1548937997295  \n",
       "3              1548938038268  \n",
       "4              1548938093827  "
      ]
     },
     "execution_count": 4,
     "metadata": {},
     "output_type": "execute_result"
    }
   ],
   "source": [
    "search = pd.read_csv('../dataset/raw/search_train.csv')\n",
    "print(search.shape)\n",
    "search.head()"
   ]
  },
  {
   "cell_type": "code",
   "execution_count": 30,
   "metadata": {},
   "outputs": [
    {
     "data": {
      "text/plain": [
       "77101"
      ]
     },
     "execution_count": 30,
     "metadata": {},
     "output_type": "execute_result"
    }
   ],
   "source": [
    "search['session_id_hash'].map(sess_map).isnull().sum()"
   ]
  },
  {
   "cell_type": "code",
   "execution_count": 6,
   "metadata": {},
   "outputs": [],
   "source": [
    "def num_null(df):\n",
    "    for col in df.columns:\n",
    "        print('{} with the shape of {}'.format(col, (~df[col].isnull()).sum()))"
   ]
  },
  {
   "cell_type": "code",
   "execution_count": 9,
   "metadata": {},
   "outputs": [
    {
     "name": "stdout",
     "output_type": "stream",
     "text": [
      "train\n",
      "session_id_hash with the shape of 36079307\n",
      "event_type with the shape of 36079307\n",
      "product_action with the shape of 10431611\n",
      "product_sku_hash with the shape of 10431611\n",
      "server_timestamp_epoch_ms with the shape of 36079307\n",
      "hashed_url with the shape of 36079307\n",
      "search\n",
      "session_id_hash with the shape of 819516\n",
      "query_vector with the shape of 819516\n",
      "clicked_skus_hash with the shape of 179495\n",
      "product_skus_hash with the shape of 602754\n",
      "server_timestamp_epoch_ms with the shape of 819516\n",
      "info\n",
      "product_sku_hash with the shape of 66386\n",
      "description_vector with the shape of 31950\n",
      "category_hash with the shape of 32052\n",
      "image_vector with the shape of 28370\n",
      "price_bucket with the shape of 32038\n"
     ]
    }
   ],
   "source": [
    "print('train')\n",
    "num_null(train)\n",
    "print('search')\n",
    "num_null(search)\n",
    "print('info')\n",
    "num_null(info)"
   ]
  },
  {
   "cell_type": "code",
   "execution_count": 17,
   "metadata": {},
   "outputs": [
    {
     "data": {
      "text/plain": [
       "array(['event_product', 'pageview'], dtype=object)"
      ]
     },
     "execution_count": 17,
     "metadata": {},
     "output_type": "execute_result"
    }
   ],
   "source": [
    "train['event_type'].unique()"
   ]
  },
  {
   "cell_type": "code",
   "execution_count": 18,
   "metadata": {},
   "outputs": [
    {
     "data": {
      "text/plain": [
       "array(['detail', nan, 'add', 'purchase', 'remove'], dtype=object)"
      ]
     },
     "execution_count": 18,
     "metadata": {},
     "output_type": "execute_result"
    }
   ],
   "source": [
    "train['product_action'].unique()"
   ]
  },
  {
   "cell_type": "code",
   "execution_count": 21,
   "metadata": {},
   "outputs": [
    {
     "data": {
      "text/plain": [
       "57483"
      ]
     },
     "execution_count": 21,
     "metadata": {},
     "output_type": "execute_result"
    }
   ],
   "source": [
    "train['product_sku_hash'].nunique()"
   ]
  },
  {
   "cell_type": "code",
   "execution_count": null,
   "metadata": {},
   "outputs": [],
   "source": []
  }
 ],
 "metadata": {
  "kernelspec": {
   "display_name": "th",
   "language": "python",
   "name": "th"
  },
  "language_info": {
   "codemirror_mode": {
    "name": "ipython",
    "version": 3
   },
   "file_extension": ".py",
   "mimetype": "text/x-python",
   "name": "python",
   "nbconvert_exporter": "python",
   "pygments_lexer": "ipython3",
   "version": "3.8.5"
  }
 },
 "nbformat": 4,
 "nbformat_minor": 4
}
