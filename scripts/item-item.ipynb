{
 "cells": [
  {
   "cell_type": "code",
   "execution_count": 3,
   "metadata": {},
   "outputs": [],
   "source": [
    "import pandas as pd\n",
    "import numpy as np\n",
    "import torch.nn as nn\n",
    "import torch.nn.functional as F\n",
    "import torch\n",
    "import pickle\n",
    "from utils import load_data\n",
    "# from scipy.sparse import coo_matrix\n",
    "import seaborn as sns\n",
    "# import dgl\n",
    "import tqdm"
   ]
  },
  {
   "cell_type": "code",
   "execution_count": 4,
   "metadata": {},
   "outputs": [
    {
     "name": "stdout",
     "output_type": "stream",
     "text": [
      "load browsing done...\n",
      "load search done...\n",
      "load sku done...\n",
      "load info done...\n"
     ]
    }
   ],
   "source": [
    "browsing, search, sku, info = load_data('../dataset/new/')"
   ]
  },
  {
   "cell_type": "code",
   "execution_count": 6,
   "metadata": {},
   "outputs": [],
   "source": [
    "browsing = browsing[browsing['product_action'] != 4]"
   ]
  },
  {
   "cell_type": "code",
   "execution_count": 7,
   "metadata": {},
   "outputs": [],
   "source": [
    "browsing.dropna(inplace=True)\n",
    "browsing['product_sku_hash'] = browsing['product_sku_hash'].astype(int)"
   ]
  },
  {
   "cell_type": "code",
   "execution_count": 8,
   "metadata": {},
   "outputs": [],
   "source": [
    "browsing['next_product_sku_hash']=browsing.groupby('session_id_hash')['product_sku_hash'].shift(-1)"
   ]
  },
  {
   "cell_type": "code",
   "execution_count": 9,
   "metadata": {},
   "outputs": [],
   "source": [
    "browsing.dropna(inplace=True)\n",
    "browsing['next_product_sku_hash'] = browsing['next_product_sku_hash'].astype(int)"
   ]
  },
  {
   "cell_type": "code",
   "execution_count": 10,
   "metadata": {},
   "outputs": [
    {
     "data": {
      "text/plain": [
       "(30025, 29987)"
      ]
     },
     "execution_count": 10,
     "metadata": {},
     "output_type": "execute_result"
    }
   ],
   "source": [
    "browsing['next_product_sku_hash'].nunique(), browsing['product_sku_hash'].nunique()"
   ]
  },
  {
   "cell_type": "code",
   "execution_count": 11,
   "metadata": {},
   "outputs": [
    {
     "data": {
      "text/html": [
       "<div>\n",
       "<style scoped>\n",
       "    .dataframe tbody tr th:only-of-type {\n",
       "        vertical-align: middle;\n",
       "    }\n",
       "\n",
       "    .dataframe tbody tr th {\n",
       "        vertical-align: top;\n",
       "    }\n",
       "\n",
       "    .dataframe thead th {\n",
       "        text-align: right;\n",
       "    }\n",
       "</style>\n",
       "<table border=\"1\" class=\"dataframe\">\n",
       "  <thead>\n",
       "    <tr style=\"text-align: right;\">\n",
       "      <th></th>\n",
       "      <th></th>\n",
       "      <th>session_id_hash</th>\n",
       "      <th>product_action</th>\n",
       "      <th>product_sku_hash</th>\n",
       "      <th>server_timestamp_epoch_ms</th>\n",
       "      <th>hashed_url</th>\n",
       "      <th>next_product_sku_hash</th>\n",
       "    </tr>\n",
       "  </thead>\n",
       "  <tbody>\n",
       "    <tr>\n",
       "      <th rowspan=\"5\" valign=\"top\">train</th>\n",
       "      <th>0</th>\n",
       "      <td>0</td>\n",
       "      <td>0</td>\n",
       "      <td>31231</td>\n",
       "      <td>1550885210881</td>\n",
       "      <td>0</td>\n",
       "      <td>30494</td>\n",
       "    </tr>\n",
       "    <tr>\n",
       "      <th>1</th>\n",
       "      <td>0</td>\n",
       "      <td>0</td>\n",
       "      <td>30494</td>\n",
       "      <td>1550885213307</td>\n",
       "      <td>1</td>\n",
       "      <td>31231</td>\n",
       "    </tr>\n",
       "    <tr>\n",
       "      <th>3</th>\n",
       "      <td>0</td>\n",
       "      <td>0</td>\n",
       "      <td>31231</td>\n",
       "      <td>1550885215484</td>\n",
       "      <td>0</td>\n",
       "      <td>31231</td>\n",
       "    </tr>\n",
       "    <tr>\n",
       "      <th>7</th>\n",
       "      <td>0</td>\n",
       "      <td>0</td>\n",
       "      <td>31231</td>\n",
       "      <td>1550885304014</td>\n",
       "      <td>0</td>\n",
       "      <td>16827</td>\n",
       "    </tr>\n",
       "    <tr>\n",
       "      <th>16</th>\n",
       "      <td>0</td>\n",
       "      <td>0</td>\n",
       "      <td>16827</td>\n",
       "      <td>1550885885435</td>\n",
       "      <td>9</td>\n",
       "      <td>18868</td>\n",
       "    </tr>\n",
       "    <tr>\n",
       "      <th>...</th>\n",
       "      <th>...</th>\n",
       "      <td>...</td>\n",
       "      <td>...</td>\n",
       "      <td>...</td>\n",
       "      <td>...</td>\n",
       "      <td>...</td>\n",
       "      <td>...</td>\n",
       "    </tr>\n",
       "    <tr>\n",
       "      <th rowspan=\"5\" valign=\"top\">test</th>\n",
       "      <th>559498</th>\n",
       "      <td>5076750</td>\n",
       "      <td>0</td>\n",
       "      <td>28215</td>\n",
       "      <td>1555619228653</td>\n",
       "      <td>5118</td>\n",
       "      <td>17692</td>\n",
       "    </tr>\n",
       "    <tr>\n",
       "      <th>559499</th>\n",
       "      <td>5076750</td>\n",
       "      <td>0</td>\n",
       "      <td>17692</td>\n",
       "      <td>1555619233752</td>\n",
       "      <td>490211</td>\n",
       "      <td>28215</td>\n",
       "    </tr>\n",
       "    <tr>\n",
       "      <th>559500</th>\n",
       "      <td>5076750</td>\n",
       "      <td>0</td>\n",
       "      <td>28215</td>\n",
       "      <td>1555619239294</td>\n",
       "      <td>5118</td>\n",
       "      <td>17692</td>\n",
       "    </tr>\n",
       "    <tr>\n",
       "      <th>559501</th>\n",
       "      <td>5076750</td>\n",
       "      <td>0</td>\n",
       "      <td>17692</td>\n",
       "      <td>1555619241764</td>\n",
       "      <td>490211</td>\n",
       "      <td>7667</td>\n",
       "    </tr>\n",
       "    <tr>\n",
       "      <th>559512</th>\n",
       "      <td>5076752</td>\n",
       "      <td>0</td>\n",
       "      <td>7109</td>\n",
       "      <td>1557406412461</td>\n",
       "      <td>7838</td>\n",
       "      <td>13492</td>\n",
       "    </tr>\n",
       "  </tbody>\n",
       "</table>\n",
       "<p>6982471 rows × 6 columns</p>\n",
       "</div>"
      ],
      "text/plain": [
       "              session_id_hash  product_action  product_sku_hash  \\\n",
       "train 0                     0               0             31231   \n",
       "      1                     0               0             30494   \n",
       "      3                     0               0             31231   \n",
       "      7                     0               0             31231   \n",
       "      16                    0               0             16827   \n",
       "...                       ...             ...               ...   \n",
       "test  559498          5076750               0             28215   \n",
       "      559499          5076750               0             17692   \n",
       "      559500          5076750               0             28215   \n",
       "      559501          5076750               0             17692   \n",
       "      559512          5076752               0              7109   \n",
       "\n",
       "              server_timestamp_epoch_ms  hashed_url  next_product_sku_hash  \n",
       "train 0                   1550885210881           0                  30494  \n",
       "      1                   1550885213307           1                  31231  \n",
       "      3                   1550885215484           0                  31231  \n",
       "      7                   1550885304014           0                  16827  \n",
       "      16                  1550885885435           9                  18868  \n",
       "...                                 ...         ...                    ...  \n",
       "test  559498              1555619228653        5118                  17692  \n",
       "      559499              1555619233752      490211                  28215  \n",
       "      559500              1555619239294        5118                  17692  \n",
       "      559501              1555619241764      490211                   7667  \n",
       "      559512              1557406412461        7838                  13492  \n",
       "\n",
       "[6982471 rows x 6 columns]"
      ]
     },
     "execution_count": 11,
     "metadata": {},
     "output_type": "execute_result"
    }
   ],
   "source": [
    "browsing"
   ]
  },
  {
   "cell_type": "code",
   "execution_count": 12,
   "metadata": {},
   "outputs": [],
   "source": [
    "count_pair = browsing.groupby(['product_sku_hash', 'next_product_sku_hash']).size().reset_index()\n",
    "count_pair.columns =  ['src_id', 'dst_id', 'weight']"
   ]
  },
  {
   "cell_type": "code",
   "execution_count": 15,
   "metadata": {},
   "outputs": [],
   "source": [
    "count_pair.to_csv('../dataset/prepared/i-i.txt', index=False, header=False, sep=' ')"
   ]
  },
  {
   "cell_type": "code",
   "execution_count": 20,
   "metadata": {},
   "outputs": [
    {
     "data": {
      "text/plain": [
       "66386"
      ]
     },
     "execution_count": 20,
     "metadata": {},
     "output_type": "execute_result"
    }
   ],
   "source": [
    "len(info.idx2item)"
   ]
  },
  {
   "cell_type": "code",
   "execution_count": 21,
   "metadata": {},
   "outputs": [
    {
     "name": "stderr",
     "output_type": "stream",
     "text": [
      "30243it [00:01, 20834.38it/s]\n"
     ]
    }
   ],
   "source": [
    "with open('deepwalk/i-i.embed', 'r') as f:\n",
    "    line = f.readline()\n",
    "    embedding = torch.zeros(66386, 128)\n",
    "    for line in tqdm.tqdm(f):\n",
    "        line = line.split(' ')\n",
    "        node_id  = int(line[0])\n",
    "        node_vec = list(map(float, line[1:]))\n",
    "        embedding[node_id] = torch.tensor(node_vec)"
   ]
  },
  {
   "cell_type": "code",
   "execution_count": 25,
   "metadata": {},
   "outputs": [],
   "source": [
    "embedding = F.normalize(embedding, dim=1)\n",
    "with open('../dataset/prepared/dw_sku_i-i.pkl', 'wb') as f:\n",
    "    pickle.dump(embedding.numpy(), f)"
   ]
  },
  {
   "cell_type": "code",
   "execution_count": 29,
   "metadata": {},
   "outputs": [
    {
     "data": {
      "text/plain": [
       "<seaborn.axisgrid.FacetGrid at 0x7fc66e68d810>"
      ]
     },
     "execution_count": 29,
     "metadata": {},
     "output_type": "execute_result"
    },
    {
     "data": {
      "image/png": "[encoded data removed]",
      "text/plain": [
       "<Figure size 360x360 with 1 Axes>"
      ]
     },
     "metadata": {
      "needs_background": "light"
     },
     "output_type": "display_data"
    }
   ],
   "source": [
    "sns.displot(browsing.groupby('product_sku_hash')['product_sku_hash'].count())"
   ]
  },
  {
   "cell_type": "code",
   "execution_count": null,
   "metadata": {},
   "outputs": [],
   "source": []
  }
 ],
 "metadata": {
  "kernelspec": {
   "display_name": "torch",
   "language": "python",
   "name": "torch"
  },
  "language_info": {
   "codemirror_mode": {
    "name": "ipython",
    "version": 3
   },
   "file_extension": ".py",
   "mimetype": "text/x-python",
   "name": "python",
   "nbconvert_exporter": "python",
   "pygments_lexer": "ipython3",
   "version": "3.7.8"
  }
 },
 "nbformat": 4,
 "nbformat_minor": 4
}
