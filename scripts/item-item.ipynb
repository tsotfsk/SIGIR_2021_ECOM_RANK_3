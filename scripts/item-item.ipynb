{
 "cells": [
  {
   "cell_type": "code",
   "execution_count": 1,
   "metadata": {},
   "outputs": [
    {
     "name": "stderr",
     "output_type": "stream",
     "text": [
      "Using backend: pytorch\n"
     ]
    }
   ],
   "source": [
    "import pandas as pd\n",
    "import numpy as np\n",
    "import torch.nn as nn\n",
    "import torch.nn.functional as F\n",
    "import torch\n",
    "import pickle\n",
    "from utils import load_data\n",
    "from scipy.sparse import coo_matrix\n",
    "import seaborn as sns\n",
    "import dgl\n",
    "import tqdm\n",
    "from itertools import combinations"
   ]
  },
  {
   "cell_type": "code",
   "execution_count": 2,
   "metadata": {},
   "outputs": [
    {
     "name": "stdout",
     "output_type": "stream",
     "text": [
      "load browsing done...\n",
      "load search done...\n",
      "load sku done...\n",
      "load info done...\n"
     ]
    }
   ],
   "source": [
    "browsing, search, sku, info = load_data('../dataset/new/')"
   ]
  },
  {
   "cell_type": "code",
   "execution_count": 3,
   "metadata": {},
   "outputs": [],
   "source": [
    "browsing = browsing[browsing['product_action'] != 4]"
   ]
  },
  {
   "cell_type": "code",
   "execution_count": 4,
   "metadata": {},
   "outputs": [],
   "source": [
    "browsing.dropna(inplace=True)\n",
    "browsing['product_sku_hash'] = browsing['product_sku_hash'].astype(int)"
   ]
  },
  {
   "cell_type": "code",
   "execution_count": 5,
   "metadata": {},
   "outputs": [
    {
     "data": {
      "text/html": [
       "<div>\n",
       "<style scoped>\n",
       "    .dataframe tbody tr th:only-of-type {\n",
       "        vertical-align: middle;\n",
       "    }\n",
       "\n",
       "    .dataframe tbody tr th {\n",
       "        vertical-align: top;\n",
       "    }\n",
       "\n",
       "    .dataframe thead th {\n",
       "        text-align: right;\n",
       "    }\n",
       "</style>\n",
       "<table border=\"1\" class=\"dataframe\">\n",
       "  <thead>\n",
       "    <tr style=\"text-align: right;\">\n",
       "      <th></th>\n",
       "      <th></th>\n",
       "      <th>session_id_hash</th>\n",
       "      <th>product_action</th>\n",
       "      <th>product_sku_hash</th>\n",
       "      <th>server_timestamp_epoch_ms</th>\n",
       "      <th>hashed_url</th>\n",
       "    </tr>\n",
       "  </thead>\n",
       "  <tbody>\n",
       "    <tr>\n",
       "      <th rowspan=\"5\" valign=\"top\">train</th>\n",
       "      <th>0</th>\n",
       "      <td>0</td>\n",
       "      <td>0</td>\n",
       "      <td>31231</td>\n",
       "      <td>1550885210881</td>\n",
       "      <td>0</td>\n",
       "    </tr>\n",
       "    <tr>\n",
       "      <th>1</th>\n",
       "      <td>0</td>\n",
       "      <td>0</td>\n",
       "      <td>30494</td>\n",
       "      <td>1550885213307</td>\n",
       "      <td>1</td>\n",
       "    </tr>\n",
       "    <tr>\n",
       "      <th>3</th>\n",
       "      <td>0</td>\n",
       "      <td>0</td>\n",
       "      <td>31231</td>\n",
       "      <td>1550885215484</td>\n",
       "      <td>0</td>\n",
       "    </tr>\n",
       "    <tr>\n",
       "      <th>7</th>\n",
       "      <td>0</td>\n",
       "      <td>0</td>\n",
       "      <td>31231</td>\n",
       "      <td>1550885304014</td>\n",
       "      <td>0</td>\n",
       "    </tr>\n",
       "    <tr>\n",
       "      <th>16</th>\n",
       "      <td>0</td>\n",
       "      <td>0</td>\n",
       "      <td>16827</td>\n",
       "      <td>1550885885435</td>\n",
       "      <td>9</td>\n",
       "    </tr>\n",
       "    <tr>\n",
       "      <th>...</th>\n",
       "      <th>...</th>\n",
       "      <td>...</td>\n",
       "      <td>...</td>\n",
       "      <td>...</td>\n",
       "      <td>...</td>\n",
       "      <td>...</td>\n",
       "    </tr>\n",
       "    <tr>\n",
       "      <th rowspan=\"5\" valign=\"top\">test</th>\n",
       "      <th>1303283</th>\n",
       "      <td>5408427</td>\n",
       "      <td>0</td>\n",
       "      <td>49638</td>\n",
       "      <td>1557369241429</td>\n",
       "      <td>4838</td>\n",
       "    </tr>\n",
       "    <tr>\n",
       "      <th>1303284</th>\n",
       "      <td>5408427</td>\n",
       "      <td>0</td>\n",
       "      <td>57027</td>\n",
       "      <td>1557369275425</td>\n",
       "      <td>956</td>\n",
       "    </tr>\n",
       "    <tr>\n",
       "      <th>1303285</th>\n",
       "      <td>5408427</td>\n",
       "      <td>0</td>\n",
       "      <td>30346</td>\n",
       "      <td>1557369282615</td>\n",
       "      <td>958</td>\n",
       "    </tr>\n",
       "    <tr>\n",
       "      <th>1303286</th>\n",
       "      <td>5408427</td>\n",
       "      <td>0</td>\n",
       "      <td>41265</td>\n",
       "      <td>1557369290441</td>\n",
       "      <td>2830</td>\n",
       "    </tr>\n",
       "    <tr>\n",
       "      <th>1303287</th>\n",
       "      <td>5408428</td>\n",
       "      <td>0</td>\n",
       "      <td>57976</td>\n",
       "      <td>1555935443983</td>\n",
       "      <td>9423</td>\n",
       "    </tr>\n",
       "  </tbody>\n",
       "</table>\n",
       "<p>10920461 rows × 5 columns</p>\n",
       "</div>"
      ],
      "text/plain": [
       "               session_id_hash  product_action  product_sku_hash  \\\n",
       "train 0                      0               0             31231   \n",
       "      1                      0               0             30494   \n",
       "      3                      0               0             31231   \n",
       "      7                      0               0             31231   \n",
       "      16                     0               0             16827   \n",
       "...                        ...             ...               ...   \n",
       "test  1303283          5408427               0             49638   \n",
       "      1303284          5408427               0             57027   \n",
       "      1303285          5408427               0             30346   \n",
       "      1303286          5408427               0             41265   \n",
       "      1303287          5408428               0             57976   \n",
       "\n",
       "               server_timestamp_epoch_ms  hashed_url  \n",
       "train 0                    1550885210881           0  \n",
       "      1                    1550885213307           1  \n",
       "      3                    1550885215484           0  \n",
       "      7                    1550885304014           0  \n",
       "      16                   1550885885435           9  \n",
       "...                                  ...         ...  \n",
       "test  1303283              1557369241429        4838  \n",
       "      1303284              1557369275425         956  \n",
       "      1303285              1557369282615         958  \n",
       "      1303286              1557369290441        2830  \n",
       "      1303287              1555935443983        9423  \n",
       "\n",
       "[10920461 rows x 5 columns]"
      ]
     },
     "execution_count": 5,
     "metadata": {},
     "output_type": "execute_result"
    }
   ],
   "source": [
    "browsing"
   ]
  },
  {
   "cell_type": "code",
   "execution_count": 8,
   "metadata": {},
   "outputs": [],
   "source": [
    "sesses = browsing.groupby(['session_id_hash'])['product_sku_hash'].agg(list)"
   ]
  },
  {
   "cell_type": "code",
   "execution_count": 82,
   "metadata": {},
   "outputs": [
    {
     "data": {
      "text/plain": [
       "[(2, 4), (2, 3), (4, 3)]"
      ]
     },
     "execution_count": 82,
     "metadata": {},
     "output_type": "execute_result"
    }
   ],
   "source": [
    "list(combinations([2,4,3], 2))"
   ]
  },
  {
   "cell_type": "code",
   "execution_count": 18,
   "metadata": {},
   "outputs": [],
   "source": [
    "sesses = sesses.reset_index()"
   ]
  },
  {
   "cell_type": "code",
   "execution_count": 66,
   "metadata": {},
   "outputs": [
    {
     "name": "stderr",
     "output_type": "stream",
     "text": [
      "100%|██████████| 3599278/3599278 [00:14<00:00, 246728.76it/s]\n"
     ]
    }
   ],
   "source": [
    "all_pairs = []\n",
    "for sess_id, sku_ids in tqdm.tqdm(sesses.values):\n",
    "    all_pairs.extend(list(combinations(sku_ids, 2)))"
   ]
  },
  {
   "cell_type": "code",
   "execution_count": 67,
   "metadata": {},
   "outputs": [],
   "source": [
    "df = pd.DataFrame(all_pairs)\n",
    "df.columns = ['src_id', 'dst_id']\n",
    "df = df.groupby(['src_id', 'dst_id']).size().reset_index()\n",
    "df.columns = ['src_id', 'dst_id', 'weight']\n",
    "df['mask'] = (df['src_id'] != df['dst_id'])\n",
    "df = df[df['mask']].copy()"
   ]
  },
  {
   "cell_type": "code",
   "execution_count": 68,
   "metadata": {},
   "outputs": [],
   "source": [
    "df.drop(columns=['mask'], inplace=True)"
   ]
  },
  {
   "cell_type": "code",
   "execution_count": 86,
   "metadata": {},
   "outputs": [
    {
     "data": {
      "text/plain": [
       "src_id\n",
       "2        397\n",
       "3        212\n",
       "4        311\n",
       "7         61\n",
       "10       153\n",
       "        ... \n",
       "66371     20\n",
       "66375     13\n",
       "66376    303\n",
       "66378     15\n",
       "66383     30\n",
       "Name: dst_id, Length: 30551, dtype: int64"
      ]
     },
     "execution_count": 86,
     "metadata": {},
     "output_type": "execute_result"
    }
   ],
   "source": []
  },
  {
   "cell_type": "code",
   "execution_count": 88,
   "metadata": {},
   "outputs": [
    {
     "data": {
      "text/plain": [
       "(30551, 30603)"
      ]
     },
     "execution_count": 88,
     "metadata": {},
     "output_type": "execute_result"
    }
   ],
   "source": [
    "df['src_id'].nunique(), df['dst_id'].nunique()"
   ]
  },
  {
   "cell_type": "code",
   "execution_count": 91,
   "metadata": {},
   "outputs": [],
   "source": [
    "all_ids = set(df['src_id'].unique()) | set(df['dst_id'].unique())"
   ]
  },
  {
   "cell_type": "code",
   "execution_count": 92,
   "metadata": {},
   "outputs": [
    {
     "data": {
      "text/plain": [
       "30824"
      ]
     },
     "execution_count": 92,
     "metadata": {},
     "output_type": "execute_result"
    }
   ],
   "source": [
    "len(all_ids)"
   ]
  },
  {
   "cell_type": "code",
   "execution_count": 84,
   "metadata": {},
   "outputs": [
    {
     "data": {
      "text/plain": [
       "(6928143, 3)"
      ]
     },
     "execution_count": 84,
     "metadata": {},
     "output_type": "execute_result"
    }
   ],
   "source": [
    "df.shape"
   ]
  },
  {
   "cell_type": "code",
   "execution_count": 78,
   "metadata": {},
   "outputs": [],
   "source": [
    "df.to_csv('../dataset/prepared/i-i.txt', index=False, header=False, sep=' ')"
   ]
  },
  {
   "cell_type": "markdown",
   "metadata": {},
   "source": [
    "# Build Embedding"
   ]
  },
  {
   "cell_type": "code",
   "execution_count": 3,
   "metadata": {},
   "outputs": [
    {
     "name": "stderr",
     "output_type": "stream",
     "text": [
      "30824it [00:01, 20483.95it/s]\n"
     ]
    }
   ],
   "source": [
    "with open('deepwalk/i-i.embed', 'r') as f:\n",
    "    line = f.readline()\n",
    "    embedding = torch.zeros(66386, 128)\n",
    "    for line in tqdm.tqdm(f):\n",
    "        line = line.split(' ')\n",
    "        node_id  = int(line[0])\n",
    "        node_vec = list(map(float, line[1:]))\n",
    "        embedding[node_id] = torch.tensor(node_vec)"
   ]
  },
  {
   "cell_type": "code",
   "execution_count": 4,
   "metadata": {},
   "outputs": [],
   "source": [
    "embedding = F.normalize(embedding, dim=1)\n",
    "with open('../dataset/prepared/dw_sku_i-i.pkl', 'wb') as f:\n",
    "    pickle.dump(embedding.numpy(), f)"
   ]
  },
  {
   "cell_type": "code",
   "execution_count": 5,
   "metadata": {},
   "outputs": [
    {
     "data": {
      "text/plain": [
       "<seaborn.axisgrid.FacetGrid at 0x7f30f381bc90>"
      ]
     },
     "execution_count": 5,
     "metadata": {},
     "output_type": "execute_result"
    },
    {
     "data": {
      "image/png": "[encoded data removed]",
      "text/plain": [
       "<Figure size 360x360 with 1 Axes>"
      ]
     },
     "metadata": {
      "needs_background": "light"
     },
     "output_type": "display_data"
    }
   ],
   "source": [
    "sns.displot(browsing.groupby('product_sku_hash')['product_sku_hash'].count())"
   ]
  },
  {
   "cell_type": "code",
   "execution_count": null,
   "metadata": {},
   "outputs": [],
   "source": []
  }
 ],
 "metadata": {
  "kernelspec": {
   "display_name": "torch",
   "language": "python",
   "name": "torch"
  },
  "language_info": {
   "codemirror_mode": {
    "name": "ipython",
    "version": 3
   },
   "file_extension": ".py",
   "mimetype": "text/x-python",
   "name": "python",
   "nbconvert_exporter": "python",
   "pygments_lexer": "ipython3",
   "version": "3.7.8"
  }
 },
 "nbformat": 4,
 "nbformat_minor": 4
}
