{
 "cells": [
  {
   "cell_type": "code",
   "execution_count": 1,
   "metadata": {},
   "outputs": [],
   "source": [
    "import pandas as pd\n",
    "import pickle\n",
    "from utils import load_data\n",
    "from scipy.sparse import coo_matrix\n",
    "import seaborn as sns"
   ]
  },
  {
   "cell_type": "code",
   "execution_count": 2,
   "metadata": {},
   "outputs": [
    {
     "name": "stdout",
     "output_type": "stream",
     "text": [
      "load browsing done...\n",
      "load search done...\n",
      "load sku done...\n",
      "load info done...\n"
     ]
    }
   ],
   "source": [
    "browsing, search, sku, info = load_data('../dataset/new/')"
   ]
  },
  {
   "cell_type": "code",
   "execution_count": 3,
   "metadata": {},
   "outputs": [],
   "source": [
    "browsing.dropna(inplace=True)"
   ]
  },
  {
   "cell_type": "code",
   "execution_count": 4,
   "metadata": {},
   "outputs": [],
   "source": [
    "browsing = browsing.sort_values(by=['session_id_hash', 'server_timestamp_epoch_ms'])"
   ]
  },
  {
   "cell_type": "code",
   "execution_count": 5,
   "metadata": {},
   "outputs": [],
   "source": [
    "browsing['product_sku_hash'] = browsing['product_sku_hash'].astype('int')"
   ]
  },
  {
   "cell_type": "code",
   "execution_count": 6,
   "metadata": {},
   "outputs": [
    {
     "data": {
      "text/html": [
       "<div>\n",
       "<style scoped>\n",
       "    .dataframe tbody tr th:only-of-type {\n",
       "        vertical-align: middle;\n",
       "    }\n",
       "\n",
       "    .dataframe tbody tr th {\n",
       "        vertical-align: top;\n",
       "    }\n",
       "\n",
       "    .dataframe thead th {\n",
       "        text-align: right;\n",
       "    }\n",
       "</style>\n",
       "<table border=\"1\" class=\"dataframe\">\n",
       "  <thead>\n",
       "    <tr style=\"text-align: right;\">\n",
       "      <th></th>\n",
       "      <th></th>\n",
       "      <th>session_id_hash</th>\n",
       "      <th>product_action</th>\n",
       "      <th>product_sku_hash</th>\n",
       "      <th>server_timestamp_epoch_ms</th>\n",
       "      <th>hashed_url</th>\n",
       "    </tr>\n",
       "  </thead>\n",
       "  <tbody>\n",
       "    <tr>\n",
       "      <th rowspan=\"5\" valign=\"top\">train</th>\n",
       "      <th>16758585</th>\n",
       "      <td>0</td>\n",
       "      <td>0</td>\n",
       "      <td>42112</td>\n",
       "      <td>1550883829964</td>\n",
       "      <td>5870</td>\n",
       "    </tr>\n",
       "    <tr>\n",
       "      <th>16758587</th>\n",
       "      <td>0</td>\n",
       "      <td>0</td>\n",
       "      <td>42112</td>\n",
       "      <td>1550883914033</td>\n",
       "      <td>5870</td>\n",
       "    </tr>\n",
       "    <tr>\n",
       "      <th>16758589</th>\n",
       "      <td>0</td>\n",
       "      <td>0</td>\n",
       "      <td>42112</td>\n",
       "      <td>1550883966835</td>\n",
       "      <td>5870</td>\n",
       "    </tr>\n",
       "    <tr>\n",
       "      <th>16758593</th>\n",
       "      <td>0</td>\n",
       "      <td>0</td>\n",
       "      <td>42112</td>\n",
       "      <td>1550884064462</td>\n",
       "      <td>5870</td>\n",
       "    </tr>\n",
       "    <tr>\n",
       "      <th>16758596</th>\n",
       "      <td>0</td>\n",
       "      <td>0</td>\n",
       "      <td>31231</td>\n",
       "      <td>1550884254839</td>\n",
       "      <td>0</td>\n",
       "    </tr>\n",
       "  </tbody>\n",
       "</table>\n",
       "</div>"
      ],
      "text/plain": [
       "                session_id_hash  product_action  product_sku_hash  \\\n",
       "train 16758585                0               0             42112   \n",
       "      16758587                0               0             42112   \n",
       "      16758589                0               0             42112   \n",
       "      16758593                0               0             42112   \n",
       "      16758596                0               0             31231   \n",
       "\n",
       "                server_timestamp_epoch_ms  hashed_url  \n",
       "train 16758585              1550883829964        5870  \n",
       "      16758587              1550883914033        5870  \n",
       "      16758589              1550883966835        5870  \n",
       "      16758593              1550884064462        5870  \n",
       "      16758596              1550884254839           0  "
      ]
     },
     "execution_count": 6,
     "metadata": {},
     "output_type": "execute_result"
    }
   ],
   "source": [
    "browsing.head()"
   ]
  },
  {
   "cell_type": "code",
   "execution_count": 7,
   "metadata": {},
   "outputs": [],
   "source": [
    "train = browsing.loc['train', :].copy()\n",
    "test = browsing.loc['test', :].copy()"
   ]
  },
  {
   "cell_type": "code",
   "execution_count": 8,
   "metadata": {},
   "outputs": [],
   "source": [
    "train['item_count'] = train.groupby('session_id_hash')['product_sku_hash'].transform('count')"
   ]
  },
  {
   "cell_type": "code",
   "execution_count": 9,
   "metadata": {},
   "outputs": [],
   "source": [
    "train = train[train['item_count'] >=2]"
   ]
  },
  {
   "cell_type": "code",
   "execution_count": 10,
   "metadata": {},
   "outputs": [],
   "source": [
    "train.drop(columns=['item_count'], inplace=True)"
   ]
  },
  {
   "cell_type": "code",
   "execution_count": 11,
   "metadata": {},
   "outputs": [],
   "source": [
    "test_pad = test.groupby('session_id_hash').tail(1).copy()\n",
    "test_pad['server_timestamp_epoch_ms'] += 1"
   ]
  },
  {
   "cell_type": "code",
   "execution_count": 12,
   "metadata": {},
   "outputs": [],
   "source": [
    "test_dev = pd.concat([test, test_pad])"
   ]
  },
  {
   "cell_type": "code",
   "execution_count": 13,
   "metadata": {},
   "outputs": [],
   "source": [
    "test_dev = test_dev.sort_values(by=['session_id_hash', 'server_timestamp_epoch_ms'])"
   ]
  },
  {
   "cell_type": "code",
   "execution_count": 14,
   "metadata": {},
   "outputs": [],
   "source": [
    "train_set = []\n",
    "valid_set = []\n",
    "test_set = []"
   ]
  },
  {
   "cell_type": "code",
   "execution_count": 15,
   "metadata": {},
   "outputs": [],
   "source": [
    "seq_len = 25\n",
    "for sess_id, item_ids in train.groupby('session_id_hash')['product_sku_hash']:\n",
    "    item_ids = item_ids.tolist()\n",
    "    for idx in range(1, len(item_ids)-1):\n",
    "        if idx < seq_len:\n",
    "            seq = item_ids[:idx] + [0] * (seq_len - idx)\n",
    "        else:\n",
    "            seq = item_ids[idx - seq_len:idx]\n",
    "        target = item_ids[idx]\n",
    "        train_set.append((sess_id, seq, target))\n",
    "        \n",
    "    idx = len(item_ids)-1\n",
    "    if idx < seq_len:\n",
    "        seq = item_ids[:idx] + [0] * (seq_len - idx)\n",
    "    else:\n",
    "        seq = item_ids[idx - seq_len:idx]\n",
    "    target = item_ids[idx]\n",
    "    valid_set.append((sess_id, seq, target))  "
   ]
  },
  {
   "cell_type": "code",
   "execution_count": 16,
   "metadata": {},
   "outputs": [],
   "source": [
    "for sess_id, item_ids in test_dev.groupby('session_id_hash')['product_sku_hash']:\n",
    "    item_ids = item_ids.tolist()\n",
    "    for idx in range(1, len(item_ids)-1):\n",
    "        if idx < seq_len:\n",
    "            seq = item_ids[:idx] + [0] * (seq_len - idx)\n",
    "        else:\n",
    "            seq = item_ids[idx - seq_len:idx]\n",
    "        target = item_ids[idx]\n",
    "        train_set.append((sess_id, seq, target))\n",
    "        \n",
    "    idx = len(item_ids)-1\n",
    "    if idx < seq_len:\n",
    "        seq = item_ids[:idx] + [0] * (seq_len - idx)\n",
    "    else:\n",
    "        seq = item_ids[idx - seq_len:idx]\n",
    "    target = item_ids[idx]\n",
    "    test_set.append((sess_id, seq, target))  "
   ]
  },
  {
   "cell_type": "code",
   "execution_count": 17,
   "metadata": {},
   "outputs": [
    {
     "data": {
      "text/plain": [
       "(5691711, 1606985, 96108)"
      ]
     },
     "execution_count": 17,
     "metadata": {},
     "output_type": "execute_result"
    }
   ],
   "source": [
    "len(train_set), len(valid_set), len(test_set)"
   ]
  },
  {
   "cell_type": "code",
   "execution_count": 18,
   "metadata": {},
   "outputs": [],
   "source": [
    "for name, data in zip(['train', 'valid', 'tset'], [train_set, valid_set, test_set]):\n",
    "    pathname = f'../dataset/prepared/{name}.csv'\n",
    "    with open(pathname, 'w') as f:\n",
    "        for user_id, seq, target in data:\n",
    "            f.write(','.join([str(user_id), '|'.join(map(str, seq)), str(target)]))\n",
    "            f.write('\\n')"
   ]
  }
 ],
 "metadata": {
  "kernelspec": {
   "display_name": "torch",
   "language": "python",
   "name": "torch"
  },
  "language_info": {
   "codemirror_mode": {
    "name": "ipython",
    "version": 3
   },
   "file_extension": ".py",
   "mimetype": "text/x-python",
   "name": "python",
   "nbconvert_exporter": "python",
   "pygments_lexer": "ipython3",
   "version": "3.7.8"
  }
 },
 "nbformat": 4,
 "nbformat_minor": 4
}
