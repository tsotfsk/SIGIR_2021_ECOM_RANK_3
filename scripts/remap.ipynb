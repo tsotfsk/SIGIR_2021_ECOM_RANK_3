{
 "cells": [
  {
   "cell_type": "code",
   "execution_count": 1,
   "metadata": {},
   "outputs": [],
   "source": [
    "import pandas as pd\n",
    "import numpy as np"
   ]
  },
  {
   "cell_type": "code",
   "execution_count": 2,
   "metadata": {},
   "outputs": [],
   "source": [
    "train_inter = pd.read_csv('../dataset/raw/browsing_train.csv')\n",
    "train_search = pd.read_csv('../dataset/raw/search_train.csv')"
   ]
  },
  {
   "cell_type": "code",
   "execution_count": 3,
   "metadata": {},
   "outputs": [],
   "source": [
    "test_inter = pd.read_csv('../dataset/raw/browsing_test.csv')\n",
    "test_search = pd.read_csv('../dataset/raw/search_test.csv')"
   ]
  },
  {
   "cell_type": "code",
   "execution_count": 4,
   "metadata": {},
   "outputs": [
    {
     "data": {
      "text/html": [
       "<div>\n",
       "<style scoped>\n",
       "    .dataframe tbody tr th:only-of-type {\n",
       "        vertical-align: middle;\n",
       "    }\n",
       "\n",
       "    .dataframe tbody tr th {\n",
       "        vertical-align: top;\n",
       "    }\n",
       "\n",
       "    .dataframe thead th {\n",
       "        text-align: right;\n",
       "    }\n",
       "</style>\n",
       "<table border=\"1\" class=\"dataframe\">\n",
       "  <thead>\n",
       "    <tr style=\"text-align: right;\">\n",
       "      <th></th>\n",
       "      <th>product_sku_hash</th>\n",
       "      <th>description_vector</th>\n",
       "      <th>category_hash</th>\n",
       "      <th>image_vector</th>\n",
       "      <th>price_bucket</th>\n",
       "    </tr>\n",
       "  </thead>\n",
       "  <tbody>\n",
       "    <tr>\n",
       "      <th>0</th>\n",
       "      <td>26ce7b47f4c46e4087e83e54d2f7ddc7ea57862fed2e2a...</td>\n",
       "      <td>NaN</td>\n",
       "      <td>NaN</td>\n",
       "      <td>NaN</td>\n",
       "      <td>NaN</td>\n",
       "    </tr>\n",
       "    <tr>\n",
       "      <th>1</th>\n",
       "      <td>6383992be772b204a9ab75f86c86f5583d1bdd1222952d...</td>\n",
       "      <td>NaN</td>\n",
       "      <td>NaN</td>\n",
       "      <td>NaN</td>\n",
       "      <td>NaN</td>\n",
       "    </tr>\n",
       "    <tr>\n",
       "      <th>2</th>\n",
       "      <td>a2c3e2430c6ef9770b903ad08fa067a6b2b9db28f06e1b...</td>\n",
       "      <td>[0.27629122138023376, -0.15763211250305176, 0....</td>\n",
       "      <td>06fa312761d4b39e2f649781514ac69a4c1505c221fc46...</td>\n",
       "      <td>[340.3592564184389, -220.19025864725685, 154.0...</td>\n",
       "      <td>7.0</td>\n",
       "    </tr>\n",
       "    <tr>\n",
       "      <th>3</th>\n",
       "      <td>1028ef615e425c328e7b95010dfb1fb93cf63749a1bc80...</td>\n",
       "      <td>[0.4058118760585785, -0.03595402091741562, 0.2...</td>\n",
       "      <td>115a6a7017ee55752b8487c77dfde92b0d501d10a2e69c...</td>\n",
       "      <td>[180.3463662921092, 222.702322343354, -8.88703...</td>\n",
       "      <td>8.0</td>\n",
       "    </tr>\n",
       "    <tr>\n",
       "      <th>4</th>\n",
       "      <td>9870c682d0d52d635501249da0eeaa118fad430b695ea1...</td>\n",
       "      <td>[-0.3206155300140381, 0.01991105079650879, 0.0...</td>\n",
       "      <td>0665a81d19c89281cc00e7f7d779ded2ed42c933838602...</td>\n",
       "      <td>[-114.81079301576219, 84.55770104232334, 85.51...</td>\n",
       "      <td>2.0</td>\n",
       "    </tr>\n",
       "  </tbody>\n",
       "</table>\n",
       "</div>"
      ],
      "text/plain": [
       "                                    product_sku_hash  \\\n",
       "0  26ce7b47f4c46e4087e83e54d2f7ddc7ea57862fed2e2a...   \n",
       "1  6383992be772b204a9ab75f86c86f5583d1bdd1222952d...   \n",
       "2  a2c3e2430c6ef9770b903ad08fa067a6b2b9db28f06e1b...   \n",
       "3  1028ef615e425c328e7b95010dfb1fb93cf63749a1bc80...   \n",
       "4  9870c682d0d52d635501249da0eeaa118fad430b695ea1...   \n",
       "\n",
       "                                  description_vector  \\\n",
       "0                                                NaN   \n",
       "1                                                NaN   \n",
       "2  [0.27629122138023376, -0.15763211250305176, 0....   \n",
       "3  [0.4058118760585785, -0.03595402091741562, 0.2...   \n",
       "4  [-0.3206155300140381, 0.01991105079650879, 0.0...   \n",
       "\n",
       "                                       category_hash  \\\n",
       "0                                                NaN   \n",
       "1                                                NaN   \n",
       "2  06fa312761d4b39e2f649781514ac69a4c1505c221fc46...   \n",
       "3  115a6a7017ee55752b8487c77dfde92b0d501d10a2e69c...   \n",
       "4  0665a81d19c89281cc00e7f7d779ded2ed42c933838602...   \n",
       "\n",
       "                                        image_vector  price_bucket  \n",
       "0                                                NaN           NaN  \n",
       "1                                                NaN           NaN  \n",
       "2  [340.3592564184389, -220.19025864725685, 154.0...           7.0  \n",
       "3  [180.3463662921092, 222.702322343354, -8.88703...           8.0  \n",
       "4  [-114.81079301576219, 84.55770104232334, 85.51...           2.0  "
      ]
     },
     "execution_count": 4,
     "metadata": {},
     "output_type": "execute_result"
    }
   ],
   "source": [
    "sku = pd.read_csv('../dataset/raw/sku_to_content.csv')\n",
    "sku.head()"
   ]
  },
  {
   "cell_type": "code",
   "execution_count": 5,
   "metadata": {},
   "outputs": [
    {
     "data": {
      "text/html": [
       "<div>\n",
       "<style scoped>\n",
       "    .dataframe tbody tr th:only-of-type {\n",
       "        vertical-align: middle;\n",
       "    }\n",
       "\n",
       "    .dataframe tbody tr th {\n",
       "        vertical-align: top;\n",
       "    }\n",
       "\n",
       "    .dataframe thead th {\n",
       "        text-align: right;\n",
       "    }\n",
       "</style>\n",
       "<table border=\"1\" class=\"dataframe\">\n",
       "  <thead>\n",
       "    <tr style=\"text-align: right;\">\n",
       "      <th></th>\n",
       "      <th></th>\n",
       "      <th>session_id_hash</th>\n",
       "      <th>event_type</th>\n",
       "      <th>product_action</th>\n",
       "      <th>product_sku_hash</th>\n",
       "      <th>server_timestamp_epoch_ms</th>\n",
       "      <th>hashed_url</th>\n",
       "    </tr>\n",
       "  </thead>\n",
       "  <tbody>\n",
       "    <tr>\n",
       "      <th rowspan=\"5\" valign=\"top\">train</th>\n",
       "      <th>0</th>\n",
       "      <td>20c458b802f6ea9374783bfc528b19421be977a6769785...</td>\n",
       "      <td>event_product</td>\n",
       "      <td>detail</td>\n",
       "      <td>d5157f8bc52965390fa21ad5842a8502bc3eb8b0930f3f...</td>\n",
       "      <td>1550885210881</td>\n",
       "      <td>7e4527ac6a32deed4f4f06bb7c49b907b7ca371e59d57d...</td>\n",
       "    </tr>\n",
       "    <tr>\n",
       "      <th>1</th>\n",
       "      <td>20c458b802f6ea9374783bfc528b19421be977a6769785...</td>\n",
       "      <td>event_product</td>\n",
       "      <td>detail</td>\n",
       "      <td>61ef3869355b78e11011f39fc7ac8f8dfb209b3442a9d5...</td>\n",
       "      <td>1550885213307</td>\n",
       "      <td>4ed279f4f0deab6dfc80f4f7bf49d527fd894fa478a9ce...</td>\n",
       "    </tr>\n",
       "    <tr>\n",
       "      <th>2</th>\n",
       "      <td>20c458b802f6ea9374783bfc528b19421be977a6769785...</td>\n",
       "      <td>pageview</td>\n",
       "      <td>NaN</td>\n",
       "      <td>NaN</td>\n",
       "      <td>1550885213307</td>\n",
       "      <td>4ed279f4f0deab6dfc80f4f7bf49d527fd894fa478a9ce...</td>\n",
       "    </tr>\n",
       "    <tr>\n",
       "      <th>3</th>\n",
       "      <td>20c458b802f6ea9374783bfc528b19421be977a6769785...</td>\n",
       "      <td>event_product</td>\n",
       "      <td>detail</td>\n",
       "      <td>d5157f8bc52965390fa21ad5842a8502bc3eb8b0930f3f...</td>\n",
       "      <td>1550885215484</td>\n",
       "      <td>7e4527ac6a32deed4f4f06bb7c49b907b7ca371e59d57d...</td>\n",
       "    </tr>\n",
       "    <tr>\n",
       "      <th>4</th>\n",
       "      <td>20c458b802f6ea9374783bfc528b19421be977a6769785...</td>\n",
       "      <td>pageview</td>\n",
       "      <td>NaN</td>\n",
       "      <td>NaN</td>\n",
       "      <td>1550885215484</td>\n",
       "      <td>7e4527ac6a32deed4f4f06bb7c49b907b7ca371e59d57d...</td>\n",
       "    </tr>\n",
       "  </tbody>\n",
       "</table>\n",
       "</div>"
      ],
      "text/plain": [
       "                                           session_id_hash     event_type  \\\n",
       "train 0  20c458b802f6ea9374783bfc528b19421be977a6769785...  event_product   \n",
       "      1  20c458b802f6ea9374783bfc528b19421be977a6769785...  event_product   \n",
       "      2  20c458b802f6ea9374783bfc528b19421be977a6769785...       pageview   \n",
       "      3  20c458b802f6ea9374783bfc528b19421be977a6769785...  event_product   \n",
       "      4  20c458b802f6ea9374783bfc528b19421be977a6769785...       pageview   \n",
       "\n",
       "        product_action                                   product_sku_hash  \\\n",
       "train 0         detail  d5157f8bc52965390fa21ad5842a8502bc3eb8b0930f3f...   \n",
       "      1         detail  61ef3869355b78e11011f39fc7ac8f8dfb209b3442a9d5...   \n",
       "      2            NaN                                                NaN   \n",
       "      3         detail  d5157f8bc52965390fa21ad5842a8502bc3eb8b0930f3f...   \n",
       "      4            NaN                                                NaN   \n",
       "\n",
       "         server_timestamp_epoch_ms  \\\n",
       "train 0              1550885210881   \n",
       "      1              1550885213307   \n",
       "      2              1550885213307   \n",
       "      3              1550885215484   \n",
       "      4              1550885215484   \n",
       "\n",
       "                                                hashed_url  \n",
       "train 0  7e4527ac6a32deed4f4f06bb7c49b907b7ca371e59d57d...  \n",
       "      1  4ed279f4f0deab6dfc80f4f7bf49d527fd894fa478a9ce...  \n",
       "      2  4ed279f4f0deab6dfc80f4f7bf49d527fd894fa478a9ce...  \n",
       "      3  7e4527ac6a32deed4f4f06bb7c49b907b7ca371e59d57d...  \n",
       "      4  7e4527ac6a32deed4f4f06bb7c49b907b7ca371e59d57d...  "
      ]
     },
     "execution_count": 5,
     "metadata": {},
     "output_type": "execute_result"
    }
   ],
   "source": [
    "all_inter = pd.concat([train_inter, test_inter], keys=['train', 'test'])\n",
    "all_inter.head()"
   ]
  },
  {
   "cell_type": "code",
   "execution_count": 6,
   "metadata": {},
   "outputs": [
    {
     "data": {
      "text/html": [
       "<div>\n",
       "<style scoped>\n",
       "    .dataframe tbody tr th:only-of-type {\n",
       "        vertical-align: middle;\n",
       "    }\n",
       "\n",
       "    .dataframe tbody tr th {\n",
       "        vertical-align: top;\n",
       "    }\n",
       "\n",
       "    .dataframe thead th {\n",
       "        text-align: right;\n",
       "    }\n",
       "</style>\n",
       "<table border=\"1\" class=\"dataframe\">\n",
       "  <thead>\n",
       "    <tr style=\"text-align: right;\">\n",
       "      <th></th>\n",
       "      <th></th>\n",
       "      <th>session_id_hash</th>\n",
       "      <th>query_vector</th>\n",
       "      <th>clicked_skus_hash</th>\n",
       "      <th>product_skus_hash</th>\n",
       "      <th>server_timestamp_epoch_ms</th>\n",
       "    </tr>\n",
       "  </thead>\n",
       "  <tbody>\n",
       "    <tr>\n",
       "      <th rowspan=\"5\" valign=\"top\">train</th>\n",
       "      <th>0</th>\n",
       "      <td>48fade624d47870058ce07dd789ccc04e46c70c0fa2a1b...</td>\n",
       "      <td>[-0.20255649089813232, -0.016908567398786545, ...</td>\n",
       "      <td>NaN</td>\n",
       "      <td>NaN</td>\n",
       "      <td>1548575194779</td>\n",
       "    </tr>\n",
       "    <tr>\n",
       "      <th>1</th>\n",
       "      <td>8731ca84ff7bb8cb647531d54e64feedb2519b4a7792a7...</td>\n",
       "      <td>[-0.007610442116856575, -0.14909175038337708, ...</td>\n",
       "      <td>NaN</td>\n",
       "      <td>['9ee9ffd7e2529a65f9a0b0c9eaae6330df85cf2e3af3...</td>\n",
       "      <td>1548276763869</td>\n",
       "    </tr>\n",
       "    <tr>\n",
       "      <th>2</th>\n",
       "      <td>9be980708345944960645d03606ea83b637cae9106b705...</td>\n",
       "      <td>[-0.20023074746131897, -0.03151938319206238, 0...</td>\n",
       "      <td>NaN</td>\n",
       "      <td>['7cc72dbed53bab78ec6a62feaa5052a7a1db7d201664...</td>\n",
       "      <td>1548937997295</td>\n",
       "    </tr>\n",
       "    <tr>\n",
       "      <th>3</th>\n",
       "      <td>9be980708345944960645d03606ea83b637cae9106b705...</td>\n",
       "      <td>[-0.18556387722492218, -0.07620412111282349, 0...</td>\n",
       "      <td>NaN</td>\n",
       "      <td>['62c4ddab6c1c81c74d315376b3c0dc7768c0286b3dc6...</td>\n",
       "      <td>1548938038268</td>\n",
       "    </tr>\n",
       "    <tr>\n",
       "      <th>4</th>\n",
       "      <td>9be980708345944960645d03606ea83b637cae9106b705...</td>\n",
       "      <td>[-0.03269264101982117, -0.27234694361686707, 0...</td>\n",
       "      <td>NaN</td>\n",
       "      <td>['2a0ee2924feabeec35e21e8fcb4d5b0684d190e46cef...</td>\n",
       "      <td>1548938093827</td>\n",
       "    </tr>\n",
       "  </tbody>\n",
       "</table>\n",
       "</div>"
      ],
      "text/plain": [
       "                                           session_id_hash  \\\n",
       "train 0  48fade624d47870058ce07dd789ccc04e46c70c0fa2a1b...   \n",
       "      1  8731ca84ff7bb8cb647531d54e64feedb2519b4a7792a7...   \n",
       "      2  9be980708345944960645d03606ea83b637cae9106b705...   \n",
       "      3  9be980708345944960645d03606ea83b637cae9106b705...   \n",
       "      4  9be980708345944960645d03606ea83b637cae9106b705...   \n",
       "\n",
       "                                              query_vector clicked_skus_hash  \\\n",
       "train 0  [-0.20255649089813232, -0.016908567398786545, ...               NaN   \n",
       "      1  [-0.007610442116856575, -0.14909175038337708, ...               NaN   \n",
       "      2  [-0.20023074746131897, -0.03151938319206238, 0...               NaN   \n",
       "      3  [-0.18556387722492218, -0.07620412111282349, 0...               NaN   \n",
       "      4  [-0.03269264101982117, -0.27234694361686707, 0...               NaN   \n",
       "\n",
       "                                         product_skus_hash  \\\n",
       "train 0                                                NaN   \n",
       "      1  ['9ee9ffd7e2529a65f9a0b0c9eaae6330df85cf2e3af3...   \n",
       "      2  ['7cc72dbed53bab78ec6a62feaa5052a7a1db7d201664...   \n",
       "      3  ['62c4ddab6c1c81c74d315376b3c0dc7768c0286b3dc6...   \n",
       "      4  ['2a0ee2924feabeec35e21e8fcb4d5b0684d190e46cef...   \n",
       "\n",
       "         server_timestamp_epoch_ms  \n",
       "train 0              1548575194779  \n",
       "      1              1548276763869  \n",
       "      2              1548937997295  \n",
       "      3              1548938038268  \n",
       "      4              1548938093827  "
      ]
     },
     "execution_count": 6,
     "metadata": {},
     "output_type": "execute_result"
    }
   ],
   "source": [
    "all_search = pd.concat([train_search, test_search], keys=['train', 'test'])\n",
    "all_search.head()"
   ]
  },
  {
   "cell_type": "code",
   "execution_count": 7,
   "metadata": {},
   "outputs": [],
   "source": [
    "def remap(df):\n",
    "    _, map_ids = pd.factorize(df)\n",
    "    return map_ids"
   ]
  },
  {
   "cell_type": "markdown",
   "metadata": {},
   "source": [
    "# remap session ids"
   ]
  },
  {
   "cell_type": "code",
   "execution_count": 8,
   "metadata": {},
   "outputs": [
    {
     "name": "stdout",
     "output_type": "stream",
     "text": [
      "the number of sessions is 5153009\n"
     ]
    }
   ],
   "source": [
    "all_sess_ids = pd.concat([all_inter['session_id_hash'], all_search['session_id_hash']])\n",
    "sess_map_ids = remap(all_sess_ids)\n",
    "sess2idx = {n:i for i, n in enumerate(sess_map_ids)}\n",
    "idx2sess = {i:n for i, n in enumerate(sess_map_ids)}\n",
    "print('the number of sessions is {}'.format(len(sess2idx)))"
   ]
  },
  {
   "cell_type": "markdown",
   "metadata": {},
   "source": [
    "# remap url ids"
   ]
  },
  {
   "cell_type": "code",
   "execution_count": 9,
   "metadata": {},
   "outputs": [
    {
     "name": "stdout",
     "output_type": "stream",
     "text": [
      "the number of urls is 498843\n"
     ]
    }
   ],
   "source": [
    "all_url_ids = all_inter['hashed_url']\n",
    "url_map_ids = remap(all_url_ids)\n",
    "url2idx = {n:i for i, n in enumerate(url_map_ids)}\n",
    "idx2url = {i:n for i, n in enumerate(url_map_ids)}\n",
    "print('the number of urls is {}'.format(len(url2idx)))"
   ]
  },
  {
   "cell_type": "markdown",
   "metadata": {},
   "source": [
    "# remap item ids"
   ]
  },
  {
   "cell_type": "code",
   "execution_count": 10,
   "metadata": {},
   "outputs": [],
   "source": [
    "sku_items = sku['product_sku_hash'].values"
   ]
  },
  {
   "cell_type": "code",
   "execution_count": 11,
   "metadata": {},
   "outputs": [],
   "source": [
    "all_search['product_skus_hash'] = all_search['product_skus_hash'].apply(lambda x: eval(x) if not pd.isna(x) else [])\n",
    "exp_items = np.concatenate(all_search['product_skus_hash'].values)"
   ]
  },
  {
   "cell_type": "code",
   "execution_count": 12,
   "metadata": {},
   "outputs": [],
   "source": [
    "all_search['clicked_skus_hash'] = all_search['clicked_skus_hash'].apply(lambda x: eval(x) if not pd.isna(x) else [])\n",
    "ckd_items = np.concatenate(all_search['clicked_skus_hash'].values)"
   ]
  },
  {
   "cell_type": "code",
   "execution_count": 21,
   "metadata": {},
   "outputs": [],
   "source": [
    "all_item_ids = pd.DataFrame({'product_skus_hash': np.concatenate([sku_items, ckd_items, exp_items])}) "
   ]
  },
  {
   "cell_type": "code",
   "execution_count": 22,
   "metadata": {},
   "outputs": [],
   "source": [
    "item_map_ids = remap(all_item_ids['product_skus_hash'])"
   ]
  },
  {
   "cell_type": "code",
   "execution_count": 25,
   "metadata": {},
   "outputs": [
    {
     "name": "stdout",
     "output_type": "stream",
     "text": [
      "the number of items is 66386\n"
     ]
    }
   ],
   "source": [
    "item2idx = {n:i for i, n in enumerate(item_map_ids)}\n",
    "idx2item = {i:n for i, n in enumerate(item_map_ids)}\n",
    "print('the number of items is {}'.format(len(idx2item)))"
   ]
  },
  {
   "cell_type": "markdown",
   "metadata": {},
   "source": [
    "# remap category ids"
   ]
  },
  {
   "cell_type": "code",
   "execution_count": 29,
   "metadata": {},
   "outputs": [
    {
     "name": "stdout",
     "output_type": "stream",
     "text": [
      "the number of cates is 174\n"
     ]
    }
   ],
   "source": [
    "all_cate_ids = sku['category_hash']\n",
    "cate_map_ids = remap(all_cate_ids)\n",
    "cate2idx = {n:i for i, n in enumerate(cate_map_ids)}\n",
    "idx2cate = {i:n for i, n in enumerate(cate_map_ids)}\n",
    "print('the number of cates is {}'.format(len(cate2idx)))"
   ]
  },
  {
   "cell_type": "markdown",
   "metadata": {},
   "source": [
    "# remap action ids"
   ]
  },
  {
   "cell_type": "code",
   "execution_count": 46,
   "metadata": {},
   "outputs": [
    {
     "name": "stdout",
     "output_type": "stream",
     "text": [
      "the number of acts is 5\n"
     ]
    }
   ],
   "source": [
    "all_inter['product_action'].fillna('pageview', inplace=True)\n",
    "all_act_ids = all_inter['product_action']\n",
    "act_map_ids = remap(all_act_ids)\n",
    "act2idx = {n:i for i, n in enumerate(act_map_ids)}\n",
    "idx2act = {i:n for i, n in enumerate(act_map_ids)}\n",
    "print('the number of acts is {}'.format(len(act2idx)))"
   ]
  },
  {
   "cell_type": "code",
   "execution_count": 51,
   "metadata": {},
   "outputs": [
    {
     "data": {
      "text/plain": [
       "{'detail': 0, 'pageview': 1, 'add': 2, 'purchase': 3, 'remove': 4}"
      ]
     },
     "execution_count": 51,
     "metadata": {},
     "output_type": "execute_result"
    }
   ],
   "source": [
    "act2idx"
   ]
  },
  {
   "cell_type": "code",
   "execution_count": 49,
   "metadata": {},
   "outputs": [],
   "source": [
    "all_inter.drop(columns=['event_type'], inplace=True)"
   ]
  },
  {
   "cell_type": "markdown",
   "metadata": {},
   "source": [
    "# map into csv"
   ]
  },
  {
   "cell_type": "markdown",
   "metadata": {},
   "source": [
    "## sku"
   ]
  },
  {
   "cell_type": "code",
   "execution_count": 27,
   "metadata": {},
   "outputs": [],
   "source": [
    "sku['product_sku_hash'] = sku['product_sku_hash'].map(item2idx)\n",
    "sku['category_hash'] = sku['category_hash'].map(cate2idx)"
   ]
  },
  {
   "cell_type": "code",
   "execution_count": 52,
   "metadata": {},
   "outputs": [
    {
     "data": {
      "text/html": [
       "<div>\n",
       "<style scoped>\n",
       "    .dataframe tbody tr th:only-of-type {\n",
       "        vertical-align: middle;\n",
       "    }\n",
       "\n",
       "    .dataframe tbody tr th {\n",
       "        vertical-align: top;\n",
       "    }\n",
       "\n",
       "    .dataframe thead th {\n",
       "        text-align: right;\n",
       "    }\n",
       "</style>\n",
       "<table border=\"1\" class=\"dataframe\">\n",
       "  <thead>\n",
       "    <tr style=\"text-align: right;\">\n",
       "      <th></th>\n",
       "      <th>product_sku_hash</th>\n",
       "      <th>description_vector</th>\n",
       "      <th>category_hash</th>\n",
       "      <th>image_vector</th>\n",
       "      <th>price_bucket</th>\n",
       "    </tr>\n",
       "  </thead>\n",
       "  <tbody>\n",
       "    <tr>\n",
       "      <th>0</th>\n",
       "      <td>0</td>\n",
       "      <td>NaN</td>\n",
       "      <td>NaN</td>\n",
       "      <td>NaN</td>\n",
       "      <td>NaN</td>\n",
       "    </tr>\n",
       "    <tr>\n",
       "      <th>1</th>\n",
       "      <td>1</td>\n",
       "      <td>NaN</td>\n",
       "      <td>NaN</td>\n",
       "      <td>NaN</td>\n",
       "      <td>NaN</td>\n",
       "    </tr>\n",
       "    <tr>\n",
       "      <th>2</th>\n",
       "      <td>2</td>\n",
       "      <td>[0.27629122138023376, -0.15763211250305176, 0....</td>\n",
       "      <td>0.0</td>\n",
       "      <td>[340.3592564184389, -220.19025864725685, 154.0...</td>\n",
       "      <td>7.0</td>\n",
       "    </tr>\n",
       "    <tr>\n",
       "      <th>3</th>\n",
       "      <td>3</td>\n",
       "      <td>[0.4058118760585785, -0.03595402091741562, 0.2...</td>\n",
       "      <td>1.0</td>\n",
       "      <td>[180.3463662921092, 222.702322343354, -8.88703...</td>\n",
       "      <td>8.0</td>\n",
       "    </tr>\n",
       "    <tr>\n",
       "      <th>4</th>\n",
       "      <td>4</td>\n",
       "      <td>[-0.3206155300140381, 0.01991105079650879, 0.0...</td>\n",
       "      <td>2.0</td>\n",
       "      <td>[-114.81079301576219, 84.55770104232334, 85.51...</td>\n",
       "      <td>2.0</td>\n",
       "    </tr>\n",
       "  </tbody>\n",
       "</table>\n",
       "</div>"
      ],
      "text/plain": [
       "   product_sku_hash                                 description_vector  \\\n",
       "0                 0                                                NaN   \n",
       "1                 1                                                NaN   \n",
       "2                 2  [0.27629122138023376, -0.15763211250305176, 0....   \n",
       "3                 3  [0.4058118760585785, -0.03595402091741562, 0.2...   \n",
       "4                 4  [-0.3206155300140381, 0.01991105079650879, 0.0...   \n",
       "\n",
       "   category_hash                                       image_vector  \\\n",
       "0            NaN                                                NaN   \n",
       "1            NaN                                                NaN   \n",
       "2            0.0  [340.3592564184389, -220.19025864725685, 154.0...   \n",
       "3            1.0  [180.3463662921092, 222.702322343354, -8.88703...   \n",
       "4            2.0  [-114.81079301576219, 84.55770104232334, 85.51...   \n",
       "\n",
       "   price_bucket  \n",
       "0           NaN  \n",
       "1           NaN  \n",
       "2           7.0  \n",
       "3           8.0  \n",
       "4           2.0  "
      ]
     },
     "execution_count": 52,
     "metadata": {},
     "output_type": "execute_result"
    }
   ],
   "source": [
    "sku.head()"
   ]
  },
  {
   "cell_type": "markdown",
   "metadata": {},
   "source": [
    "## inter"
   ]
  },
  {
   "cell_type": "code",
   "execution_count": 31,
   "metadata": {},
   "outputs": [],
   "source": [
    "all_inter['product_sku_hash'] = all_inter['product_sku_hash'].map(item2idx)\n",
    "all_inter['session_id_hash'] = all_inter['session_id_hash'].map(sess2idx)\n",
    "all_inter['hashed_url'] = all_inter['hashed_url'].map(url2idx)\n",
    "all_inter['product_action'] = all_inter['product_action'].map(act2idx)"
   ]
  },
  {
   "cell_type": "code",
   "execution_count": 53,
   "metadata": {},
   "outputs": [
    {
     "data": {
      "text/html": [
       "<div>\n",
       "<style scoped>\n",
       "    .dataframe tbody tr th:only-of-type {\n",
       "        vertical-align: middle;\n",
       "    }\n",
       "\n",
       "    .dataframe tbody tr th {\n",
       "        vertical-align: top;\n",
       "    }\n",
       "\n",
       "    .dataframe thead th {\n",
       "        text-align: right;\n",
       "    }\n",
       "</style>\n",
       "<table border=\"1\" class=\"dataframe\">\n",
       "  <thead>\n",
       "    <tr style=\"text-align: right;\">\n",
       "      <th></th>\n",
       "      <th></th>\n",
       "      <th>session_id_hash</th>\n",
       "      <th>product_action</th>\n",
       "      <th>product_sku_hash</th>\n",
       "      <th>server_timestamp_epoch_ms</th>\n",
       "      <th>hashed_url</th>\n",
       "    </tr>\n",
       "  </thead>\n",
       "  <tbody>\n",
       "    <tr>\n",
       "      <th rowspan=\"5\" valign=\"top\">train</th>\n",
       "      <th>0</th>\n",
       "      <td>0</td>\n",
       "      <td>0</td>\n",
       "      <td>31231.0</td>\n",
       "      <td>1550885210881</td>\n",
       "      <td>0</td>\n",
       "    </tr>\n",
       "    <tr>\n",
       "      <th>1</th>\n",
       "      <td>0</td>\n",
       "      <td>0</td>\n",
       "      <td>30494.0</td>\n",
       "      <td>1550885213307</td>\n",
       "      <td>1</td>\n",
       "    </tr>\n",
       "    <tr>\n",
       "      <th>2</th>\n",
       "      <td>0</td>\n",
       "      <td>1</td>\n",
       "      <td>NaN</td>\n",
       "      <td>1550885213307</td>\n",
       "      <td>1</td>\n",
       "    </tr>\n",
       "    <tr>\n",
       "      <th>3</th>\n",
       "      <td>0</td>\n",
       "      <td>0</td>\n",
       "      <td>31231.0</td>\n",
       "      <td>1550885215484</td>\n",
       "      <td>0</td>\n",
       "    </tr>\n",
       "    <tr>\n",
       "      <th>4</th>\n",
       "      <td>0</td>\n",
       "      <td>1</td>\n",
       "      <td>NaN</td>\n",
       "      <td>1550885215484</td>\n",
       "      <td>0</td>\n",
       "    </tr>\n",
       "  </tbody>\n",
       "</table>\n",
       "</div>"
      ],
      "text/plain": [
       "         session_id_hash  product_action  product_sku_hash  \\\n",
       "train 0                0               0           31231.0   \n",
       "      1                0               0           30494.0   \n",
       "      2                0               1               NaN   \n",
       "      3                0               0           31231.0   \n",
       "      4                0               1               NaN   \n",
       "\n",
       "         server_timestamp_epoch_ms  hashed_url  \n",
       "train 0              1550885210881           0  \n",
       "      1              1550885213307           1  \n",
       "      2              1550885213307           1  \n",
       "      3              1550885215484           0  \n",
       "      4              1550885215484           0  "
      ]
     },
     "execution_count": 53,
     "metadata": {},
     "output_type": "execute_result"
    }
   ],
   "source": [
    "all_inter.head()"
   ]
  },
  {
   "cell_type": "markdown",
   "metadata": {},
   "source": [
    "## search"
   ]
  },
  {
   "cell_type": "code",
   "execution_count": 55,
   "metadata": {},
   "outputs": [],
   "source": [
    "all_search['session_id_hash'] = all_search['session_id_hash'].map(sess2idx)\n",
    "all_search['clicked_skus_hash'] = all_search['clicked_skus_hash'].apply(lambda x: list(map(item2idx.get, x)))\n",
    "all_search['product_skus_hash'] = all_search['product_skus_hash'].apply(lambda x: list(map(item2idx.get, x)))"
   ]
  },
  {
   "cell_type": "code",
   "execution_count": 61,
   "metadata": {},
   "outputs": [
    {
     "data": {
      "text/html": [
       "<div>\n",
       "<style scoped>\n",
       "    .dataframe tbody tr th:only-of-type {\n",
       "        vertical-align: middle;\n",
       "    }\n",
       "\n",
       "    .dataframe tbody tr th {\n",
       "        vertical-align: top;\n",
       "    }\n",
       "\n",
       "    .dataframe thead th {\n",
       "        text-align: right;\n",
       "    }\n",
       "</style>\n",
       "<table border=\"1\" class=\"dataframe\">\n",
       "  <thead>\n",
       "    <tr style=\"text-align: right;\">\n",
       "      <th></th>\n",
       "      <th></th>\n",
       "      <th>session_id_hash</th>\n",
       "      <th>query_vector</th>\n",
       "      <th>clicked_skus_hash</th>\n",
       "      <th>product_skus_hash</th>\n",
       "      <th>server_timestamp_epoch_ms</th>\n",
       "    </tr>\n",
       "  </thead>\n",
       "  <tbody>\n",
       "    <tr>\n",
       "      <th rowspan=\"5\" valign=\"top\">train</th>\n",
       "      <th>0</th>\n",
       "      <td>1498632</td>\n",
       "      <td>[-0.20255649089813232, -0.016908567398786545, ...</td>\n",
       "      <td>[]</td>\n",
       "      <td>[]</td>\n",
       "      <td>1548575194779</td>\n",
       "    </tr>\n",
       "    <tr>\n",
       "      <th>1</th>\n",
       "      <td>1498641</td>\n",
       "      <td>[-0.007610442116856575, -0.14909175038337708, ...</td>\n",
       "      <td>[]</td>\n",
       "      <td>[20133, 44952, 46326]</td>\n",
       "      <td>1548276763869</td>\n",
       "    </tr>\n",
       "    <tr>\n",
       "      <th>2</th>\n",
       "      <td>1498647</td>\n",
       "      <td>[-0.20023074746131897, -0.03151938319206238, 0...</td>\n",
       "      <td>[]</td>\n",
       "      <td>[24916, 65372, 1640, 55027, 40991, 52685, 36305]</td>\n",
       "      <td>1548937997295</td>\n",
       "    </tr>\n",
       "    <tr>\n",
       "      <th>3</th>\n",
       "      <td>1498647</td>\n",
       "      <td>[-0.18556387722492218, -0.07620412111282349, 0...</td>\n",
       "      <td>[]</td>\n",
       "      <td>[65035, 37475, 3766, 52978, 65850, 33711, 1248...</td>\n",
       "      <td>1548938038268</td>\n",
       "    </tr>\n",
       "    <tr>\n",
       "      <th>4</th>\n",
       "      <td>1498647</td>\n",
       "      <td>[-0.03269264101982117, -0.27234694361686707, 0...</td>\n",
       "      <td>[]</td>\n",
       "      <td>[22249, 44982, 16330, 32905, 7367, 12983, 7233...</td>\n",
       "      <td>1548938093827</td>\n",
       "    </tr>\n",
       "  </tbody>\n",
       "</table>\n",
       "</div>"
      ],
      "text/plain": [
       "         session_id_hash                                       query_vector  \\\n",
       "train 0          1498632  [-0.20255649089813232, -0.016908567398786545, ...   \n",
       "      1          1498641  [-0.007610442116856575, -0.14909175038337708, ...   \n",
       "      2          1498647  [-0.20023074746131897, -0.03151938319206238, 0...   \n",
       "      3          1498647  [-0.18556387722492218, -0.07620412111282349, 0...   \n",
       "      4          1498647  [-0.03269264101982117, -0.27234694361686707, 0...   \n",
       "\n",
       "        clicked_skus_hash                                  product_skus_hash  \\\n",
       "train 0                []                                                 []   \n",
       "      1                []                              [20133, 44952, 46326]   \n",
       "      2                []   [24916, 65372, 1640, 55027, 40991, 52685, 36305]   \n",
       "      3                []  [65035, 37475, 3766, 52978, 65850, 33711, 1248...   \n",
       "      4                []  [22249, 44982, 16330, 32905, 7367, 12983, 7233...   \n",
       "\n",
       "         server_timestamp_epoch_ms  \n",
       "train 0              1548575194779  \n",
       "      1              1548276763869  \n",
       "      2              1548937997295  \n",
       "      3              1548938038268  \n",
       "      4              1548938093827  "
      ]
     },
     "execution_count": 61,
     "metadata": {},
     "output_type": "execute_result"
    }
   ],
   "source": [
    "all_search.head()"
   ]
  },
  {
   "cell_type": "markdown",
   "metadata": {},
   "source": [
    "# save pkl"
   ]
  },
  {
   "cell_type": "markdown",
   "metadata": {},
   "source": [
    "## eval str2list"
   ]
  },
  {
   "cell_type": "code",
   "execution_count": 62,
   "metadata": {},
   "outputs": [],
   "source": [
    "all_search['query_vector'] = all_search['query_vector'].apply(eval)"
   ]
  },
  {
   "cell_type": "code",
   "execution_count": 65,
   "metadata": {},
   "outputs": [],
   "source": [
    "sku['description_vector'] = sku['description_vector'].apply(lambda x: eval(x) if not pd.isna(x) else [])\n",
    "sku['image_vector'] = sku['image_vector'].apply(lambda x: eval(x) if not pd.isna(x) else [])"
   ]
  },
  {
   "cell_type": "markdown",
   "metadata": {},
   "source": [
    "## pkl"
   ]
  },
  {
   "cell_type": "code",
   "execution_count": 67,
   "metadata": {},
   "outputs": [],
   "source": [
    "import pickle"
   ]
  },
  {
   "cell_type": "code",
   "execution_count": 69,
   "metadata": {},
   "outputs": [],
   "source": [
    "with open('../dataset/new/sku_to_content.pkl', 'wb') as f:\n",
    "    pickle.dump(sku, f)"
   ]
  },
  {
   "cell_type": "code",
   "execution_count": 70,
   "metadata": {},
   "outputs": [],
   "source": [
    "with open('../dataset/new/search.pkl', 'wb') as f:\n",
    "    pickle.dump(all_search, f)"
   ]
  },
  {
   "cell_type": "code",
   "execution_count": 71,
   "metadata": {},
   "outputs": [],
   "source": [
    "with open('../dataset/new/browsing.pkl', 'wb') as f:\n",
    "    pickle.dump(all_inter, f)"
   ]
  },
  {
   "cell_type": "markdown",
   "metadata": {},
   "source": [
    "# info"
   ]
  },
  {
   "cell_type": "code",
   "execution_count": 72,
   "metadata": {},
   "outputs": [],
   "source": [
    "map_info = {\n",
    "    'item2idx': item2idx,\n",
    "    'idx2item': idx2item,\n",
    "    \n",
    "    'act2idx': act2idx,\n",
    "    'idx2act': idx2act,\n",
    "    \n",
    "    'cate2idx': cate2idx,\n",
    "    'url2idx': url2idx,\n",
    "    \n",
    "    'idx2url': idx2url,\n",
    "    'url2idx': url2idx,\n",
    "    \n",
    "    'sess2idx': sess2idx,\n",
    "    'idx2sess': idx2sess\n",
    "}"
   ]
  },
  {
   "cell_type": "code",
   "execution_count": 74,
   "metadata": {},
   "outputs": [],
   "source": [
    "with open('../dataset/new/map_info.pkl', 'wb') as f:\n",
    "    pickle.dump(map_info, f)"
   ]
  }
 ],
 "metadata": {
  "kernelspec": {
   "display_name": "torch",
   "language": "python",
   "name": "torch"
  },
  "language_info": {
   "codemirror_mode": {
    "name": "ipython",
    "version": 3
   },
   "file_extension": ".py",
   "mimetype": "text/x-python",
   "name": "python",
   "nbconvert_exporter": "python",
   "pygments_lexer": "ipython3",
   "version": "3.7.8"
  }
 },
 "nbformat": 4,
 "nbformat_minor": 4
}
