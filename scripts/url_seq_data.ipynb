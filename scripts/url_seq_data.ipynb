{
 "cells": [
  {
   "cell_type": "code",
   "execution_count": 6,
   "metadata": {},
   "outputs": [],
   "source": [
    "import pandas as pd\n",
    "import pickle\n",
    "import sys\n",
    "from utils import load_data\n",
    "from scipy.sparse import coo_matrix\n",
    "import seaborn as sns\n",
    "import numpy as np\n",
    "from tqdm import tqdm"
   ]
  },
  {
   "cell_type": "code",
   "execution_count": 2,
   "metadata": {},
   "outputs": [
    {
     "name": "stdout",
     "output_type": "stream",
     "text": [
      "load browsing done...\n",
      "load search done...\n",
      "load sku done...\n",
      "load info done...\n"
     ]
    }
   ],
   "source": [
    "browsing, search, sku, info = load_data('../dataset/new/')"
   ]
  },
  {
   "cell_type": "code",
   "execution_count": 3,
   "metadata": {},
   "outputs": [
    {
     "data": {
      "text/html": [
       "<div>\n",
       "<style scoped>\n",
       "    .dataframe tbody tr th:only-of-type {\n",
       "        vertical-align: middle;\n",
       "    }\n",
       "\n",
       "    .dataframe tbody tr th {\n",
       "        vertical-align: top;\n",
       "    }\n",
       "\n",
       "    .dataframe thead th {\n",
       "        text-align: right;\n",
       "    }\n",
       "</style>\n",
       "<table border=\"1\" class=\"dataframe\">\n",
       "  <thead>\n",
       "    <tr style=\"text-align: right;\">\n",
       "      <th></th>\n",
       "      <th></th>\n",
       "      <th>session_id_hash</th>\n",
       "      <th>query_vector</th>\n",
       "      <th>clicked_skus_hash</th>\n",
       "      <th>product_skus_hash</th>\n",
       "      <th>server_timestamp_epoch_ms</th>\n",
       "    </tr>\n",
       "  </thead>\n",
       "  <tbody>\n",
       "    <tr>\n",
       "      <th rowspan=\"5\" valign=\"top\">train</th>\n",
       "      <th>0</th>\n",
       "      <td>1498632</td>\n",
       "      <td>[-0.20255649089813232, -0.016908567398786545, ...</td>\n",
       "      <td>[]</td>\n",
       "      <td>[]</td>\n",
       "      <td>1548575194779</td>\n",
       "    </tr>\n",
       "    <tr>\n",
       "      <th>1</th>\n",
       "      <td>1498641</td>\n",
       "      <td>[-0.007610442116856575, -0.14909175038337708, ...</td>\n",
       "      <td>[]</td>\n",
       "      <td>[20133, 44952, 46326]</td>\n",
       "      <td>1548276763869</td>\n",
       "    </tr>\n",
       "    <tr>\n",
       "      <th>2</th>\n",
       "      <td>1498647</td>\n",
       "      <td>[-0.20023074746131897, -0.03151938319206238, 0...</td>\n",
       "      <td>[]</td>\n",
       "      <td>[24916, 65372, 1640, 55027, 40991, 52685, 36305]</td>\n",
       "      <td>1548937997295</td>\n",
       "    </tr>\n",
       "    <tr>\n",
       "      <th>3</th>\n",
       "      <td>1498647</td>\n",
       "      <td>[-0.18556387722492218, -0.07620412111282349, 0...</td>\n",
       "      <td>[]</td>\n",
       "      <td>[65035, 37475, 3766, 52978, 65850, 33711, 1248...</td>\n",
       "      <td>1548938038268</td>\n",
       "    </tr>\n",
       "    <tr>\n",
       "      <th>4</th>\n",
       "      <td>1498647</td>\n",
       "      <td>[-0.03269264101982117, -0.27234694361686707, 0...</td>\n",
       "      <td>[]</td>\n",
       "      <td>[22249, 44982, 16330, 32905, 7367, 12983, 7233...</td>\n",
       "      <td>1548938093827</td>\n",
       "    </tr>\n",
       "    <tr>\n",
       "      <th>...</th>\n",
       "      <th>...</th>\n",
       "      <td>...</td>\n",
       "      <td>...</td>\n",
       "      <td>...</td>\n",
       "      <td>...</td>\n",
       "      <td>...</td>\n",
       "    </tr>\n",
       "    <tr>\n",
       "      <th rowspan=\"5\" valign=\"top\">test</th>\n",
       "      <th>16914</th>\n",
       "      <td>5076719</td>\n",
       "      <td>[-0.1711975336074829, 0.008784637786448002, 0....</td>\n",
       "      <td>[]</td>\n",
       "      <td>[35348, 20424, 18802, 5155, 50488]</td>\n",
       "      <td>1555517283557</td>\n",
       "    </tr>\n",
       "    <tr>\n",
       "      <th>16915</th>\n",
       "      <td>5076747</td>\n",
       "      <td>[-0.21009723842144012, -0.37940073013305664, 0...</td>\n",
       "      <td>[32004]</td>\n",
       "      <td>[24812, 8816, 7237, 17386, 3711, 65389, 125, 1...</td>\n",
       "      <td>1556231324046</td>\n",
       "    </tr>\n",
       "    <tr>\n",
       "      <th>16916</th>\n",
       "      <td>5076749</td>\n",
       "      <td>[0.09223505854606628, 0.20877793431282043, 0.0...</td>\n",
       "      <td>[]</td>\n",
       "      <td>[]</td>\n",
       "      <td>1555791340920</td>\n",
       "    </tr>\n",
       "    <tr>\n",
       "      <th>16917</th>\n",
       "      <td>5076750</td>\n",
       "      <td>[-0.0683397725224495, -0.1326630413532257, -0....</td>\n",
       "      <td>[17899]</td>\n",
       "      <td>[1605, 9626, 17899, 54837, 50245, 16800]</td>\n",
       "      <td>1555619158162</td>\n",
       "    </tr>\n",
       "    <tr>\n",
       "      <th>16918</th>\n",
       "      <td>5076752</td>\n",
       "      <td>[0.059666723012924194, -0.09347045421600342, -...</td>\n",
       "      <td>[27746, 499]</td>\n",
       "      <td>[13492, 45882, 499, 7109, 27746]</td>\n",
       "      <td>1557406106800</td>\n",
       "    </tr>\n",
       "  </tbody>\n",
       "</table>\n",
       "<p>836435 rows × 5 columns</p>\n",
       "</div>"
      ],
      "text/plain": [
       "             session_id_hash  \\\n",
       "train 0              1498632   \n",
       "      1              1498641   \n",
       "      2              1498647   \n",
       "      3              1498647   \n",
       "      4              1498647   \n",
       "...                      ...   \n",
       "test  16914          5076719   \n",
       "      16915          5076747   \n",
       "      16916          5076749   \n",
       "      16917          5076750   \n",
       "      16918          5076752   \n",
       "\n",
       "                                                  query_vector  \\\n",
       "train 0      [-0.20255649089813232, -0.016908567398786545, ...   \n",
       "      1      [-0.007610442116856575, -0.14909175038337708, ...   \n",
       "      2      [-0.20023074746131897, -0.03151938319206238, 0...   \n",
       "      3      [-0.18556387722492218, -0.07620412111282349, 0...   \n",
       "      4      [-0.03269264101982117, -0.27234694361686707, 0...   \n",
       "...                                                        ...   \n",
       "test  16914  [-0.1711975336074829, 0.008784637786448002, 0....   \n",
       "      16915  [-0.21009723842144012, -0.37940073013305664, 0...   \n",
       "      16916  [0.09223505854606628, 0.20877793431282043, 0.0...   \n",
       "      16917  [-0.0683397725224495, -0.1326630413532257, -0....   \n",
       "      16918  [0.059666723012924194, -0.09347045421600342, -...   \n",
       "\n",
       "            clicked_skus_hash  \\\n",
       "train 0                    []   \n",
       "      1                    []   \n",
       "      2                    []   \n",
       "      3                    []   \n",
       "      4                    []   \n",
       "...                       ...   \n",
       "test  16914                []   \n",
       "      16915           [32004]   \n",
       "      16916                []   \n",
       "      16917           [17899]   \n",
       "      16918      [27746, 499]   \n",
       "\n",
       "                                             product_skus_hash  \\\n",
       "train 0                                                     []   \n",
       "      1                                  [20133, 44952, 46326]   \n",
       "      2       [24916, 65372, 1640, 55027, 40991, 52685, 36305]   \n",
       "      3      [65035, 37475, 3766, 52978, 65850, 33711, 1248...   \n",
       "      4      [22249, 44982, 16330, 32905, 7367, 12983, 7233...   \n",
       "...                                                        ...   \n",
       "test  16914                 [35348, 20424, 18802, 5155, 50488]   \n",
       "      16915  [24812, 8816, 7237, 17386, 3711, 65389, 125, 1...   \n",
       "      16916                                                 []   \n",
       "      16917           [1605, 9626, 17899, 54837, 50245, 16800]   \n",
       "      16918                   [13492, 45882, 499, 7109, 27746]   \n",
       "\n",
       "             server_timestamp_epoch_ms  \n",
       "train 0                  1548575194779  \n",
       "      1                  1548276763869  \n",
       "      2                  1548937997295  \n",
       "      3                  1548938038268  \n",
       "      4                  1548938093827  \n",
       "...                                ...  \n",
       "test  16914              1555517283557  \n",
       "      16915              1556231324046  \n",
       "      16916              1555791340920  \n",
       "      16917              1555619158162  \n",
       "      16918              1557406106800  \n",
       "\n",
       "[836435 rows x 5 columns]"
      ]
     },
     "execution_count": 3,
     "metadata": {},
     "output_type": "execute_result"
    }
   ],
   "source": [
    "search"
   ]
  },
  {
   "cell_type": "code",
   "execution_count": 5,
   "metadata": {},
   "outputs": [
    {
     "data": {
      "text/plain": [
       "Index(['session_id_hash', 'query_vector', 'clicked_skus_hash',\n",
       "       'product_skus_hash', 'server_timestamp_epoch_ms'],\n",
       "      dtype='object')"
      ]
     },
     "execution_count": 5,
     "metadata": {},
     "output_type": "execute_result"
    }
   ],
   "source": [
    "search.columns"
   ]
  },
  {
   "cell_type": "code",
   "execution_count": 6,
   "metadata": {},
   "outputs": [
    {
     "data": {
      "text/plain": [
       "{0: 'detail', 1: 'pageview', 2: 'add', 3: 'purchase', 4: 'remove'}"
      ]
     },
     "execution_count": 6,
     "metadata": {},
     "output_type": "execute_result"
    }
   ],
   "source": [
    "info.idx2act"
   ]
  },
  {
   "cell_type": "code",
   "execution_count": 7,
   "metadata": {},
   "outputs": [],
   "source": [
    "browsing = browsing[browsing['product_action'] != 4].copy()"
   ]
  },
  {
   "cell_type": "code",
   "execution_count": 8,
   "metadata": {},
   "outputs": [],
   "source": [
    "url2item = browsing.dropna().drop_duplicates(subset=['hashed_url', 'product_sku_hash']).groupby('hashed_url')['product_sku_hash'].agg(list)\n",
    "url2item = url2item.reset_index()\n",
    "url2item['product_sku_hash'] = url2item['product_sku_hash'].apply(lambda x: x[0])\n",
    "url2item = np.vstack(url2item.values).T\n",
    "url2item = url2item.astype(int).tolist()\n",
    "url2item = dict(zip(*url2item))\n",
    "browsing['product_sku_hash'] = browsing['hashed_url'].map(url2item.get)"
   ]
  },
  {
   "cell_type": "code",
   "execution_count": 15,
   "metadata": {},
   "outputs": [],
   "source": [
    "browsing.drop_duplicates(subset=['session_id_hash', 'hashed_url'], keep='last', inplace=True)\n",
    "browsing = browsing.sort_values(by=['session_id_hash', 'server_timestamp_epoch_ms'])\n",
    "browsing['hashed_url'] = browsing['hashed_url'].astype('int')\n",
    "# browsing['product_sku_hash'] = browsing['product_sku_hash'].astype('int')"
   ]
  },
  {
   "cell_type": "code",
   "execution_count": 16,
   "metadata": {},
   "outputs": [],
   "source": [
    "browsing = browsing[['session_id_hash', 'product_sku_hash', 'hashed_url', 'server_timestamp_epoch_ms']]\n",
    "browsing.columns = ['sess_id', 'sku_id', 'url_id', 'timestamp']"
   ]
  },
  {
   "cell_type": "code",
   "execution_count": 17,
   "metadata": {},
   "outputs": [],
   "source": [
    "browsing_train = browsing.loc['train', :].copy()\n",
    "browsing_test = browsing.loc['test', :].copy()"
   ]
  },
  {
   "cell_type": "code",
   "execution_count": 18,
   "metadata": {},
   "outputs": [],
   "source": [
    "train = browsing_train.copy()\n",
    "test = browsing_test.copy()"
   ]
  },
  {
   "cell_type": "code",
   "execution_count": 20,
   "metadata": {},
   "outputs": [],
   "source": [
    "train['url_count'] = train.groupby('sess_id')['url_id'].transform('count')\n",
    "train = train[train['url_count'] >=2]\n",
    "train.drop(columns=['url_count'], inplace=True)"
   ]
  },
  {
   "cell_type": "code",
   "execution_count": 21,
   "metadata": {},
   "outputs": [
    {
     "data": {
      "text/plain": [
       "((14928146, 4), (424540, 4))"
      ]
     },
     "execution_count": 21,
     "metadata": {},
     "output_type": "execute_result"
    }
   ],
   "source": [
    "train.shape, test.shape"
   ]
  },
  {
   "cell_type": "code",
   "execution_count": 22,
   "metadata": {},
   "outputs": [
    {
     "data": {
      "text/html": [
       "<div>\n",
       "<style scoped>\n",
       "    .dataframe tbody tr th:only-of-type {\n",
       "        vertical-align: middle;\n",
       "    }\n",
       "\n",
       "    .dataframe tbody tr th {\n",
       "        vertical-align: top;\n",
       "    }\n",
       "\n",
       "    .dataframe thead th {\n",
       "        text-align: right;\n",
       "    }\n",
       "</style>\n",
       "<table border=\"1\" class=\"dataframe\">\n",
       "  <thead>\n",
       "    <tr style=\"text-align: right;\">\n",
       "      <th></th>\n",
       "      <th>sess_id</th>\n",
       "      <th>sku_id</th>\n",
       "      <th>url_id</th>\n",
       "      <th>timestamp</th>\n",
       "    </tr>\n",
       "  </thead>\n",
       "  <tbody>\n",
       "    <tr>\n",
       "      <th>16758591</th>\n",
       "      <td>0</td>\n",
       "      <td>NaN</td>\n",
       "      <td>2187</td>\n",
       "      <td>1550884057392</td>\n",
       "    </tr>\n",
       "    <tr>\n",
       "      <th>16758599</th>\n",
       "      <td>0</td>\n",
       "      <td>42112.0</td>\n",
       "      <td>5870</td>\n",
       "      <td>1550885056208</td>\n",
       "    </tr>\n",
       "    <tr>\n",
       "      <th>16758600</th>\n",
       "      <td>0</td>\n",
       "      <td>NaN</td>\n",
       "      <td>3</td>\n",
       "      <td>1550885061564</td>\n",
       "    </tr>\n",
       "    <tr>\n",
       "      <th>16758612</th>\n",
       "      <td>0</td>\n",
       "      <td>30494.0</td>\n",
       "      <td>1</td>\n",
       "      <td>1550885205035</td>\n",
       "    </tr>\n",
       "    <tr>\n",
       "      <th>16758613</th>\n",
       "      <td>0</td>\n",
       "      <td>31231.0</td>\n",
       "      <td>0</td>\n",
       "      <td>1550885210881</td>\n",
       "    </tr>\n",
       "    <tr>\n",
       "      <th>...</th>\n",
       "      <td>...</td>\n",
       "      <td>...</td>\n",
       "      <td>...</td>\n",
       "      <td>...</td>\n",
       "    </tr>\n",
       "    <tr>\n",
       "      <th>36079285</th>\n",
       "      <td>4934698</td>\n",
       "      <td>NaN</td>\n",
       "      <td>5</td>\n",
       "      <td>1550870912491</td>\n",
       "    </tr>\n",
       "    <tr>\n",
       "      <th>36079286</th>\n",
       "      <td>4934698</td>\n",
       "      <td>NaN</td>\n",
       "      <td>179</td>\n",
       "      <td>1550870916250</td>\n",
       "    </tr>\n",
       "    <tr>\n",
       "      <th>36079287</th>\n",
       "      <td>4934698</td>\n",
       "      <td>NaN</td>\n",
       "      <td>96</td>\n",
       "      <td>1550870946172</td>\n",
       "    </tr>\n",
       "    <tr>\n",
       "      <th>36079288</th>\n",
       "      <td>4934698</td>\n",
       "      <td>NaN</td>\n",
       "      <td>16</td>\n",
       "      <td>1550870968864</td>\n",
       "    </tr>\n",
       "    <tr>\n",
       "      <th>36079290</th>\n",
       "      <td>4934698</td>\n",
       "      <td>32544.0</td>\n",
       "      <td>1029</td>\n",
       "      <td>1550871027401</td>\n",
       "    </tr>\n",
       "  </tbody>\n",
       "</table>\n",
       "<p>14928146 rows × 4 columns</p>\n",
       "</div>"
      ],
      "text/plain": [
       "          sess_id   sku_id  url_id      timestamp\n",
       "16758591        0      NaN    2187  1550884057392\n",
       "16758599        0  42112.0    5870  1550885056208\n",
       "16758600        0      NaN       3  1550885061564\n",
       "16758612        0  30494.0       1  1550885205035\n",
       "16758613        0  31231.0       0  1550885210881\n",
       "...           ...      ...     ...            ...\n",
       "36079285  4934698      NaN       5  1550870912491\n",
       "36079286  4934698      NaN     179  1550870916250\n",
       "36079287  4934698      NaN      96  1550870946172\n",
       "36079288  4934698      NaN      16  1550870968864\n",
       "36079290  4934698  32544.0    1029  1550871027401\n",
       "\n",
       "[14928146 rows x 4 columns]"
      ]
     },
     "execution_count": 22,
     "metadata": {},
     "output_type": "execute_result"
    }
   ],
   "source": [
    "train"
   ]
  },
  {
   "cell_type": "code",
   "execution_count": 24,
   "metadata": {},
   "outputs": [],
   "source": [
    "test_pad = test.groupby('sess_id').tail(1).copy()\n",
    "test_pad['timestamp'] += 1\n",
    "test_dev = pd.concat([test, test_pad])"
   ]
  },
  {
   "cell_type": "code",
   "execution_count": 25,
   "metadata": {},
   "outputs": [],
   "source": [
    "test_dev = test_dev.sort_values(by=['sess_id', 'timestamp'])\n",
    "train = train.sort_values(by=['sess_id', 'timestamp'])"
   ]
  },
  {
   "cell_type": "code",
   "execution_count": 26,
   "metadata": {},
   "outputs": [],
   "source": [
    "train.fillna(-1, inplace=True)\n",
    "test_dev.fillna(-1, inplace=True)"
   ]
  },
  {
   "cell_type": "code",
   "execution_count": 27,
   "metadata": {},
   "outputs": [],
   "source": [
    "train['sku_id'] = train['sku_id'].astype('int')\n",
    "test_dev['sku_id'] = test_dev['sku_id'].astype('int')"
   ]
  },
  {
   "cell_type": "code",
   "execution_count": 28,
   "metadata": {},
   "outputs": [],
   "source": [
    "train_set = []\n",
    "valid_set = []\n",
    "test_set = []"
   ]
  },
  {
   "cell_type": "code",
   "execution_count": 29,
   "metadata": {},
   "outputs": [
    {
     "name": "stderr",
     "output_type": "stream",
     "text": [
      "100%|██████████| 2573090/2573090 [04:32<00:00, 9443.50it/s] \n"
     ]
    }
   ],
   "source": [
    "seq_len = 3\n",
    "for sess_id, data_id in tqdm(train.groupby('sess_id')[['sku_id', 'url_id']]):\n",
    "    url_ids = data_id['url_id'].tolist()\n",
    "    sku_ids = data_id['sku_id'].tolist()\n",
    "    his_mask = data_id['sku_id'].tolist()\n",
    "    for idx in range(1, len(url_ids)-1):\n",
    "        if idx < seq_len:\n",
    "            seq = url_ids[:idx] + [-1] * (seq_len - idx)\n",
    "        else:\n",
    "            seq = url_ids[idx - seq_len:idx]\n",
    "        target = sku_ids[idx]\n",
    "        if target < 0:\n",
    "            continue\n",
    "        train_set.append((sess_id, seq, his_mask[:idx], int(target)))\n",
    "        \n",
    "    idx = len(url_ids)-1\n",
    "    if idx < seq_len:\n",
    "        seq = url_ids[:idx] + [-1] * (seq_len - idx)\n",
    "    else:\n",
    "        seq = url_ids[idx - seq_len:idx]\n",
    "    target = sku_ids[idx]\n",
    "    if target < 0:\n",
    "        continue\n",
    "    valid_set.append((sess_id, seq, his_mask[:idx], int(target)))  "
   ]
  },
  {
   "cell_type": "code",
   "execution_count": 30,
   "metadata": {},
   "outputs": [
    {
     "data": {
      "text/plain": [
       "(4337037, 1197025)"
      ]
     },
     "execution_count": 30,
     "metadata": {},
     "output_type": "execute_result"
    }
   ],
   "source": [
    "len(train_set), len(valid_set)"
   ]
  },
  {
   "cell_type": "code",
   "execution_count": 31,
   "metadata": {},
   "outputs": [
    {
     "data": {
      "text/html": [
       "<div>\n",
       "<style scoped>\n",
       "    .dataframe tbody tr th:only-of-type {\n",
       "        vertical-align: middle;\n",
       "    }\n",
       "\n",
       "    .dataframe tbody tr th {\n",
       "        vertical-align: top;\n",
       "    }\n",
       "\n",
       "    .dataframe thead th {\n",
       "        text-align: right;\n",
       "    }\n",
       "</style>\n",
       "<table border=\"1\" class=\"dataframe\">\n",
       "  <thead>\n",
       "    <tr style=\"text-align: right;\">\n",
       "      <th></th>\n",
       "      <th>sess_id</th>\n",
       "      <th>sku_id</th>\n",
       "      <th>url_id</th>\n",
       "      <th>timestamp</th>\n",
       "    </tr>\n",
       "  </thead>\n",
       "  <tbody>\n",
       "    <tr>\n",
       "      <th>0</th>\n",
       "      <td>4934699</td>\n",
       "      <td>391</td>\n",
       "      <td>19977</td>\n",
       "      <td>1557432435044</td>\n",
       "    </tr>\n",
       "    <tr>\n",
       "      <th>0</th>\n",
       "      <td>4934699</td>\n",
       "      <td>391</td>\n",
       "      <td>19977</td>\n",
       "      <td>1557432435045</td>\n",
       "    </tr>\n",
       "    <tr>\n",
       "      <th>1</th>\n",
       "      <td>4934700</td>\n",
       "      <td>13483</td>\n",
       "      <td>6506</td>\n",
       "      <td>1555443439867</td>\n",
       "    </tr>\n",
       "    <tr>\n",
       "      <th>1</th>\n",
       "      <td>4934700</td>\n",
       "      <td>13483</td>\n",
       "      <td>6506</td>\n",
       "      <td>1555443439868</td>\n",
       "    </tr>\n",
       "    <tr>\n",
       "      <th>2</th>\n",
       "      <td>4934701</td>\n",
       "      <td>-1</td>\n",
       "      <td>428</td>\n",
       "      <td>1556729588695</td>\n",
       "    </tr>\n",
       "    <tr>\n",
       "      <th>...</th>\n",
       "      <td>...</td>\n",
       "      <td>...</td>\n",
       "      <td>...</td>\n",
       "      <td>...</td>\n",
       "    </tr>\n",
       "    <tr>\n",
       "      <th>559513</th>\n",
       "      <td>5076752</td>\n",
       "      <td>13492</td>\n",
       "      <td>24609</td>\n",
       "      <td>1557406442987</td>\n",
       "    </tr>\n",
       "    <tr>\n",
       "      <th>559514</th>\n",
       "      <td>5076753</td>\n",
       "      <td>57288</td>\n",
       "      <td>176</td>\n",
       "      <td>1557337655966</td>\n",
       "    </tr>\n",
       "    <tr>\n",
       "      <th>559514</th>\n",
       "      <td>5076753</td>\n",
       "      <td>57288</td>\n",
       "      <td>176</td>\n",
       "      <td>1557337655967</td>\n",
       "    </tr>\n",
       "    <tr>\n",
       "      <th>559515</th>\n",
       "      <td>5076754</td>\n",
       "      <td>36654</td>\n",
       "      <td>4252</td>\n",
       "      <td>1556234499481</td>\n",
       "    </tr>\n",
       "    <tr>\n",
       "      <th>559515</th>\n",
       "      <td>5076754</td>\n",
       "      <td>36654</td>\n",
       "      <td>4252</td>\n",
       "      <td>1556234499482</td>\n",
       "    </tr>\n",
       "  </tbody>\n",
       "</table>\n",
       "<p>566582 rows × 4 columns</p>\n",
       "</div>"
      ],
      "text/plain": [
       "        sess_id  sku_id  url_id      timestamp\n",
       "0       4934699     391   19977  1557432435044\n",
       "0       4934699     391   19977  1557432435045\n",
       "1       4934700   13483    6506  1555443439867\n",
       "1       4934700   13483    6506  1555443439868\n",
       "2       4934701      -1     428  1556729588695\n",
       "...         ...     ...     ...            ...\n",
       "559513  5076752   13492   24609  1557406442987\n",
       "559514  5076753   57288     176  1557337655966\n",
       "559514  5076753   57288     176  1557337655967\n",
       "559515  5076754   36654    4252  1556234499481\n",
       "559515  5076754   36654    4252  1556234499482\n",
       "\n",
       "[566582 rows x 4 columns]"
      ]
     },
     "execution_count": 31,
     "metadata": {},
     "output_type": "execute_result"
    }
   ],
   "source": [
    "test_dev"
   ]
  },
  {
   "cell_type": "code",
   "execution_count": 32,
   "metadata": {},
   "outputs": [
    {
     "name": "stderr",
     "output_type": "stream",
     "text": [
      "100%|██████████| 142042/142042 [00:13<00:00, 10914.81it/s]\n"
     ]
    }
   ],
   "source": [
    "for sess_id, data_id in tqdm(test_dev.groupby('sess_id')[['sku_id', 'url_id']]):\n",
    "    url_ids = data_id['url_id'].tolist()\n",
    "    sku_ids = data_id['sku_id'].tolist()\n",
    "    his_mask = data_id['sku_id'].tolist()\n",
    "    for idx in range(1, len(url_ids)-1):\n",
    "        if idx < seq_len:\n",
    "            seq = url_ids[:idx] + [-1] * (seq_len - idx)\n",
    "        else:\n",
    "            seq = url_ids[idx - seq_len:idx]\n",
    "        target = sku_ids[idx]\n",
    "        if target < 0:\n",
    "            continue\n",
    "        train_set.append((sess_id, seq, his_mask[:idx], int(target)))\n",
    "        \n",
    "    idx = len(url_ids)-1\n",
    "    if idx < seq_len:\n",
    "        seq = url_ids[:idx] + [-1] * (seq_len - idx)\n",
    "    else:\n",
    "        seq = url_ids[idx - seq_len:idx]\n",
    "    target = sku_ids[idx]\n",
    "    if target < 0:\n",
    "        continue\n",
    "    test_set.append((sess_id, seq, his_mask[:idx], int(target)))"
   ]
  },
  {
   "cell_type": "code",
   "execution_count": 33,
   "metadata": {},
   "outputs": [],
   "source": [
    "train_set += valid_set[:1100000]\n",
    "valid_set = valid_set[1100000:]"
   ]
  },
  {
   "cell_type": "code",
   "execution_count": 34,
   "metadata": {},
   "outputs": [
    {
     "data": {
      "text/plain": [
       "(5560178, 97025, 77196)"
      ]
     },
     "execution_count": 34,
     "metadata": {},
     "output_type": "execute_result"
    }
   ],
   "source": [
    "len(train_set), len(valid_set), len(test_set)"
   ]
  },
  {
   "cell_type": "code",
   "execution_count": 35,
   "metadata": {},
   "outputs": [
    {
     "data": {
      "text/html": [
       "<div>\n",
       "<style scoped>\n",
       "    .dataframe tbody tr th:only-of-type {\n",
       "        vertical-align: middle;\n",
       "    }\n",
       "\n",
       "    .dataframe tbody tr th {\n",
       "        vertical-align: top;\n",
       "    }\n",
       "\n",
       "    .dataframe thead th {\n",
       "        text-align: right;\n",
       "    }\n",
       "</style>\n",
       "<table border=\"1\" class=\"dataframe\">\n",
       "  <thead>\n",
       "    <tr style=\"text-align: right;\">\n",
       "      <th></th>\n",
       "      <th>sess_id</th>\n",
       "      <th>sku_id</th>\n",
       "      <th>url_id</th>\n",
       "      <th>timestamp</th>\n",
       "    </tr>\n",
       "  </thead>\n",
       "  <tbody>\n",
       "    <tr>\n",
       "      <th>16758591</th>\n",
       "      <td>0</td>\n",
       "      <td>-1</td>\n",
       "      <td>2187</td>\n",
       "      <td>1550884057392</td>\n",
       "    </tr>\n",
       "    <tr>\n",
       "      <th>16758599</th>\n",
       "      <td>0</td>\n",
       "      <td>42112</td>\n",
       "      <td>5870</td>\n",
       "      <td>1550885056208</td>\n",
       "    </tr>\n",
       "    <tr>\n",
       "      <th>16758600</th>\n",
       "      <td>0</td>\n",
       "      <td>-1</td>\n",
       "      <td>3</td>\n",
       "      <td>1550885061564</td>\n",
       "    </tr>\n",
       "    <tr>\n",
       "      <th>16758612</th>\n",
       "      <td>0</td>\n",
       "      <td>30494</td>\n",
       "      <td>1</td>\n",
       "      <td>1550885205035</td>\n",
       "    </tr>\n",
       "    <tr>\n",
       "      <th>16758613</th>\n",
       "      <td>0</td>\n",
       "      <td>31231</td>\n",
       "      <td>0</td>\n",
       "      <td>1550885210881</td>\n",
       "    </tr>\n",
       "    <tr>\n",
       "      <th>...</th>\n",
       "      <td>...</td>\n",
       "      <td>...</td>\n",
       "      <td>...</td>\n",
       "      <td>...</td>\n",
       "    </tr>\n",
       "    <tr>\n",
       "      <th>36079285</th>\n",
       "      <td>4934698</td>\n",
       "      <td>-1</td>\n",
       "      <td>5</td>\n",
       "      <td>1550870912491</td>\n",
       "    </tr>\n",
       "    <tr>\n",
       "      <th>36079286</th>\n",
       "      <td>4934698</td>\n",
       "      <td>-1</td>\n",
       "      <td>179</td>\n",
       "      <td>1550870916250</td>\n",
       "    </tr>\n",
       "    <tr>\n",
       "      <th>36079287</th>\n",
       "      <td>4934698</td>\n",
       "      <td>-1</td>\n",
       "      <td>96</td>\n",
       "      <td>1550870946172</td>\n",
       "    </tr>\n",
       "    <tr>\n",
       "      <th>36079288</th>\n",
       "      <td>4934698</td>\n",
       "      <td>-1</td>\n",
       "      <td>16</td>\n",
       "      <td>1550870968864</td>\n",
       "    </tr>\n",
       "    <tr>\n",
       "      <th>36079290</th>\n",
       "      <td>4934698</td>\n",
       "      <td>32544</td>\n",
       "      <td>1029</td>\n",
       "      <td>1550871027401</td>\n",
       "    </tr>\n",
       "  </tbody>\n",
       "</table>\n",
       "<p>14928146 rows × 4 columns</p>\n",
       "</div>"
      ],
      "text/plain": [
       "          sess_id  sku_id  url_id      timestamp\n",
       "16758591        0      -1    2187  1550884057392\n",
       "16758599        0   42112    5870  1550885056208\n",
       "16758600        0      -1       3  1550885061564\n",
       "16758612        0   30494       1  1550885205035\n",
       "16758613        0   31231       0  1550885210881\n",
       "...           ...     ...     ...            ...\n",
       "36079285  4934698      -1       5  1550870912491\n",
       "36079286  4934698      -1     179  1550870916250\n",
       "36079287  4934698      -1      96  1550870946172\n",
       "36079288  4934698      -1      16  1550870968864\n",
       "36079290  4934698   32544    1029  1550871027401\n",
       "\n",
       "[14928146 rows x 4 columns]"
      ]
     },
     "execution_count": 35,
     "metadata": {},
     "output_type": "execute_result"
    }
   ],
   "source": [
    "train"
   ]
  },
  {
   "cell_type": "code",
   "execution_count": 36,
   "metadata": {},
   "outputs": [],
   "source": [
    "for name, data in zip(['url_train', 'url_valid', 'url_test'], [train_set, valid_set, test_set]):\n",
    "    pathname = f'../dataset/prepared/{name}.csv'\n",
    "    with open(pathname, 'w') as f:\n",
    "        for user_id, seq, mask, target in data:\n",
    "            f.write(','.join([str(user_id), '|'.join(map(str, seq)), '|'.join(map(str, mask)), str(target)]))\n",
    "            f.write('\\n')"
   ]
  },
  {
   "cell_type": "code",
   "execution_count": 39,
   "metadata": {},
   "outputs": [],
   "source": [
    "np.save('../dataset/prepared/url_test_items.npy', test_items)"
   ]
  }
 ],
 "metadata": {
  "kernelspec": {
   "display_name": "torch",
   "language": "python",
   "name": "torch"
  },
  "language_info": {
   "codemirror_mode": {
    "name": "ipython",
    "version": 3
   },
   "file_extension": ".py",
   "mimetype": "text/x-python",
   "name": "python",
   "nbconvert_exporter": "python",
   "pygments_lexer": "ipython3",
   "version": "3.7.8"
  }
 },
 "nbformat": 4,
 "nbformat_minor": 4
}
