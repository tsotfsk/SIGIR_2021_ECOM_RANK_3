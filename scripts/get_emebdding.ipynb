{
 "cells": [
  {
   "cell_type": "code",
   "execution_count": 44,
   "metadata": {},
   "outputs": [],
   "source": [
    "import pandas as pd\n",
    "import numpy as np\n",
    "import pickle\n",
    "from utils import load_data\n",
    "from scipy.sparse import coo_matrix\n",
    "import seaborn as sns"
   ]
  },
  {
   "cell_type": "code",
   "execution_count": 2,
   "metadata": {},
   "outputs": [
    {
     "name": "stdout",
     "output_type": "stream",
     "text": [
      "load browsing done...\n",
      "load search done...\n",
      "load sku done...\n",
      "load info done...\n"
     ]
    }
   ],
   "source": [
    "browsing, search, sku, info = load_data('../dataset/new/')"
   ]
  },
  {
   "cell_type": "code",
   "execution_count": 11,
   "metadata": {},
   "outputs": [
    {
     "data": {
      "text/html": [
       "<div>\n",
       "<style scoped>\n",
       "    .dataframe tbody tr th:only-of-type {\n",
       "        vertical-align: middle;\n",
       "    }\n",
       "\n",
       "    .dataframe tbody tr th {\n",
       "        vertical-align: top;\n",
       "    }\n",
       "\n",
       "    .dataframe thead th {\n",
       "        text-align: right;\n",
       "    }\n",
       "</style>\n",
       "<table border=\"1\" class=\"dataframe\">\n",
       "  <thead>\n",
       "    <tr style=\"text-align: right;\">\n",
       "      <th></th>\n",
       "      <th>product_sku_hash</th>\n",
       "      <th>description_vector</th>\n",
       "      <th>category_hash</th>\n",
       "      <th>image_vector</th>\n",
       "      <th>price_bucket</th>\n",
       "    </tr>\n",
       "  </thead>\n",
       "  <tbody>\n",
       "    <tr>\n",
       "      <th>0</th>\n",
       "      <td>0</td>\n",
       "      <td>[]</td>\n",
       "      <td>NaN</td>\n",
       "      <td>[]</td>\n",
       "      <td>NaN</td>\n",
       "    </tr>\n",
       "    <tr>\n",
       "      <th>1</th>\n",
       "      <td>1</td>\n",
       "      <td>[]</td>\n",
       "      <td>NaN</td>\n",
       "      <td>[]</td>\n",
       "      <td>NaN</td>\n",
       "    </tr>\n",
       "    <tr>\n",
       "      <th>2</th>\n",
       "      <td>2</td>\n",
       "      <td>[0.27629122138023376, -0.15763211250305176, 0....</td>\n",
       "      <td>0.0</td>\n",
       "      <td>[340.3592564184389, -220.19025864725685, 154.0...</td>\n",
       "      <td>7.0</td>\n",
       "    </tr>\n",
       "    <tr>\n",
       "      <th>3</th>\n",
       "      <td>3</td>\n",
       "      <td>[0.4058118760585785, -0.03595402091741562, 0.2...</td>\n",
       "      <td>1.0</td>\n",
       "      <td>[180.3463662921092, 222.702322343354, -8.88703...</td>\n",
       "      <td>8.0</td>\n",
       "    </tr>\n",
       "    <tr>\n",
       "      <th>4</th>\n",
       "      <td>4</td>\n",
       "      <td>[-0.3206155300140381, 0.01991105079650879, 0.0...</td>\n",
       "      <td>2.0</td>\n",
       "      <td>[-114.81079301576219, 84.55770104232334, 85.51...</td>\n",
       "      <td>2.0</td>\n",
       "    </tr>\n",
       "    <tr>\n",
       "      <th>...</th>\n",
       "      <td>...</td>\n",
       "      <td>...</td>\n",
       "      <td>...</td>\n",
       "      <td>...</td>\n",
       "      <td>...</td>\n",
       "    </tr>\n",
       "    <tr>\n",
       "      <th>66381</th>\n",
       "      <td>66381</td>\n",
       "      <td>[]</td>\n",
       "      <td>NaN</td>\n",
       "      <td>[]</td>\n",
       "      <td>NaN</td>\n",
       "    </tr>\n",
       "    <tr>\n",
       "      <th>66382</th>\n",
       "      <td>66382</td>\n",
       "      <td>[-0.19150441884994507, -0.06235162168741226, -...</td>\n",
       "      <td>24.0</td>\n",
       "      <td>[129.55668732976045, 43.27996741934932, -36.70...</td>\n",
       "      <td>3.0</td>\n",
       "    </tr>\n",
       "    <tr>\n",
       "      <th>66383</th>\n",
       "      <td>66383</td>\n",
       "      <td>[-0.19760936498641968, 0.4446450471878052, -0....</td>\n",
       "      <td>2.0</td>\n",
       "      <td>[-158.25984189321855, 74.19255741438077, 199.6...</td>\n",
       "      <td>5.0</td>\n",
       "    </tr>\n",
       "    <tr>\n",
       "      <th>66384</th>\n",
       "      <td>66384</td>\n",
       "      <td>[]</td>\n",
       "      <td>NaN</td>\n",
       "      <td>[]</td>\n",
       "      <td>NaN</td>\n",
       "    </tr>\n",
       "    <tr>\n",
       "      <th>66385</th>\n",
       "      <td>66385</td>\n",
       "      <td>[]</td>\n",
       "      <td>NaN</td>\n",
       "      <td>[]</td>\n",
       "      <td>NaN</td>\n",
       "    </tr>\n",
       "  </tbody>\n",
       "</table>\n",
       "<p>66386 rows × 5 columns</p>\n",
       "</div>"
      ],
      "text/plain": [
       "       product_sku_hash                                 description_vector  \\\n",
       "0                     0                                                 []   \n",
       "1                     1                                                 []   \n",
       "2                     2  [0.27629122138023376, -0.15763211250305176, 0....   \n",
       "3                     3  [0.4058118760585785, -0.03595402091741562, 0.2...   \n",
       "4                     4  [-0.3206155300140381, 0.01991105079650879, 0.0...   \n",
       "...                 ...                                                ...   \n",
       "66381             66381                                                 []   \n",
       "66382             66382  [-0.19150441884994507, -0.06235162168741226, -...   \n",
       "66383             66383  [-0.19760936498641968, 0.4446450471878052, -0....   \n",
       "66384             66384                                                 []   \n",
       "66385             66385                                                 []   \n",
       "\n",
       "       category_hash                                       image_vector  \\\n",
       "0                NaN                                                 []   \n",
       "1                NaN                                                 []   \n",
       "2                0.0  [340.3592564184389, -220.19025864725685, 154.0...   \n",
       "3                1.0  [180.3463662921092, 222.702322343354, -8.88703...   \n",
       "4                2.0  [-114.81079301576219, 84.55770104232334, 85.51...   \n",
       "...              ...                                                ...   \n",
       "66381            NaN                                                 []   \n",
       "66382           24.0  [129.55668732976045, 43.27996741934932, -36.70...   \n",
       "66383            2.0  [-158.25984189321855, 74.19255741438077, 199.6...   \n",
       "66384            NaN                                                 []   \n",
       "66385            NaN                                                 []   \n",
       "\n",
       "       price_bucket  \n",
       "0               NaN  \n",
       "1               NaN  \n",
       "2               7.0  \n",
       "3               8.0  \n",
       "4               2.0  \n",
       "...             ...  \n",
       "66381           NaN  \n",
       "66382           3.0  \n",
       "66383           5.0  \n",
       "66384           NaN  \n",
       "66385           NaN  \n",
       "\n",
       "[66386 rows x 5 columns]"
      ]
     },
     "execution_count": 11,
     "metadata": {},
     "output_type": "execute_result"
    }
   ],
   "source": [
    "sku['description_vector']"
   ]
  },
  {
   "cell_type": "code",
   "execution_count": 41,
   "metadata": {},
   "outputs": [],
   "source": [
    "sku['description_vector'] = sku['description_vector'].apply(lambda x: [0] * 50 if not len(x) else x)"
   ]
  },
  {
   "cell_type": "code",
   "execution_count": 42,
   "metadata": {},
   "outputs": [],
   "source": [
    "sku['image_vector'] = sku['image_vector'].apply(lambda x: [0] * 50 if not len(x) else x)"
   ]
  },
  {
   "cell_type": "code",
   "execution_count": 46,
   "metadata": {},
   "outputs": [
    {
     "data": {
      "text/plain": [
       "(66386, 50)"
      ]
     },
     "execution_count": 46,
     "metadata": {},
     "output_type": "execute_result"
    }
   ],
   "source": [
    "text_embed = np.stack(sku['description_vector'].values, axis=0)\n",
    "text_embed.shape"
   ]
  },
  {
   "cell_type": "code",
   "execution_count": 48,
   "metadata": {},
   "outputs": [],
   "source": [
    "with open('../dataset/prepared/text.pkl', 'wb') as f:\n",
    "    pickle.dump(text_embed, f)"
   ]
  },
  {
   "cell_type": "code",
   "execution_count": 49,
   "metadata": {},
   "outputs": [
    {
     "data": {
      "text/plain": [
       "(66386, 50)"
      ]
     },
     "execution_count": 49,
     "metadata": {},
     "output_type": "execute_result"
    }
   ],
   "source": [
    "imag_embed = np.stack(sku['image_vector'].values, axis=0)\n",
    "imag_embed.shape"
   ]
  },
  {
   "cell_type": "code",
   "execution_count": 50,
   "metadata": {},
   "outputs": [],
   "source": [
    "with open('../dataset/prepared/imag.pkl', 'wb') as f:\n",
    "    pickle.dump(imag_embed, f)"
   ]
  }
 ],
 "metadata": {
  "kernelspec": {
   "display_name": "torch",
   "language": "python",
   "name": "torch"
  },
  "language_info": {
   "codemirror_mode": {
    "name": "ipython",
    "version": 3
   },
   "file_extension": ".py",
   "mimetype": "text/x-python",
   "name": "python",
   "nbconvert_exporter": "python",
   "pygments_lexer": "ipython3",
   "version": "3.7.8"
  }
 },
 "nbformat": 4,
 "nbformat_minor": 4
}
