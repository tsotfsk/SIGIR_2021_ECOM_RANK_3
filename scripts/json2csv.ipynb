{
 "cells": [
  {
   "cell_type": "code",
   "execution_count": 1,
   "metadata": {},
   "outputs": [],
   "source": [
    "import json\n",
    "import pandas as pd"
   ]
  },
  {
   "cell_type": "code",
   "execution_count": 2,
   "metadata": {},
   "outputs": [
    {
     "name": "stdout",
     "output_type": "stream",
     "text": [
      "\n",
      " ========================= generate 'prepared' test ========================\n"
     ]
    }
   ],
   "source": [
    "print(\"\\n ========================= generate 'prepared' test ========================\")\n",
    "with open('../dataset/raw/rec_test_phase_1.json', 'r') as f:\n",
    "    test_data = json.load(f)"
   ]
  },
  {
   "cell_type": "code",
   "execution_count": 3,
   "metadata": {},
   "outputs": [],
   "source": [
    "data = [query for sess in test_data for query in sess['query']]"
   ]
  },
  {
   "cell_type": "code",
   "execution_count": 4,
   "metadata": {},
   "outputs": [
    {
     "data": {
      "text/html": [
       "<div>\n",
       "<style scoped>\n",
       "    .dataframe tbody tr th:only-of-type {\n",
       "        vertical-align: middle;\n",
       "    }\n",
       "\n",
       "    .dataframe tbody tr th {\n",
       "        vertical-align: top;\n",
       "    }\n",
       "\n",
       "    .dataframe thead th {\n",
       "        text-align: right;\n",
       "    }\n",
       "</style>\n",
       "<table border=\"1\" class=\"dataframe\">\n",
       "  <thead>\n",
       "    <tr style=\"text-align: right;\">\n",
       "      <th></th>\n",
       "      <th>session_id_hash</th>\n",
       "      <th>query_vector</th>\n",
       "      <th>clicked_skus_hash</th>\n",
       "      <th>product_skus_hash</th>\n",
       "      <th>server_timestamp_epoch_ms</th>\n",
       "      <th>event_type</th>\n",
       "      <th>product_action</th>\n",
       "      <th>product_sku_hash</th>\n",
       "      <th>hashed_url</th>\n",
       "      <th>is_search</th>\n",
       "    </tr>\n",
       "  </thead>\n",
       "  <tbody>\n",
       "    <tr>\n",
       "      <th>0</th>\n",
       "      <td>000028429ab6afd40f2a4d59c183ea46390fdfa3d04c80...</td>\n",
       "      <td>None</td>\n",
       "      <td>None</td>\n",
       "      <td>None</td>\n",
       "      <td>1557432435044</td>\n",
       "      <td>event_product</td>\n",
       "      <td>detail</td>\n",
       "      <td>4641de8468a39c53a151e8ee5f3bd731e69b3d7ac61335...</td>\n",
       "      <td>4f7f239c607d10b0843ceeccb98aecb382f8c18a931758...</td>\n",
       "      <td>False</td>\n",
       "    </tr>\n",
       "    <tr>\n",
       "      <th>1</th>\n",
       "      <td>000074f533a4fb893af451e4d436d326ddd2a7e83151a9...</td>\n",
       "      <td>None</td>\n",
       "      <td>None</td>\n",
       "      <td>None</td>\n",
       "      <td>1555443439867</td>\n",
       "      <td>event_product</td>\n",
       "      <td>detail</td>\n",
       "      <td>7571fbadb886e669ea4ac666b585fcc798c1f5970867c5...</td>\n",
       "      <td>0301401ac53e67e319036bbb0c12a4715ec5df45614023...</td>\n",
       "      <td>False</td>\n",
       "    </tr>\n",
       "    <tr>\n",
       "      <th>2</th>\n",
       "      <td>0000a6d196680bebf931ad7670f479c5c5357b3f1f8943...</td>\n",
       "      <td>None</td>\n",
       "      <td>None</td>\n",
       "      <td>None</td>\n",
       "      <td>1556729588695</td>\n",
       "      <td>pageview</td>\n",
       "      <td>None</td>\n",
       "      <td>None</td>\n",
       "      <td>9cfe9b259c3c4029a5d20e3542905d07ccf50d9a3bd4d7...</td>\n",
       "      <td>False</td>\n",
       "    </tr>\n",
       "    <tr>\n",
       "      <th>3</th>\n",
       "      <td>000106ea084ce19705d7d6889dfd3cb4bd2d596c8b31bd...</td>\n",
       "      <td>[0.0711296796798706, 0.3248276710510254, 0.023...</td>\n",
       "      <td>None</td>\n",
       "      <td>[cdcfae35b9136964fffa164db83293bc22ccc5cb8572b...</td>\n",
       "      <td>1557259563467</td>\n",
       "      <td>None</td>\n",
       "      <td>None</td>\n",
       "      <td>None</td>\n",
       "      <td>None</td>\n",
       "      <td>True</td>\n",
       "    </tr>\n",
       "    <tr>\n",
       "      <th>4</th>\n",
       "      <td>000106ea084ce19705d7d6889dfd3cb4bd2d596c8b31bd...</td>\n",
       "      <td>[-0.1051841750741005, 0.05710870400071144, -0....</td>\n",
       "      <td>None</td>\n",
       "      <td>[2d56a573739252332916de9219adfa0cf4e33c306c03b...</td>\n",
       "      <td>1557259580980</td>\n",
       "      <td>None</td>\n",
       "      <td>None</td>\n",
       "      <td>None</td>\n",
       "      <td>None</td>\n",
       "      <td>True</td>\n",
       "    </tr>\n",
       "  </tbody>\n",
       "</table>\n",
       "</div>"
      ],
      "text/plain": [
       "                                     session_id_hash  \\\n",
       "0  000028429ab6afd40f2a4d59c183ea46390fdfa3d04c80...   \n",
       "1  000074f533a4fb893af451e4d436d326ddd2a7e83151a9...   \n",
       "2  0000a6d196680bebf931ad7670f479c5c5357b3f1f8943...   \n",
       "3  000106ea084ce19705d7d6889dfd3cb4bd2d596c8b31bd...   \n",
       "4  000106ea084ce19705d7d6889dfd3cb4bd2d596c8b31bd...   \n",
       "\n",
       "                                        query_vector clicked_skus_hash  \\\n",
       "0                                               None              None   \n",
       "1                                               None              None   \n",
       "2                                               None              None   \n",
       "3  [0.0711296796798706, 0.3248276710510254, 0.023...              None   \n",
       "4  [-0.1051841750741005, 0.05710870400071144, -0....              None   \n",
       "\n",
       "                                   product_skus_hash  \\\n",
       "0                                               None   \n",
       "1                                               None   \n",
       "2                                               None   \n",
       "3  [cdcfae35b9136964fffa164db83293bc22ccc5cb8572b...   \n",
       "4  [2d56a573739252332916de9219adfa0cf4e33c306c03b...   \n",
       "\n",
       "   server_timestamp_epoch_ms     event_type product_action  \\\n",
       "0              1557432435044  event_product         detail   \n",
       "1              1555443439867  event_product         detail   \n",
       "2              1556729588695       pageview           None   \n",
       "3              1557259563467           None           None   \n",
       "4              1557259580980           None           None   \n",
       "\n",
       "                                    product_sku_hash  \\\n",
       "0  4641de8468a39c53a151e8ee5f3bd731e69b3d7ac61335...   \n",
       "1  7571fbadb886e669ea4ac666b585fcc798c1f5970867c5...   \n",
       "2                                               None   \n",
       "3                                               None   \n",
       "4                                               None   \n",
       "\n",
       "                                          hashed_url  is_search  \n",
       "0  4f7f239c607d10b0843ceeccb98aecb382f8c18a931758...      False  \n",
       "1  0301401ac53e67e319036bbb0c12a4715ec5df45614023...      False  \n",
       "2  9cfe9b259c3c4029a5d20e3542905d07ccf50d9a3bd4d7...      False  \n",
       "3                                               None       True  \n",
       "4                                               None       True  "
      ]
     },
     "execution_count": 4,
     "metadata": {},
     "output_type": "execute_result"
    }
   ],
   "source": [
    "df = pd.DataFrame(data)\n",
    "df.head()"
   ]
  },
  {
   "cell_type": "code",
   "execution_count": 6,
   "metadata": {},
   "outputs": [],
   "source": [
    "df.to_csv('../dataset/raw/browsing_test.csv', index=False)"
   ]
  },
  {
   "cell_type": "code",
   "execution_count": null,
   "metadata": {},
   "outputs": [],
   "source": []
  }
 ],
 "metadata": {
  "kernelspec": {
   "display_name": "th",
   "language": "python",
   "name": "th"
  },
  "language_info": {
   "codemirror_mode": {
    "name": "ipython",
    "version": 3
   },
   "file_extension": ".py",
   "mimetype": "text/x-python",
   "name": "python",
   "nbconvert_exporter": "python",
   "pygments_lexer": "ipython3",
   "version": "3.8.5"
  }
 },
 "nbformat": 4,
 "nbformat_minor": 4
}
