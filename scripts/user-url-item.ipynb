{
 "cells": [
  {
   "cell_type": "markdown",
   "metadata": {},
   "source": [
    "# Build Graph"
   ]
  },
  {
   "cell_type": "code",
   "execution_count": 7,
   "metadata": {},
   "outputs": [],
   "source": [
    "import pandas as pd\n",
    "import numpy as np\n",
    "import torch.nn as nn\n",
    "import torch.nn.functional as F\n",
    "import torch\n",
    "import pickle\n",
    "from utils import load_data, EasyDict\n",
    "# from scipy.sparse import coo_matrix\n",
    "import seaborn as sns\n",
    "import dgl\n",
    "import tqdm"
   ]
  },
  {
   "cell_type": "code",
   "execution_count": 23,
   "metadata": {},
   "outputs": [
    {
     "name": "stdout",
     "output_type": "stream",
     "text": [
      "load browsing done...\n",
      "load search done...\n",
      "load sku done...\n",
      "load info done...\n"
     ]
    }
   ],
   "source": [
    "browsing, search, sku, info = load_data('../dataset/new/')"
   ]
  },
  {
   "cell_type": "code",
   "execution_count": 3,
   "metadata": {},
   "outputs": [
    {
     "data": {
      "text/plain": [
       "(66386, 517740, 5485256)"
      ]
     },
     "execution_count": 3,
     "metadata": {},
     "output_type": "execute_result"
    }
   ],
   "source": [
    "n_items = len(info.idx2item)\n",
    "n_urls = len(info.idx2url)\n",
    "n_sess = len(info.idx2sess)\n",
    "n_items, n_urls, n_sess"
   ]
  },
  {
   "cell_type": "code",
   "execution_count": 4,
   "metadata": {},
   "outputs": [],
   "source": [
    "sess_offset = 0\n",
    "item_offset = n_sess\n",
    "url_offset = n_sess + n_items"
   ]
  },
  {
   "cell_type": "code",
   "execution_count": 5,
   "metadata": {},
   "outputs": [],
   "source": [
    "browsing.sort_values(by=['product_action'], inplace=True)"
   ]
  },
  {
   "cell_type": "code",
   "execution_count": 6,
   "metadata": {},
   "outputs": [
    {
     "data": {
      "text/plain": [
       "26699519"
      ]
     },
     "execution_count": 6,
     "metadata": {},
     "output_type": "execute_result"
    }
   ],
   "source": [
    "browsing['product_sku_hash'].isnull().sum()"
   ]
  },
  {
   "cell_type": "code",
   "execution_count": 7,
   "metadata": {},
   "outputs": [],
   "source": [
    "url2item = browsing.dropna().drop_duplicates(subset=['hashed_url', 'product_sku_hash']).groupby('hashed_url')['product_sku_hash'].agg(list)\n",
    "url2item = url2item.reset_index()\n",
    "url2item['product_sku_hash'] = url2item['product_sku_hash'].apply(lambda x: x[0])\n",
    "url2item = np.vstack(url2item.values).T\n",
    "url2item = url2item.astype(int).tolist()\n",
    "url2item = dict(zip(*url2item))\n",
    "browsing['product_sku_hash'] = browsing['hashed_url'].map(url2item.get)"
   ]
  },
  {
   "cell_type": "code",
   "execution_count": 8,
   "metadata": {},
   "outputs": [
    {
     "data": {
      "text/plain": [
       "15174125"
      ]
     },
     "execution_count": 8,
     "metadata": {},
     "output_type": "execute_result"
    }
   ],
   "source": [
    "browsing['product_sku_hash'].isnull().sum()"
   ]
  },
  {
   "cell_type": "code",
   "execution_count": 9,
   "metadata": {},
   "outputs": [],
   "source": [
    "browsing = browsing.drop_duplicates(subset=['session_id_hash', 'hashed_url'])"
   ]
  },
  {
   "cell_type": "code",
   "execution_count": 10,
   "metadata": {},
   "outputs": [
    {
     "data": {
      "text/html": [
       "<div>\n",
       "<style scoped>\n",
       "    .dataframe tbody tr th:only-of-type {\n",
       "        vertical-align: middle;\n",
       "    }\n",
       "\n",
       "    .dataframe tbody tr th {\n",
       "        vertical-align: top;\n",
       "    }\n",
       "\n",
       "    .dataframe thead th {\n",
       "        text-align: right;\n",
       "    }\n",
       "</style>\n",
       "<table border=\"1\" class=\"dataframe\">\n",
       "  <thead>\n",
       "    <tr style=\"text-align: right;\">\n",
       "      <th></th>\n",
       "      <th></th>\n",
       "      <th>session_id_hash</th>\n",
       "      <th>product_action</th>\n",
       "      <th>product_sku_hash</th>\n",
       "      <th>server_timestamp_epoch_ms</th>\n",
       "      <th>hashed_url</th>\n",
       "    </tr>\n",
       "  </thead>\n",
       "  <tbody>\n",
       "    <tr>\n",
       "      <th rowspan=\"11\" valign=\"top\">train</th>\n",
       "      <th>0</th>\n",
       "      <td>0</td>\n",
       "      <td>0</td>\n",
       "      <td>31231.0</td>\n",
       "      <td>1550885210881</td>\n",
       "      <td>0</td>\n",
       "    </tr>\n",
       "    <tr>\n",
       "      <th>18427417</th>\n",
       "      <td>2532912</td>\n",
       "      <td>0</td>\n",
       "      <td>8747.0</td>\n",
       "      <td>1551137116480</td>\n",
       "      <td>3740</td>\n",
       "    </tr>\n",
       "    <tr>\n",
       "      <th>18427419</th>\n",
       "      <td>2532912</td>\n",
       "      <td>0</td>\n",
       "      <td>30987.0</td>\n",
       "      <td>1551137120150</td>\n",
       "      <td>4894</td>\n",
       "    </tr>\n",
       "    <tr>\n",
       "      <th>18427422</th>\n",
       "      <td>2532913</td>\n",
       "      <td>0</td>\n",
       "      <td>23261.0</td>\n",
       "      <td>1550916315045</td>\n",
       "      <td>5022</td>\n",
       "    </tr>\n",
       "    <tr>\n",
       "      <th>18427427</th>\n",
       "      <td>2532913</td>\n",
       "      <td>0</td>\n",
       "      <td>31025.0</td>\n",
       "      <td>1550916364052</td>\n",
       "      <td>2706</td>\n",
       "    </tr>\n",
       "    <tr>\n",
       "      <th>...</th>\n",
       "      <td>...</td>\n",
       "      <td>...</td>\n",
       "      <td>...</td>\n",
       "      <td>...</td>\n",
       "      <td>...</td>\n",
       "    </tr>\n",
       "    <tr>\n",
       "      <th>28342316</th>\n",
       "      <td>3875553</td>\n",
       "      <td>4</td>\n",
       "      <td>61002.0</td>\n",
       "      <td>1549381069130</td>\n",
       "      <td>747</td>\n",
       "    </tr>\n",
       "    <tr>\n",
       "      <th>28342317</th>\n",
       "      <td>3875553</td>\n",
       "      <td>4</td>\n",
       "      <td>61002.0</td>\n",
       "      <td>1549381257069</td>\n",
       "      <td>411161</td>\n",
       "    </tr>\n",
       "    <tr>\n",
       "      <th>28342295</th>\n",
       "      <td>3875553</td>\n",
       "      <td>4</td>\n",
       "      <td>61002.0</td>\n",
       "      <td>1549380342372</td>\n",
       "      <td>3782</td>\n",
       "    </tr>\n",
       "    <tr>\n",
       "      <th>28342312</th>\n",
       "      <td>3875553</td>\n",
       "      <td>4</td>\n",
       "      <td>61002.0</td>\n",
       "      <td>1549380854448</td>\n",
       "      <td>744</td>\n",
       "    </tr>\n",
       "    <tr>\n",
       "      <th>28342313</th>\n",
       "      <td>3875553</td>\n",
       "      <td>4</td>\n",
       "      <td>61002.0</td>\n",
       "      <td>1549380968391</td>\n",
       "      <td>746</td>\n",
       "    </tr>\n",
       "  </tbody>\n",
       "</table>\n",
       "<p>18821519 rows × 5 columns</p>\n",
       "</div>"
      ],
      "text/plain": [
       "                session_id_hash  product_action  product_sku_hash  \\\n",
       "train 0                       0               0           31231.0   \n",
       "      18427417          2532912               0            8747.0   \n",
       "      18427419          2532912               0           30987.0   \n",
       "      18427422          2532913               0           23261.0   \n",
       "      18427427          2532913               0           31025.0   \n",
       "...                         ...             ...               ...   \n",
       "      28342316          3875553               4           61002.0   \n",
       "      28342317          3875553               4           61002.0   \n",
       "      28342295          3875553               4           61002.0   \n",
       "      28342312          3875553               4           61002.0   \n",
       "      28342313          3875553               4           61002.0   \n",
       "\n",
       "                server_timestamp_epoch_ms  hashed_url  \n",
       "train 0                     1550885210881           0  \n",
       "      18427417              1551137116480        3740  \n",
       "      18427419              1551137120150        4894  \n",
       "      18427422              1550916315045        5022  \n",
       "      18427427              1550916364052        2706  \n",
       "...                                   ...         ...  \n",
       "      28342316              1549381069130         747  \n",
       "      28342317              1549381257069      411161  \n",
       "      28342295              1549380342372        3782  \n",
       "      28342312              1549380854448         744  \n",
       "      28342313              1549380968391         746  \n",
       "\n",
       "[18821519 rows x 5 columns]"
      ]
     },
     "execution_count": 10,
     "metadata": {},
     "output_type": "execute_result"
    }
   ],
   "source": [
    "browsing "
   ]
  },
  {
   "cell_type": "code",
   "execution_count": 11,
   "metadata": {},
   "outputs": [],
   "source": [
    "browsing['session_id_hash'] += sess_offset\n",
    "browsing['product_sku_hash'] += item_offset\n",
    "browsing['hashed_url'] += url_offset"
   ]
  },
  {
   "cell_type": "code",
   "execution_count": 12,
   "metadata": {},
   "outputs": [],
   "source": [
    "browsing.sort_values(by=['session_id_hash', 'server_timestamp_epoch_ms'], inplace=True)"
   ]
  },
  {
   "cell_type": "code",
   "execution_count": 13,
   "metadata": {},
   "outputs": [],
   "source": [
    "s2u = browsing[['session_id_hash', 'hashed_url']]"
   ]
  },
  {
   "cell_type": "code",
   "execution_count": 14,
   "metadata": {},
   "outputs": [
    {
     "data": {
      "text/html": [
       "<div>\n",
       "<style scoped>\n",
       "    .dataframe tbody tr th:only-of-type {\n",
       "        vertical-align: middle;\n",
       "    }\n",
       "\n",
       "    .dataframe tbody tr th {\n",
       "        vertical-align: top;\n",
       "    }\n",
       "\n",
       "    .dataframe thead th {\n",
       "        text-align: right;\n",
       "    }\n",
       "</style>\n",
       "<table border=\"1\" class=\"dataframe\">\n",
       "  <thead>\n",
       "    <tr style=\"text-align: right;\">\n",
       "      <th></th>\n",
       "      <th></th>\n",
       "      <th>session_id_hash</th>\n",
       "      <th>hashed_url</th>\n",
       "    </tr>\n",
       "  </thead>\n",
       "  <tbody>\n",
       "    <tr>\n",
       "      <th rowspan=\"5\" valign=\"top\">train</th>\n",
       "      <th>16758585</th>\n",
       "      <td>0</td>\n",
       "      <td>5557512</td>\n",
       "    </tr>\n",
       "    <tr>\n",
       "      <th>16758591</th>\n",
       "      <td>0</td>\n",
       "      <td>5553829</td>\n",
       "    </tr>\n",
       "    <tr>\n",
       "      <th>16758604</th>\n",
       "      <td>0</td>\n",
       "      <td>5551643</td>\n",
       "    </tr>\n",
       "    <tr>\n",
       "      <th>0</th>\n",
       "      <td>0</td>\n",
       "      <td>5551642</td>\n",
       "    </tr>\n",
       "    <tr>\n",
       "      <th>5</th>\n",
       "      <td>0</td>\n",
       "      <td>5551644</td>\n",
       "    </tr>\n",
       "    <tr>\n",
       "      <th>...</th>\n",
       "      <th>...</th>\n",
       "      <td>...</td>\n",
       "      <td>...</td>\n",
       "    </tr>\n",
       "    <tr>\n",
       "      <th rowspan=\"5\" valign=\"top\">test</th>\n",
       "      <th>1303283</th>\n",
       "      <td>5408427</td>\n",
       "      <td>5556480</td>\n",
       "    </tr>\n",
       "    <tr>\n",
       "      <th>1303284</th>\n",
       "      <td>5408427</td>\n",
       "      <td>5552598</td>\n",
       "    </tr>\n",
       "    <tr>\n",
       "      <th>1303285</th>\n",
       "      <td>5408427</td>\n",
       "      <td>5552600</td>\n",
       "    </tr>\n",
       "    <tr>\n",
       "      <th>1303286</th>\n",
       "      <td>5408427</td>\n",
       "      <td>5554472</td>\n",
       "    </tr>\n",
       "    <tr>\n",
       "      <th>1303287</th>\n",
       "      <td>5408428</td>\n",
       "      <td>5561065</td>\n",
       "    </tr>\n",
       "  </tbody>\n",
       "</table>\n",
       "<p>18821519 rows × 2 columns</p>\n",
       "</div>"
      ],
      "text/plain": [
       "                session_id_hash  hashed_url\n",
       "train 16758585                0     5557512\n",
       "      16758591                0     5553829\n",
       "      16758604                0     5551643\n",
       "      0                       0     5551642\n",
       "      5                       0     5551644\n",
       "...                         ...         ...\n",
       "test  1303283           5408427     5556480\n",
       "      1303284           5408427     5552598\n",
       "      1303285           5408427     5552600\n",
       "      1303286           5408427     5554472\n",
       "      1303287           5408428     5561065\n",
       "\n",
       "[18821519 rows x 2 columns]"
      ]
     },
     "execution_count": 14,
     "metadata": {},
     "output_type": "execute_result"
    }
   ],
   "source": [
    "s2u"
   ]
  },
  {
   "cell_type": "code",
   "execution_count": 15,
   "metadata": {},
   "outputs": [],
   "source": [
    "s2i = browsing.dropna()[['session_id_hash', 'product_sku_hash']]"
   ]
  },
  {
   "cell_type": "code",
   "execution_count": 16,
   "metadata": {},
   "outputs": [],
   "source": [
    "sess2url = np.vstack([s2u['session_id_hash'].values, s2u['hashed_url'].values])"
   ]
  },
  {
   "cell_type": "code",
   "execution_count": 17,
   "metadata": {},
   "outputs": [
    {
     "data": {
      "text/html": [
       "<div>\n",
       "<style scoped>\n",
       "    .dataframe tbody tr th:only-of-type {\n",
       "        vertical-align: middle;\n",
       "    }\n",
       "\n",
       "    .dataframe tbody tr th {\n",
       "        vertical-align: top;\n",
       "    }\n",
       "\n",
       "    .dataframe thead th {\n",
       "        text-align: right;\n",
       "    }\n",
       "</style>\n",
       "<table border=\"1\" class=\"dataframe\">\n",
       "  <thead>\n",
       "    <tr style=\"text-align: right;\">\n",
       "      <th></th>\n",
       "      <th></th>\n",
       "      <th>session_id_hash</th>\n",
       "      <th>product_sku_hash</th>\n",
       "    </tr>\n",
       "  </thead>\n",
       "  <tbody>\n",
       "    <tr>\n",
       "      <th rowspan=\"5\" valign=\"top\">train</th>\n",
       "      <th>16758585</th>\n",
       "      <td>0</td>\n",
       "      <td>5527368.0</td>\n",
       "    </tr>\n",
       "    <tr>\n",
       "      <th>16758604</th>\n",
       "      <td>0</td>\n",
       "      <td>5515750.0</td>\n",
       "    </tr>\n",
       "    <tr>\n",
       "      <th>0</th>\n",
       "      <td>0</td>\n",
       "      <td>5516487.0</td>\n",
       "    </tr>\n",
       "    <tr>\n",
       "      <th>16</th>\n",
       "      <td>0</td>\n",
       "      <td>5502083.0</td>\n",
       "    </tr>\n",
       "    <tr>\n",
       "      <th>20</th>\n",
       "      <td>0</td>\n",
       "      <td>5504124.0</td>\n",
       "    </tr>\n",
       "    <tr>\n",
       "      <th>...</th>\n",
       "      <th>...</th>\n",
       "      <td>...</td>\n",
       "      <td>...</td>\n",
       "    </tr>\n",
       "    <tr>\n",
       "      <th rowspan=\"5\" valign=\"top\">test</th>\n",
       "      <th>1303283</th>\n",
       "      <td>5408427</td>\n",
       "      <td>5534894.0</td>\n",
       "    </tr>\n",
       "    <tr>\n",
       "      <th>1303284</th>\n",
       "      <td>5408427</td>\n",
       "      <td>5542283.0</td>\n",
       "    </tr>\n",
       "    <tr>\n",
       "      <th>1303285</th>\n",
       "      <td>5408427</td>\n",
       "      <td>5515602.0</td>\n",
       "    </tr>\n",
       "    <tr>\n",
       "      <th>1303286</th>\n",
       "      <td>5408427</td>\n",
       "      <td>5526521.0</td>\n",
       "    </tr>\n",
       "    <tr>\n",
       "      <th>1303287</th>\n",
       "      <td>5408428</td>\n",
       "      <td>5543232.0</td>\n",
       "    </tr>\n",
       "  </tbody>\n",
       "</table>\n",
       "<p>9197773 rows × 2 columns</p>\n",
       "</div>"
      ],
      "text/plain": [
       "                session_id_hash  product_sku_hash\n",
       "train 16758585                0         5527368.0\n",
       "      16758604                0         5515750.0\n",
       "      0                       0         5516487.0\n",
       "      16                      0         5502083.0\n",
       "      20                      0         5504124.0\n",
       "...                         ...               ...\n",
       "test  1303283           5408427         5534894.0\n",
       "      1303284           5408427         5542283.0\n",
       "      1303285           5408427         5515602.0\n",
       "      1303286           5408427         5526521.0\n",
       "      1303287           5408428         5543232.0\n",
       "\n",
       "[9197773 rows x 2 columns]"
      ]
     },
     "execution_count": 17,
     "metadata": {},
     "output_type": "execute_result"
    }
   ],
   "source": [
    "s2i"
   ]
  },
  {
   "cell_type": "code",
   "execution_count": 18,
   "metadata": {},
   "outputs": [],
   "source": [
    "sess2item = np.vstack([s2i['session_id_hash'].values, s2i['product_sku_hash'].values])"
   ]
  },
  {
   "cell_type": "code",
   "execution_count": 19,
   "metadata": {},
   "outputs": [
    {
     "data": {
      "text/plain": [
       "array([[      0.,       0.,       0., ..., 5408427., 5408427., 5408428.],\n",
       "       [5527368., 5515750., 5516487., ..., 5515602., 5526521., 5543232.]])"
      ]
     },
     "execution_count": 19,
     "metadata": {},
     "output_type": "execute_result"
    }
   ],
   "source": [
    "sess2item"
   ]
  },
  {
   "cell_type": "code",
   "execution_count": 20,
   "metadata": {},
   "outputs": [
    {
     "data": {
      "text/plain": [
       "array([[      0,       0,       0, ..., 5408427, 5408427, 5408428],\n",
       "       [5557512, 5553829, 5551643, ..., 5552600, 5554472, 5561065]])"
      ]
     },
     "execution_count": 20,
     "metadata": {},
     "output_type": "execute_result"
    }
   ],
   "source": [
    "sess2url"
   ]
  },
  {
   "cell_type": "code",
   "execution_count": 21,
   "metadata": {},
   "outputs": [],
   "source": [
    "edges = np.concatenate((sess2item, sess2url), axis=1).astype(int)"
   ]
  },
  {
   "cell_type": "code",
   "execution_count": 22,
   "metadata": {},
   "outputs": [],
   "source": [
    "graph = pd.DataFrame(edges.T)"
   ]
  },
  {
   "cell_type": "code",
   "execution_count": 23,
   "metadata": {},
   "outputs": [
    {
     "data": {
      "text/html": [
       "<div>\n",
       "<style scoped>\n",
       "    .dataframe tbody tr th:only-of-type {\n",
       "        vertical-align: middle;\n",
       "    }\n",
       "\n",
       "    .dataframe tbody tr th {\n",
       "        vertical-align: top;\n",
       "    }\n",
       "\n",
       "    .dataframe thead th {\n",
       "        text-align: right;\n",
       "    }\n",
       "</style>\n",
       "<table border=\"1\" class=\"dataframe\">\n",
       "  <thead>\n",
       "    <tr style=\"text-align: right;\">\n",
       "      <th></th>\n",
       "      <th>src_id</th>\n",
       "      <th>dst_id</th>\n",
       "    </tr>\n",
       "  </thead>\n",
       "  <tbody>\n",
       "    <tr>\n",
       "      <th>3</th>\n",
       "      <td>0</td>\n",
       "      <td>5502083</td>\n",
       "    </tr>\n",
       "    <tr>\n",
       "      <th>4</th>\n",
       "      <td>0</td>\n",
       "      <td>5504124</td>\n",
       "    </tr>\n",
       "    <tr>\n",
       "      <th>1</th>\n",
       "      <td>0</td>\n",
       "      <td>5515750</td>\n",
       "    </tr>\n",
       "    <tr>\n",
       "      <th>2</th>\n",
       "      <td>0</td>\n",
       "      <td>5516487</td>\n",
       "    </tr>\n",
       "    <tr>\n",
       "      <th>0</th>\n",
       "      <td>0</td>\n",
       "      <td>5527368</td>\n",
       "    </tr>\n",
       "    <tr>\n",
       "      <th>...</th>\n",
       "      <td>...</td>\n",
       "      <td>...</td>\n",
       "    </tr>\n",
       "    <tr>\n",
       "      <th>28019289</th>\n",
       "      <td>5408427</td>\n",
       "      <td>5552600</td>\n",
       "    </tr>\n",
       "    <tr>\n",
       "      <th>28019290</th>\n",
       "      <td>5408427</td>\n",
       "      <td>5554472</td>\n",
       "    </tr>\n",
       "    <tr>\n",
       "      <th>28019287</th>\n",
       "      <td>5408427</td>\n",
       "      <td>5556480</td>\n",
       "    </tr>\n",
       "    <tr>\n",
       "      <th>9197772</th>\n",
       "      <td>5408428</td>\n",
       "      <td>5543232</td>\n",
       "    </tr>\n",
       "    <tr>\n",
       "      <th>28019291</th>\n",
       "      <td>5408428</td>\n",
       "      <td>5561065</td>\n",
       "    </tr>\n",
       "  </tbody>\n",
       "</table>\n",
       "<p>28019292 rows × 2 columns</p>\n",
       "</div>"
      ],
      "text/plain": [
       "           src_id   dst_id\n",
       "3               0  5502083\n",
       "4               0  5504124\n",
       "1               0  5515750\n",
       "2               0  5516487\n",
       "0               0  5527368\n",
       "...           ...      ...\n",
       "28019289  5408427  5552600\n",
       "28019290  5408427  5554472\n",
       "28019287  5408427  5556480\n",
       "9197772   5408428  5543232\n",
       "28019291  5408428  5561065\n",
       "\n",
       "[28019292 rows x 2 columns]"
      ]
     },
     "execution_count": 23,
     "metadata": {},
     "output_type": "execute_result"
    }
   ],
   "source": [
    "graph.columns = ['src_id', 'dst_id']\n",
    "graph.sort_values(by=['src_id', 'dst_id'])"
   ]
  },
  {
   "cell_type": "code",
   "execution_count": 24,
   "metadata": {},
   "outputs": [],
   "source": [
    "np.save('../dataset/prepared/i-s-u.npy', graph.values)"
   ]
  },
  {
   "cell_type": "code",
   "execution_count": 25,
   "metadata": {},
   "outputs": [],
   "source": [
    "import torch"
   ]
  },
  {
   "cell_type": "code",
   "execution_count": 26,
   "metadata": {},
   "outputs": [],
   "source": [
    "src_ids = np.concatenate((graph['src_id'].values, graph['dst_id'].values))\n",
    "dst_ids = np.concatenate((graph['dst_id'].values, graph['src_id'].values))"
   ]
  },
  {
   "cell_type": "code",
   "execution_count": 27,
   "metadata": {},
   "outputs": [],
   "source": [
    "g = dgl.graph((src_ids, dst_ids))"
   ]
  },
  {
   "cell_type": "code",
   "execution_count": 28,
   "metadata": {},
   "outputs": [],
   "source": [
    "dgl.save_graphs('../dataset/prepared/i-s-u.dgl', g)"
   ]
  },
  {
   "cell_type": "code",
   "execution_count": 29,
   "metadata": {},
   "outputs": [
    {
     "data": {
      "text/plain": [
       "6069382"
      ]
     },
     "execution_count": 29,
     "metadata": {},
     "output_type": "execute_result"
    }
   ],
   "source": [
    "g.num_nodes()"
   ]
  },
  {
   "cell_type": "code",
   "execution_count": 30,
   "metadata": {},
   "outputs": [
    {
     "data": {
      "text/plain": [
       "56038584"
      ]
     },
     "execution_count": 30,
     "metadata": {},
     "output_type": "execute_result"
    }
   ],
   "source": [
    "g.num_edges()"
   ]
  },
  {
   "cell_type": "code",
   "execution_count": 31,
   "metadata": {},
   "outputs": [],
   "source": [
    "graph.to_csv('../dataset/prepared/i-s-u.txt', index=False, header=False, sep=' ')"
   ]
  },
  {
   "cell_type": "code",
   "execution_count": 4,
   "metadata": {},
   "outputs": [
    {
     "name": "stdout",
     "output_type": "stream",
     "text": [
      "5628145 128\n",
      "0 0.4994327 0.12726587 -0.027790219 -0.48828262 0.4506812 -0.28060484 -0.4875493 0.62042034 -0.07670465 -0.63580567 -0.5657148 0.14789246 0.50255185 -0.020030126 -0.2060916 0.15345676 0.26373643 -0.45672342 0.4083202 -0.32718456 -0.12983443 -0.023214897 -0.091956116 0.21912357 -0.24596201 -0.394155 -0.5212407 0.4753517 0.6072154 0.35876873 0.7731848 0.23297629 -0.1569679 0.29665664 -0.4629792 0.22425805 0.12827586 0.026289023 0.44236562 0.037490644 0.38673767 -0.782304 -0.45497724 0.17532767 -0.22079006 0.39620486 -0.15203534 -0.10208359 -0.14580393 0.28251457 -0.47726864 0.32036272 -0.43612897 -0.09965496 0.7598768 0.010068815 0.2567218 -0.30063564 0.37460154 -0.5213604 0.29501447 0.21126814 0.1323055 0.6681945 -0.18075651 0.048518308 0.298775 0.026097434 -0.2197725 -0.26472113 0.50297385 -0.05403956 -0.28318897 0.0039339466 0.8466319 -0.34298763 -0.5566619 -0.058480375 -0.3603743 0.8381076 0.061375223 0.18920843 -0.47329074 -0.2981344 -0.05962424 -0.5673387 -0.34831032 -0.0062748627 0.11560013 0.19240071 -0.049241003 0.9433603 0.17887932 -0.0028049075 0.08298652 0.014568575 0.5546568 -0.10601043 0.2779509 -0.10725166 0.24591695 -0.060463224 0.2779303 -0.13324171 -0.25900578 0.6676398 0.07861946 0.15952897 0.20035222 -0.28177738 -0.09851183 0.45282316 -0.09936305 0.21153162 0.02728639 -0.27647418 0.3852023 -0.023406623 -0.18032935 -0.22264445 0.8054421 -0.011382304 -0.5213 -0.28027856 -0.37098008 0.05227695 0.26519132 -0.3095603\n"
     ]
    }
   ],
   "source": [
    "!head -n 2 ./deepwalk/deepwalk.txt"
   ]
  },
  {
   "cell_type": "markdown",
   "metadata": {},
   "source": [
    "# Load Embedding"
   ]
  },
  {
   "cell_type": "code",
   "execution_count": 8,
   "metadata": {},
   "outputs": [],
   "source": [
    "with open('../dataset/new/' + 'map_info.pkl', 'rb') as f:\n",
    "    info = pickle.load(f)\n",
    "info = EasyDict(info)"
   ]
  },
  {
   "cell_type": "code",
   "execution_count": 9,
   "metadata": {},
   "outputs": [
    {
     "data": {
      "text/plain": [
       "(66386, 517740, 5485256)"
      ]
     },
     "execution_count": 9,
     "metadata": {},
     "output_type": "execute_result"
    }
   ],
   "source": [
    "n_items = len(info.idx2item)\n",
    "n_urls = len(info.idx2url)\n",
    "n_sess = len(info.idx2sess)\n",
    "n_items, n_urls, n_sess"
   ]
  },
  {
   "cell_type": "code",
   "execution_count": 10,
   "metadata": {},
   "outputs": [],
   "source": [
    "sess_offset = 0\n",
    "item_offset = n_sess\n",
    "url_offset = n_sess + n_items"
   ]
  },
  {
   "cell_type": "code",
   "execution_count": null,
   "metadata": {},
   "outputs": [],
   "source": []
  },
  {
   "cell_type": "code",
   "execution_count": 11,
   "metadata": {},
   "outputs": [
    {
     "name": "stderr",
     "output_type": "stream",
     "text": [
      "5980004it [04:22, 22784.94it/s]\n"
     ]
    }
   ],
   "source": [
    "with open('deepwalk/deepwalk.txt', 'r') as f:\n",
    "    line = f.readline()\n",
    "    embedding = torch.zeros(n_sess + n_items + n_urls, 128)\n",
    "    for line in tqdm.tqdm(f):\n",
    "        line = line.split(' ')\n",
    "        node_id  = int(line[0])\n",
    "        node_vec = list(map(float, line[1:]))\n",
    "        embedding[node_id] = torch.tensor(node_vec)"
   ]
  },
  {
   "cell_type": "code",
   "execution_count": 12,
   "metadata": {},
   "outputs": [],
   "source": [
    "graph = np.load('../dataset/prepared/i-s-u.npy')"
   ]
  },
  {
   "cell_type": "code",
   "execution_count": 18,
   "metadata": {},
   "outputs": [],
   "source": [
    "sess_embed = embedding[:n_sess]\n",
    "with open('../dataset/prepared/dw_sess.pkl', 'wb') as f:\n",
    "    pickle.dump(sess_embed.numpy(), f)\n",
    "sess_embed = F.normalize(sess_embed, dim=1)"
   ]
  },
  {
   "cell_type": "code",
   "execution_count": 19,
   "metadata": {},
   "outputs": [],
   "source": [
    "sku_embed = embedding[n_sess:n_sess+n_items]\n",
    "with open('../dataset/prepared/dw_sku.pkl', 'wb') as f:\n",
    "    pickle.dump(sku_embed.numpy(), f)\n",
    "sku_embed = F.normalize(sku_embed, dim=1)"
   ]
  },
  {
   "cell_type": "code",
   "execution_count": 20,
   "metadata": {},
   "outputs": [],
   "source": [
    "url_embed = embedding[url_offset:]\n",
    "with open('../dataset/prepared/dw_url.pkl', 'wb') as f:\n",
    "    pickle.dump(url_embed.numpy(), f)\n",
    "url_embed = F.normalize(url_embed, dim=1)"
   ]
  },
  {
   "cell_type": "code",
   "execution_count": 21,
   "metadata": {},
   "outputs": [
    {
     "data": {
      "text/plain": [
       "torch.Size([517740, 128])"
      ]
     },
     "execution_count": 21,
     "metadata": {},
     "output_type": "execute_result"
    }
   ],
   "source": [
    "url_embed.shape"
   ]
  },
  {
   "cell_type": "code",
   "execution_count": 24,
   "metadata": {},
   "outputs": [
    {
     "name": "stderr",
     "output_type": "stream",
     "text": [
      "/home/likaiyuan/anaconda3/envs/pyg/lib/python3.7/site-packages/ipykernel_launcher.py:1: PerformanceWarning: indexing past lexsort depth may impact performance.\n",
      "  \"\"\"Entry point for launching an IPython kernel.\n"
     ]
    }
   ],
   "source": [
    "test_ids = torch.from_numpy(browsing.loc['test', 'session_id_hash'].unique()).long()"
   ]
  },
  {
   "cell_type": "code",
   "execution_count": 29,
   "metadata": {},
   "outputs": [],
   "source": [
    "results = sess_embed[test_ids].mm(sku_embed.t())"
   ]
  },
  {
   "cell_type": "code",
   "execution_count": 30,
   "metadata": {},
   "outputs": [],
   "source": [
    "test_items = np.load('../dataset/prepared/sku_test_items.npy')\n",
    "results[:, test_items] += 100"
   ]
  },
  {
   "cell_type": "code",
   "execution_count": 31,
   "metadata": {},
   "outputs": [],
   "source": [
    "topks = torch.topk(results, k=20, dim=1)[1]"
   ]
  },
  {
   "cell_type": "code",
   "execution_count": 32,
   "metadata": {},
   "outputs": [],
   "source": [
    "result = (test_ids.tolist(), topks.numpy().tolist())"
   ]
  },
  {
   "cell_type": "code",
   "execution_count": 33,
   "metadata": {},
   "outputs": [],
   "source": [
    "test_item_set = set(test_items)"
   ]
  },
  {
   "cell_type": "code",
   "execution_count": 34,
   "metadata": {},
   "outputs": [],
   "source": [
    "with open('../results/deepwalk_i_s_u.pkl', 'wb') as f:\n",
    "    pickle.dump(result, f)"
   ]
  },
  {
   "cell_type": "code",
   "execution_count": 35,
   "metadata": {},
   "outputs": [],
   "source": [
    "missing = 0\n",
    "for lst in result[1]:\n",
    "    for iid in lst:\n",
    "        if iid not in test_item_set:\n",
    "            missing +=1 "
   ]
  },
  {
   "cell_type": "code",
   "execution_count": null,
   "metadata": {},
   "outputs": [],
   "source": []
  }
 ],
 "metadata": {
  "kernelspec": {
   "display_name": "pyg",
   "language": "python",
   "name": "pyg"
  },
  "language_info": {
   "codemirror_mode": {
    "name": "ipython",
    "version": 3
   },
   "file_extension": ".py",
   "mimetype": "text/x-python",
   "name": "python",
   "nbconvert_exporter": "python",
   "pygments_lexer": "ipython3",
   "version": "3.7.0"
  }
 },
 "nbformat": 4,
 "nbformat_minor": 4
}
