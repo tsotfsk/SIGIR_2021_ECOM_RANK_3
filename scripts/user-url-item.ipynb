{
 "cells": [
  {
   "cell_type": "markdown",
   "metadata": {},
   "source": [
    "# Build Graph"
   ]
  },
  {
   "cell_type": "code",
   "execution_count": 1,
   "metadata": {},
   "outputs": [
    {
     "name": "stderr",
     "output_type": "stream",
     "text": [
      "Using backend: pytorch\n"
     ]
    }
   ],
   "source": [
    "import pandas as pd\n",
    "import numpy as np\n",
    "import torch.nn as nn\n",
    "import torch.nn.functional as F\n",
    "import torch\n",
    "import pickle\n",
    "from utils import load_data\n",
    "# from scipy.sparse import coo_matrix\n",
    "import seaborn as sns\n",
    "import dgl\n",
    "import tqdm"
   ]
  },
  {
   "cell_type": "code",
   "execution_count": 2,
   "metadata": {},
   "outputs": [
    {
     "name": "stdout",
     "output_type": "stream",
     "text": [
      "load browsing done...\n",
      "load search done...\n",
      "load sku done...\n",
      "load info done...\n"
     ]
    }
   ],
   "source": [
    "browsing, search, sku, info = load_data('../dataset/new/')"
   ]
  },
  {
   "cell_type": "code",
   "execution_count": 3,
   "metadata": {},
   "outputs": [
    {
     "data": {
      "text/plain": [
       "(66386, 498843, 5153009)"
      ]
     },
     "execution_count": 3,
     "metadata": {},
     "output_type": "execute_result"
    }
   ],
   "source": [
    "n_items = len(info.idx2item)\n",
    "n_urls = len(info.idx2url)\n",
    "n_sess = len(info.idx2sess)\n",
    "n_items, n_urls, n_sess"
   ]
  },
  {
   "cell_type": "code",
   "execution_count": 4,
   "metadata": {},
   "outputs": [],
   "source": [
    "sess_offset = 0\n",
    "item_offset = n_sess\n",
    "url_offset = n_sess + n_items"
   ]
  },
  {
   "cell_type": "code",
   "execution_count": 5,
   "metadata": {},
   "outputs": [],
   "source": [
    "browsing.sort_values(by=['product_action'], inplace=True)"
   ]
  },
  {
   "cell_type": "code",
   "execution_count": 6,
   "metadata": {},
   "outputs": [
    {
     "data": {
      "text/plain": [
       "25963435"
      ]
     },
     "execution_count": 6,
     "metadata": {},
     "output_type": "execute_result"
    }
   ],
   "source": [
    "browsing['product_sku_hash'].isnull().sum()"
   ]
  },
  {
   "cell_type": "code",
   "execution_count": 7,
   "metadata": {},
   "outputs": [],
   "source": [
    "url2item = browsing.dropna().drop_duplicates(subset=['hashed_url', 'product_sku_hash']).groupby('hashed_url')['product_sku_hash'].agg(list)\n",
    "url2item = url2item.reset_index()\n",
    "url2item['product_sku_hash'] = url2item['product_sku_hash'].apply(lambda x: x[0])\n",
    "url2item = np.vstack(url2item.values).T\n",
    "url2item = url2item.astype(int).tolist()\n",
    "url2item = dict(zip(*url2item))\n",
    "browsing['product_sku_hash'] = browsing['hashed_url'].map(url2item.get)"
   ]
  },
  {
   "cell_type": "code",
   "execution_count": 8,
   "metadata": {},
   "outputs": [
    {
     "data": {
      "text/plain": [
       "14438082"
      ]
     },
     "execution_count": 8,
     "metadata": {},
     "output_type": "execute_result"
    }
   ],
   "source": [
    "browsing['product_sku_hash'].isnull().sum()"
   ]
  },
  {
   "cell_type": "code",
   "execution_count": 9,
   "metadata": {},
   "outputs": [],
   "source": [
    "browsing = browsing.drop_duplicates(subset=['session_id_hash', 'hashed_url'])"
   ]
  },
  {
   "cell_type": "code",
   "execution_count": 10,
   "metadata": {},
   "outputs": [
    {
     "data": {
      "text/html": [
       "<div>\n",
       "<style scoped>\n",
       "    .dataframe tbody tr th:only-of-type {\n",
       "        vertical-align: middle;\n",
       "    }\n",
       "\n",
       "    .dataframe tbody tr th {\n",
       "        vertical-align: top;\n",
       "    }\n",
       "\n",
       "    .dataframe thead th {\n",
       "        text-align: right;\n",
       "    }\n",
       "</style>\n",
       "<table border=\"1\" class=\"dataframe\">\n",
       "  <thead>\n",
       "    <tr style=\"text-align: right;\">\n",
       "      <th></th>\n",
       "      <th></th>\n",
       "      <th>session_id_hash</th>\n",
       "      <th>product_action</th>\n",
       "      <th>product_sku_hash</th>\n",
       "      <th>server_timestamp_epoch_ms</th>\n",
       "      <th>hashed_url</th>\n",
       "    </tr>\n",
       "  </thead>\n",
       "  <tbody>\n",
       "    <tr>\n",
       "      <th rowspan=\"11\" valign=\"top\">train</th>\n",
       "      <th>0</th>\n",
       "      <td>0</td>\n",
       "      <td>0</td>\n",
       "      <td>31231.0</td>\n",
       "      <td>1550885210881</td>\n",
       "      <td>0</td>\n",
       "    </tr>\n",
       "    <tr>\n",
       "      <th>17461068</th>\n",
       "      <td>2402655</td>\n",
       "      <td>0</td>\n",
       "      <td>40863.0</td>\n",
       "      <td>1552340834849</td>\n",
       "      <td>965</td>\n",
       "    </tr>\n",
       "    <tr>\n",
       "      <th>17461070</th>\n",
       "      <td>2402656</td>\n",
       "      <td>0</td>\n",
       "      <td>40863.0</td>\n",
       "      <td>1552345086081</td>\n",
       "      <td>965</td>\n",
       "    </tr>\n",
       "    <tr>\n",
       "      <th>17461074</th>\n",
       "      <td>2402658</td>\n",
       "      <td>0</td>\n",
       "      <td>59397.0</td>\n",
       "      <td>1552502999526</td>\n",
       "      <td>6794</td>\n",
       "    </tr>\n",
       "    <tr>\n",
       "      <th>17461077</th>\n",
       "      <td>2402659</td>\n",
       "      <td>0</td>\n",
       "      <td>3067.0</td>\n",
       "      <td>1550351042835</td>\n",
       "      <td>13163</td>\n",
       "    </tr>\n",
       "    <tr>\n",
       "      <th>...</th>\n",
       "      <td>...</td>\n",
       "      <td>...</td>\n",
       "      <td>...</td>\n",
       "      <td>...</td>\n",
       "      <td>...</td>\n",
       "    </tr>\n",
       "    <tr>\n",
       "      <th>28916897</th>\n",
       "      <td>3954730</td>\n",
       "      <td>4</td>\n",
       "      <td>61002.0</td>\n",
       "      <td>1550450108643</td>\n",
       "      <td>744</td>\n",
       "    </tr>\n",
       "    <tr>\n",
       "      <th>32409673</th>\n",
       "      <td>4430748</td>\n",
       "      <td>4</td>\n",
       "      <td>41131.0</td>\n",
       "      <td>1548105007429</td>\n",
       "      <td>747</td>\n",
       "    </tr>\n",
       "    <tr>\n",
       "      <th>32409659</th>\n",
       "      <td>4430748</td>\n",
       "      <td>4</td>\n",
       "      <td>42812.0</td>\n",
       "      <td>1548104958010</td>\n",
       "      <td>453466</td>\n",
       "    </tr>\n",
       "    <tr>\n",
       "      <th>17566891</th>\n",
       "      <td>2417261</td>\n",
       "      <td>4</td>\n",
       "      <td>24448.0</td>\n",
       "      <td>1550253552788</td>\n",
       "      <td>293410</td>\n",
       "    </tr>\n",
       "    <tr>\n",
       "      <th>11621104</th>\n",
       "      <td>1600189</td>\n",
       "      <td>4</td>\n",
       "      <td>3450.0</td>\n",
       "      <td>1550906257918</td>\n",
       "      <td>221575</td>\n",
       "    </tr>\n",
       "  </tbody>\n",
       "</table>\n",
       "<p>17828725 rows × 5 columns</p>\n",
       "</div>"
      ],
      "text/plain": [
       "                session_id_hash  product_action  product_sku_hash  \\\n",
       "train 0                       0               0           31231.0   \n",
       "      17461068          2402655               0           40863.0   \n",
       "      17461070          2402656               0           40863.0   \n",
       "      17461074          2402658               0           59397.0   \n",
       "      17461077          2402659               0            3067.0   \n",
       "...                         ...             ...               ...   \n",
       "      28916897          3954730               4           61002.0   \n",
       "      32409673          4430748               4           41131.0   \n",
       "      32409659          4430748               4           42812.0   \n",
       "      17566891          2417261               4           24448.0   \n",
       "      11621104          1600189               4            3450.0   \n",
       "\n",
       "                server_timestamp_epoch_ms  hashed_url  \n",
       "train 0                     1550885210881           0  \n",
       "      17461068              1552340834849         965  \n",
       "      17461070              1552345086081         965  \n",
       "      17461074              1552502999526        6794  \n",
       "      17461077              1550351042835       13163  \n",
       "...                                   ...         ...  \n",
       "      28916897              1550450108643         744  \n",
       "      32409673              1548105007429         747  \n",
       "      32409659              1548104958010      453466  \n",
       "      17566891              1550253552788      293410  \n",
       "      11621104              1550906257918      221575  \n",
       "\n",
       "[17828725 rows x 5 columns]"
      ]
     },
     "execution_count": 10,
     "metadata": {},
     "output_type": "execute_result"
    }
   ],
   "source": [
    "browsing "
   ]
  },
  {
   "cell_type": "code",
   "execution_count": 11,
   "metadata": {},
   "outputs": [],
   "source": [
    "browsing['session_id_hash'] += sess_offset\n",
    "browsing['product_sku_hash'] += item_offset\n",
    "browsing['hashed_url'] += url_offset"
   ]
  },
  {
   "cell_type": "code",
   "execution_count": 12,
   "metadata": {},
   "outputs": [],
   "source": [
    "browsing.sort_values(by=['session_id_hash', 'server_timestamp_epoch_ms'], inplace=True)"
   ]
  },
  {
   "cell_type": "code",
   "execution_count": 13,
   "metadata": {},
   "outputs": [],
   "source": [
    "s2u = browsing[['session_id_hash', 'hashed_url']]"
   ]
  },
  {
   "cell_type": "code",
   "execution_count": 14,
   "metadata": {},
   "outputs": [
    {
     "data": {
      "text/html": [
       "<div>\n",
       "<style scoped>\n",
       "    .dataframe tbody tr th:only-of-type {\n",
       "        vertical-align: middle;\n",
       "    }\n",
       "\n",
       "    .dataframe tbody tr th {\n",
       "        vertical-align: top;\n",
       "    }\n",
       "\n",
       "    .dataframe thead th {\n",
       "        text-align: right;\n",
       "    }\n",
       "</style>\n",
       "<table border=\"1\" class=\"dataframe\">\n",
       "  <thead>\n",
       "    <tr style=\"text-align: right;\">\n",
       "      <th></th>\n",
       "      <th></th>\n",
       "      <th>session_id_hash</th>\n",
       "      <th>hashed_url</th>\n",
       "    </tr>\n",
       "  </thead>\n",
       "  <tbody>\n",
       "    <tr>\n",
       "      <th rowspan=\"5\" valign=\"top\">train</th>\n",
       "      <th>16758585</th>\n",
       "      <td>0</td>\n",
       "      <td>5225265</td>\n",
       "    </tr>\n",
       "    <tr>\n",
       "      <th>16758591</th>\n",
       "      <td>0</td>\n",
       "      <td>5221582</td>\n",
       "    </tr>\n",
       "    <tr>\n",
       "      <th>16758608</th>\n",
       "      <td>0</td>\n",
       "      <td>5219396</td>\n",
       "    </tr>\n",
       "    <tr>\n",
       "      <th>0</th>\n",
       "      <td>0</td>\n",
       "      <td>5219395</td>\n",
       "    </tr>\n",
       "    <tr>\n",
       "      <th>5</th>\n",
       "      <td>0</td>\n",
       "      <td>5219397</td>\n",
       "    </tr>\n",
       "    <tr>\n",
       "      <th>...</th>\n",
       "      <th>...</th>\n",
       "      <td>...</td>\n",
       "      <td>...</td>\n",
       "    </tr>\n",
       "    <tr>\n",
       "      <th rowspan=\"5\" valign=\"top\">test</th>\n",
       "      <th>559511</th>\n",
       "      <td>5076752</td>\n",
       "      <td>5219411</td>\n",
       "    </tr>\n",
       "    <tr>\n",
       "      <th>559512</th>\n",
       "      <td>5076752</td>\n",
       "      <td>5227233</td>\n",
       "    </tr>\n",
       "    <tr>\n",
       "      <th>559513</th>\n",
       "      <td>5076752</td>\n",
       "      <td>5244004</td>\n",
       "    </tr>\n",
       "    <tr>\n",
       "      <th>559514</th>\n",
       "      <td>5076753</td>\n",
       "      <td>5219571</td>\n",
       "    </tr>\n",
       "    <tr>\n",
       "      <th>559515</th>\n",
       "      <td>5076754</td>\n",
       "      <td>5223647</td>\n",
       "    </tr>\n",
       "  </tbody>\n",
       "</table>\n",
       "<p>17828725 rows × 2 columns</p>\n",
       "</div>"
      ],
      "text/plain": [
       "                session_id_hash  hashed_url\n",
       "train 16758585                0     5225265\n",
       "      16758591                0     5221582\n",
       "      16758608                0     5219396\n",
       "      0                       0     5219395\n",
       "      5                       0     5219397\n",
       "...                         ...         ...\n",
       "test  559511            5076752     5219411\n",
       "      559512            5076752     5227233\n",
       "      559513            5076752     5244004\n",
       "      559514            5076753     5219571\n",
       "      559515            5076754     5223647\n",
       "\n",
       "[17828725 rows x 2 columns]"
      ]
     },
     "execution_count": 14,
     "metadata": {},
     "output_type": "execute_result"
    }
   ],
   "source": [
    "s2u"
   ]
  },
  {
   "cell_type": "code",
   "execution_count": 15,
   "metadata": {},
   "outputs": [],
   "source": [
    "s2i = browsing.dropna()[['session_id_hash', 'product_sku_hash']]"
   ]
  },
  {
   "cell_type": "code",
   "execution_count": 16,
   "metadata": {},
   "outputs": [],
   "source": [
    "sess2url = np.vstack([s2u['session_id_hash'].values, s2u['hashed_url'].values])"
   ]
  },
  {
   "cell_type": "code",
   "execution_count": 17,
   "metadata": {},
   "outputs": [
    {
     "data": {
      "text/html": [
       "<div>\n",
       "<style scoped>\n",
       "    .dataframe tbody tr th:only-of-type {\n",
       "        vertical-align: middle;\n",
       "    }\n",
       "\n",
       "    .dataframe tbody tr th {\n",
       "        vertical-align: top;\n",
       "    }\n",
       "\n",
       "    .dataframe thead th {\n",
       "        text-align: right;\n",
       "    }\n",
       "</style>\n",
       "<table border=\"1\" class=\"dataframe\">\n",
       "  <thead>\n",
       "    <tr style=\"text-align: right;\">\n",
       "      <th></th>\n",
       "      <th></th>\n",
       "      <th>session_id_hash</th>\n",
       "      <th>product_sku_hash</th>\n",
       "    </tr>\n",
       "  </thead>\n",
       "  <tbody>\n",
       "    <tr>\n",
       "      <th rowspan=\"5\" valign=\"top\">train</th>\n",
       "      <th>16758585</th>\n",
       "      <td>0</td>\n",
       "      <td>5195121.0</td>\n",
       "    </tr>\n",
       "    <tr>\n",
       "      <th>16758608</th>\n",
       "      <td>0</td>\n",
       "      <td>5183503.0</td>\n",
       "    </tr>\n",
       "    <tr>\n",
       "      <th>0</th>\n",
       "      <td>0</td>\n",
       "      <td>5184240.0</td>\n",
       "    </tr>\n",
       "    <tr>\n",
       "      <th>16</th>\n",
       "      <td>0</td>\n",
       "      <td>5169836.0</td>\n",
       "    </tr>\n",
       "    <tr>\n",
       "      <th>20</th>\n",
       "      <td>0</td>\n",
       "      <td>5171877.0</td>\n",
       "    </tr>\n",
       "    <tr>\n",
       "      <th>...</th>\n",
       "      <th>...</th>\n",
       "      <td>...</td>\n",
       "      <td>...</td>\n",
       "    </tr>\n",
       "    <tr>\n",
       "      <th rowspan=\"5\" valign=\"top\">test</th>\n",
       "      <th>559505</th>\n",
       "      <td>5076751</td>\n",
       "      <td>5213900.0</td>\n",
       "    </tr>\n",
       "    <tr>\n",
       "      <th>559512</th>\n",
       "      <td>5076752</td>\n",
       "      <td>5160118.0</td>\n",
       "    </tr>\n",
       "    <tr>\n",
       "      <th>559513</th>\n",
       "      <td>5076752</td>\n",
       "      <td>5166501.0</td>\n",
       "    </tr>\n",
       "    <tr>\n",
       "      <th>559514</th>\n",
       "      <td>5076753</td>\n",
       "      <td>5210297.0</td>\n",
       "    </tr>\n",
       "    <tr>\n",
       "      <th>559515</th>\n",
       "      <td>5076754</td>\n",
       "      <td>5189663.0</td>\n",
       "    </tr>\n",
       "  </tbody>\n",
       "</table>\n",
       "<p>8739602 rows × 2 columns</p>\n",
       "</div>"
      ],
      "text/plain": [
       "                session_id_hash  product_sku_hash\n",
       "train 16758585                0         5195121.0\n",
       "      16758608                0         5183503.0\n",
       "      0                       0         5184240.0\n",
       "      16                      0         5169836.0\n",
       "      20                      0         5171877.0\n",
       "...                         ...               ...\n",
       "test  559505            5076751         5213900.0\n",
       "      559512            5076752         5160118.0\n",
       "      559513            5076752         5166501.0\n",
       "      559514            5076753         5210297.0\n",
       "      559515            5076754         5189663.0\n",
       "\n",
       "[8739602 rows x 2 columns]"
      ]
     },
     "execution_count": 17,
     "metadata": {},
     "output_type": "execute_result"
    }
   ],
   "source": [
    "s2i"
   ]
  },
  {
   "cell_type": "code",
   "execution_count": 18,
   "metadata": {},
   "outputs": [],
   "source": [
    "sess2item = np.vstack([s2i['session_id_hash'].values, s2i['product_sku_hash'].values])"
   ]
  },
  {
   "cell_type": "code",
   "execution_count": 19,
   "metadata": {},
   "outputs": [
    {
     "data": {
      "text/plain": [
       "array([[      0.,       0.,       0., ..., 5076752., 5076753., 5076754.],\n",
       "       [5195121., 5183503., 5184240., ..., 5166501., 5210297., 5189663.]])"
      ]
     },
     "execution_count": 19,
     "metadata": {},
     "output_type": "execute_result"
    }
   ],
   "source": [
    "sess2item"
   ]
  },
  {
   "cell_type": "code",
   "execution_count": 20,
   "metadata": {},
   "outputs": [
    {
     "data": {
      "text/plain": [
       "array([[      0,       0,       0, ..., 5076752, 5076753, 5076754],\n",
       "       [5225265, 5221582, 5219396, ..., 5244004, 5219571, 5223647]])"
      ]
     },
     "execution_count": 20,
     "metadata": {},
     "output_type": "execute_result"
    }
   ],
   "source": [
    "sess2url"
   ]
  },
  {
   "cell_type": "code",
   "execution_count": 21,
   "metadata": {},
   "outputs": [],
   "source": [
    "edges = np.concatenate((sess2item, sess2url), axis=1).astype(int)"
   ]
  },
  {
   "cell_type": "code",
   "execution_count": 22,
   "metadata": {},
   "outputs": [],
   "source": [
    "graph = pd.DataFrame(edges.T)"
   ]
  },
  {
   "cell_type": "code",
   "execution_count": 23,
   "metadata": {},
   "outputs": [
    {
     "data": {
      "text/html": [
       "<div>\n",
       "<style scoped>\n",
       "    .dataframe tbody tr th:only-of-type {\n",
       "        vertical-align: middle;\n",
       "    }\n",
       "\n",
       "    .dataframe tbody tr th {\n",
       "        vertical-align: top;\n",
       "    }\n",
       "\n",
       "    .dataframe thead th {\n",
       "        text-align: right;\n",
       "    }\n",
       "</style>\n",
       "<table border=\"1\" class=\"dataframe\">\n",
       "  <thead>\n",
       "    <tr style=\"text-align: right;\">\n",
       "      <th></th>\n",
       "      <th>src_id</th>\n",
       "      <th>dst_id</th>\n",
       "    </tr>\n",
       "  </thead>\n",
       "  <tbody>\n",
       "    <tr>\n",
       "      <th>3</th>\n",
       "      <td>0</td>\n",
       "      <td>5169836</td>\n",
       "    </tr>\n",
       "    <tr>\n",
       "      <th>4</th>\n",
       "      <td>0</td>\n",
       "      <td>5171877</td>\n",
       "    </tr>\n",
       "    <tr>\n",
       "      <th>1</th>\n",
       "      <td>0</td>\n",
       "      <td>5183503</td>\n",
       "    </tr>\n",
       "    <tr>\n",
       "      <th>2</th>\n",
       "      <td>0</td>\n",
       "      <td>5184240</td>\n",
       "    </tr>\n",
       "    <tr>\n",
       "      <th>0</th>\n",
       "      <td>0</td>\n",
       "      <td>5195121</td>\n",
       "    </tr>\n",
       "    <tr>\n",
       "      <th>...</th>\n",
       "      <td>...</td>\n",
       "      <td>...</td>\n",
       "    </tr>\n",
       "    <tr>\n",
       "      <th>26568324</th>\n",
       "      <td>5076752</td>\n",
       "      <td>5244004</td>\n",
       "    </tr>\n",
       "    <tr>\n",
       "      <th>8739600</th>\n",
       "      <td>5076753</td>\n",
       "      <td>5210297</td>\n",
       "    </tr>\n",
       "    <tr>\n",
       "      <th>26568325</th>\n",
       "      <td>5076753</td>\n",
       "      <td>5219571</td>\n",
       "    </tr>\n",
       "    <tr>\n",
       "      <th>8739601</th>\n",
       "      <td>5076754</td>\n",
       "      <td>5189663</td>\n",
       "    </tr>\n",
       "    <tr>\n",
       "      <th>26568326</th>\n",
       "      <td>5076754</td>\n",
       "      <td>5223647</td>\n",
       "    </tr>\n",
       "  </tbody>\n",
       "</table>\n",
       "<p>26568327 rows × 2 columns</p>\n",
       "</div>"
      ],
      "text/plain": [
       "           src_id   dst_id\n",
       "3               0  5169836\n",
       "4               0  5171877\n",
       "1               0  5183503\n",
       "2               0  5184240\n",
       "0               0  5195121\n",
       "...           ...      ...\n",
       "26568324  5076752  5244004\n",
       "8739600   5076753  5210297\n",
       "26568325  5076753  5219571\n",
       "8739601   5076754  5189663\n",
       "26568326  5076754  5223647\n",
       "\n",
       "[26568327 rows x 2 columns]"
      ]
     },
     "execution_count": 23,
     "metadata": {},
     "output_type": "execute_result"
    }
   ],
   "source": [
    "graph.columns = ['src_id', 'dst_id']\n",
    "graph.sort_values(by=['src_id', 'dst_id'])"
   ]
  },
  {
   "cell_type": "code",
   "execution_count": 24,
   "metadata": {},
   "outputs": [],
   "source": [
    "np.save('../dataset/prepared/i-s-u.npy', graph.values)"
   ]
  },
  {
   "cell_type": "code",
   "execution_count": 29,
   "metadata": {},
   "outputs": [],
   "source": [
    "import torch"
   ]
  },
  {
   "cell_type": "code",
   "execution_count": 32,
   "metadata": {},
   "outputs": [],
   "source": [
    "src_ids = np.concatenate((graph['src_id'].values, graph['dst_id'].values))\n",
    "dst_ids = np.concatenate((graph['dst_id'].values, graph['src_id'].values))"
   ]
  },
  {
   "cell_type": "code",
   "execution_count": 47,
   "metadata": {},
   "outputs": [],
   "source": [
    "g = dgl.graph((src_ids, dst_ids))"
   ]
  },
  {
   "cell_type": "code",
   "execution_count": 34,
   "metadata": {},
   "outputs": [],
   "source": [
    "dgl.save_graphs('../dataset/prepared/i-s-u.dgl', g)"
   ]
  },
  {
   "cell_type": "code",
   "execution_count": 42,
   "metadata": {},
   "outputs": [
    {
     "data": {
      "text/plain": [
       "5718238"
      ]
     },
     "execution_count": 42,
     "metadata": {},
     "output_type": "execute_result"
    }
   ],
   "source": [
    "g.num_nodes()"
   ]
  },
  {
   "cell_type": "code",
   "execution_count": null,
   "metadata": {},
   "outputs": [],
   "source": [
    "g.num_edges()"
   ]
  },
  {
   "cell_type": "code",
   "execution_count": 50,
   "metadata": {},
   "outputs": [],
   "source": [
    "graph.to_csv('../dataset/prepared/i-s-u.txt', index=False, header=False, sep=' ')"
   ]
  },
  {
   "cell_type": "code",
   "execution_count": 4,
   "metadata": {},
   "outputs": [
    {
     "name": "stdout",
     "output_type": "stream",
     "text": [
      "5628145 128\n",
      "0 0.4994327 0.12726587 -0.027790219 -0.48828262 0.4506812 -0.28060484 -0.4875493 0.62042034 -0.07670465 -0.63580567 -0.5657148 0.14789246 0.50255185 -0.020030126 -0.2060916 0.15345676 0.26373643 -0.45672342 0.4083202 -0.32718456 -0.12983443 -0.023214897 -0.091956116 0.21912357 -0.24596201 -0.394155 -0.5212407 0.4753517 0.6072154 0.35876873 0.7731848 0.23297629 -0.1569679 0.29665664 -0.4629792 0.22425805 0.12827586 0.026289023 0.44236562 0.037490644 0.38673767 -0.782304 -0.45497724 0.17532767 -0.22079006 0.39620486 -0.15203534 -0.10208359 -0.14580393 0.28251457 -0.47726864 0.32036272 -0.43612897 -0.09965496 0.7598768 0.010068815 0.2567218 -0.30063564 0.37460154 -0.5213604 0.29501447 0.21126814 0.1323055 0.6681945 -0.18075651 0.048518308 0.298775 0.026097434 -0.2197725 -0.26472113 0.50297385 -0.05403956 -0.28318897 0.0039339466 0.8466319 -0.34298763 -0.5566619 -0.058480375 -0.3603743 0.8381076 0.061375223 0.18920843 -0.47329074 -0.2981344 -0.05962424 -0.5673387 -0.34831032 -0.0062748627 0.11560013 0.19240071 -0.049241003 0.9433603 0.17887932 -0.0028049075 0.08298652 0.014568575 0.5546568 -0.10601043 0.2779509 -0.10725166 0.24591695 -0.060463224 0.2779303 -0.13324171 -0.25900578 0.6676398 0.07861946 0.15952897 0.20035222 -0.28177738 -0.09851183 0.45282316 -0.09936305 0.21153162 0.02728639 -0.27647418 0.3852023 -0.023406623 -0.18032935 -0.22264445 0.8054421 -0.011382304 -0.5213 -0.28027856 -0.37098008 0.05227695 0.26519132 -0.3095603\n"
     ]
    }
   ],
   "source": [
    "!head -n 2 ./deepwalk/deepwalk.txt"
   ]
  },
  {
   "cell_type": "markdown",
   "metadata": {},
   "source": [
    "# Load Embedding"
   ]
  },
  {
   "cell_type": "code",
   "execution_count": 5,
   "metadata": {},
   "outputs": [
    {
     "name": "stderr",
     "output_type": "stream",
     "text": [
      "5628145it [03:47, 24779.95it/s]\n"
     ]
    }
   ],
   "source": [
    "with open('deepwalk/deepwalk.txt', 'r') as f:\n",
    "    line = f.readline()\n",
    "    embedding = torch.zeros(5718238, 128)\n",
    "    for line in tqdm.tqdm(f):\n",
    "        line = line.split(' ')\n",
    "        node_id  = int(line[0])\n",
    "        node_vec = list(map(float, line[1:]))\n",
    "        embedding[node_id] = torch.tensor(node_vec)"
   ]
  },
  {
   "cell_type": "code",
   "execution_count": 12,
   "metadata": {},
   "outputs": [],
   "source": [
    "graph = np.load('../dataset/prepared/i-s-u.npy')"
   ]
  },
  {
   "cell_type": "code",
   "execution_count": 6,
   "metadata": {},
   "outputs": [],
   "source": [
    "sess_embed = embedding[:n_sess]\n",
    "with open('../dataset/prepared/dw_sess.pkl', 'wb') as f:\n",
    "    pickle.dump(sess_embed.numpy(), f)\n",
    "sess_embed = F.normalize(sess_embed, dim=1)"
   ]
  },
  {
   "cell_type": "code",
   "execution_count": 7,
   "metadata": {},
   "outputs": [],
   "source": [
    "sku_embed = embedding[n_sess:n_sess+n_items]\n",
    "with open('../dataset/prepared/dw_sku.pkl', 'wb') as f:\n",
    "    pickle.dump(sku_embed.numpy(), f)\n",
    "sku_embed = F.normalize(sku_embed, dim=1)"
   ]
  },
  {
   "cell_type": "code",
   "execution_count": 8,
   "metadata": {},
   "outputs": [],
   "source": [
    "test_ids = torch.from_numpy(browsing.loc['test', 'session_id_hash'].unique()).long()"
   ]
  },
  {
   "cell_type": "code",
   "execution_count": 33,
   "metadata": {},
   "outputs": [],
   "source": [
    "results = sess_embed[test_ids].mm(sku_embed.t())"
   ]
  },
  {
   "cell_type": "code",
   "execution_count": 35,
   "metadata": {},
   "outputs": [],
   "source": [
    "test_items = np.load('../dataset/prepared/test_items.npy')\n",
    "results[:, test_items] += 100"
   ]
  },
  {
   "cell_type": "code",
   "execution_count": 36,
   "metadata": {},
   "outputs": [],
   "source": [
    "topks = torch.topk(results, k=20, dim=1)[1]"
   ]
  },
  {
   "cell_type": "code",
   "execution_count": 38,
   "metadata": {},
   "outputs": [],
   "source": [
    "result = (test_ids.tolist(), topks.numpy().tolist())"
   ]
  },
  {
   "cell_type": "code",
   "execution_count": 29,
   "metadata": {},
   "outputs": [],
   "source": [
    "test_item_set = set(test_items)"
   ]
  },
  {
   "cell_type": "code",
   "execution_count": 39,
   "metadata": {},
   "outputs": [],
   "source": [
    "with open('../results/deepwalk_i_s_u.pkl', 'wb') as f:\n",
    "    pickle.dump(result, f)"
   ]
  },
  {
   "cell_type": "code",
   "execution_count": 40,
   "metadata": {},
   "outputs": [],
   "source": [
    "missing = 0\n",
    "for lst in result[1]:\n",
    "    for iid in lst:\n",
    "        if iid not in test_item_set:\n",
    "            missing +=1 "
   ]
  },
  {
   "cell_type": "code",
   "execution_count": null,
   "metadata": {},
   "outputs": [],
   "source": []
  }
 ],
 "metadata": {
  "kernelspec": {
   "display_name": "pyg",
   "language": "python",
   "name": "pyg"
  },
  "language_info": {
   "codemirror_mode": {
    "name": "ipython",
    "version": 3
   },
   "file_extension": ".py",
   "mimetype": "text/x-python",
   "name": "python",
   "nbconvert_exporter": "python",
   "pygments_lexer": "ipython3",
   "version": "3.7.0"
  }
 },
 "nbformat": 4,
 "nbformat_minor": 4
}
